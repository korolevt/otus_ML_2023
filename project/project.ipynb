{
 "cells": [
  {
   "cell_type": "markdown",
   "metadata": {},
   "source": [
    "# Проектная работа. Рекомендательные системы"
   ]
  },
  {
   "cell_type": "markdown",
   "metadata": {},
   "source": [
    "## Получение датасета "
   ]
  },
  {
   "cell_type": "code",
   "execution_count": 1,
   "metadata": {},
   "outputs": [],
   "source": [
    "import json\n",
    "import gzip\n",
    "import numpy as np\n",
    "import pandas as pd\n",
    "pd.options.mode.chained_assignment = None  # default='warn'\n",
    "\n",
    "# Библиотеки по машинному обучению\n",
    "from sklearn.metrics import mean_squared_error\n",
    "from sklearn.metrics.pairwise import cosine_similarity\n",
    "from sklearn.base import BaseEstimator\n",
    "from sklearn.feature_extraction.text import TfidfVectorizer, TfidfTransformer\n",
    "\n",
    "# Библиотеки построения диаграмм\n",
    "from matplotlib import pyplot as plt\n",
    "import seaborn as sns\n",
    "\n",
    "# Установка режима отображения диаграмм\n",
    "%matplotlib inline\n",
    "plt.rcParams[\"figure.figsize\"] = (18, 5)\n",
    "plt.style.use(\"ggplot\")"
   ]
  },
  {
   "cell_type": "markdown",
   "metadata": {},
   "source": [
    "В рамках проектной работы я взял для исследования данные из открытого источника amazon, которые будут похожи на реальные данные (я брал разные наборы данных о продаже техники, программного обеспечения и цифровой музыки – и алгоритмы работали схоже). Далее уже в рамках пилотного проекта будет запрошена реальная база данных клиентов и товаров."
   ]
  },
  {
   "cell_type": "markdown",
   "metadata": {},
   "source": [
    "Берем данные по продаже программного обеспечения по ссылке https://nijianmo.github.io/amazon/index.html,"
   ]
  },
  {
   "cell_type": "code",
   "execution_count": 2,
   "metadata": {},
   "outputs": [],
   "source": [
    "# Функция чтения данных из файла gzip - json\n",
    "def parse(path):\n",
    "    for line in gzip.open(path, 'rb'):\n",
    "        yield json.loads(line)\n",
    "\n",
    "# Функция загрузки данных из файла json в датафрейм\n",
    "def get_dataframe(path):\n",
    "    data = {}\n",
    "    for i, item in enumerate(parse(path)):\n",
    "        data[i] = item\n",
    "        \n",
    "    return pd.DataFrame.from_dict(data, orient='index')"
   ]
  },
  {
   "cell_type": "code",
   "execution_count": 3,
   "metadata": {
    "scrolled": true
   },
   "outputs": [
    {
     "name": "stdout",
     "output_type": "stream",
     "text": [
      "459436\n"
     ]
    },
    {
     "data": {
      "text/html": [
       "<div>\n",
       "<style scoped>\n",
       "    .dataframe tbody tr th:only-of-type {\n",
       "        vertical-align: middle;\n",
       "    }\n",
       "\n",
       "    .dataframe tbody tr th {\n",
       "        vertical-align: top;\n",
       "    }\n",
       "\n",
       "    .dataframe thead th {\n",
       "        text-align: right;\n",
       "    }\n",
       "</style>\n",
       "<table border=\"1\" class=\"dataframe\">\n",
       "  <thead>\n",
       "    <tr style=\"text-align: right;\">\n",
       "      <th></th>\n",
       "      <th>overall</th>\n",
       "      <th>verified</th>\n",
       "      <th>reviewTime</th>\n",
       "      <th>reviewerID</th>\n",
       "      <th>asin</th>\n",
       "      <th>style</th>\n",
       "      <th>reviewerName</th>\n",
       "      <th>reviewText</th>\n",
       "      <th>summary</th>\n",
       "      <th>unixReviewTime</th>\n",
       "      <th>vote</th>\n",
       "      <th>image</th>\n",
       "    </tr>\n",
       "  </thead>\n",
       "  <tbody>\n",
       "    <tr>\n",
       "      <th>0</th>\n",
       "      <td>4.0</td>\n",
       "      <td>True</td>\n",
       "      <td>03 11, 2014</td>\n",
       "      <td>A240ORQ2LF9LUI</td>\n",
       "      <td>0077613252</td>\n",
       "      <td>{'Format:': ' Loose Leaf'}</td>\n",
       "      <td>Michelle W</td>\n",
       "      <td>The materials arrived early and were in excell...</td>\n",
       "      <td>Material Great</td>\n",
       "      <td>1394496000</td>\n",
       "      <td>NaN</td>\n",
       "      <td>NaN</td>\n",
       "    </tr>\n",
       "    <tr>\n",
       "      <th>1</th>\n",
       "      <td>4.0</td>\n",
       "      <td>True</td>\n",
       "      <td>02 23, 2014</td>\n",
       "      <td>A1YCCU0YRLS0FE</td>\n",
       "      <td>0077613252</td>\n",
       "      <td>{'Format:': ' Loose Leaf'}</td>\n",
       "      <td>Rosalind White Ames</td>\n",
       "      <td>I am really enjoying this book with the worksh...</td>\n",
       "      <td>Health</td>\n",
       "      <td>1393113600</td>\n",
       "      <td>NaN</td>\n",
       "      <td>NaN</td>\n",
       "    </tr>\n",
       "    <tr>\n",
       "      <th>2</th>\n",
       "      <td>1.0</td>\n",
       "      <td>True</td>\n",
       "      <td>02 17, 2014</td>\n",
       "      <td>A1BJHRQDYVAY2J</td>\n",
       "      <td>0077613252</td>\n",
       "      <td>{'Format:': ' Loose Leaf'}</td>\n",
       "      <td>Allan R. Baker</td>\n",
       "      <td>IF YOU ARE TAKING THIS CLASS DON\"T WASTE YOUR ...</td>\n",
       "      <td>ARE YOU KIDING ME?</td>\n",
       "      <td>1392595200</td>\n",
       "      <td>7</td>\n",
       "      <td>NaN</td>\n",
       "    </tr>\n",
       "    <tr>\n",
       "      <th>3</th>\n",
       "      <td>3.0</td>\n",
       "      <td>True</td>\n",
       "      <td>02 17, 2014</td>\n",
       "      <td>APRDVZ6QBIQXT</td>\n",
       "      <td>0077613252</td>\n",
       "      <td>{'Format:': ' Loose Leaf'}</td>\n",
       "      <td>Lucy</td>\n",
       "      <td>This book was missing pages!!! Important pages...</td>\n",
       "      <td>missing pages!!</td>\n",
       "      <td>1392595200</td>\n",
       "      <td>3</td>\n",
       "      <td>NaN</td>\n",
       "    </tr>\n",
       "    <tr>\n",
       "      <th>4</th>\n",
       "      <td>5.0</td>\n",
       "      <td>False</td>\n",
       "      <td>10 14, 2013</td>\n",
       "      <td>A2JZTTBSLS1QXV</td>\n",
       "      <td>0077775473</td>\n",
       "      <td>NaN</td>\n",
       "      <td>Albert V.</td>\n",
       "      <td>I have used LearnSmart and can officially say ...</td>\n",
       "      <td>Best study product out there!</td>\n",
       "      <td>1381708800</td>\n",
       "      <td>NaN</td>\n",
       "      <td>NaN</td>\n",
       "    </tr>\n",
       "  </tbody>\n",
       "</table>\n",
       "</div>"
      ],
      "text/plain": [
       "   overall  verified   reviewTime      reviewerID        asin  \\\n",
       "0      4.0      True  03 11, 2014  A240ORQ2LF9LUI  0077613252   \n",
       "1      4.0      True  02 23, 2014  A1YCCU0YRLS0FE  0077613252   \n",
       "2      1.0      True  02 17, 2014  A1BJHRQDYVAY2J  0077613252   \n",
       "3      3.0      True  02 17, 2014   APRDVZ6QBIQXT  0077613252   \n",
       "4      5.0     False  10 14, 2013  A2JZTTBSLS1QXV  0077775473   \n",
       "\n",
       "                        style         reviewerName  \\\n",
       "0  {'Format:': ' Loose Leaf'}           Michelle W   \n",
       "1  {'Format:': ' Loose Leaf'}  Rosalind White Ames   \n",
       "2  {'Format:': ' Loose Leaf'}       Allan R. Baker   \n",
       "3  {'Format:': ' Loose Leaf'}                 Lucy   \n",
       "4                         NaN            Albert V.   \n",
       "\n",
       "                                          reviewText  \\\n",
       "0  The materials arrived early and were in excell...   \n",
       "1  I am really enjoying this book with the worksh...   \n",
       "2  IF YOU ARE TAKING THIS CLASS DON\"T WASTE YOUR ...   \n",
       "3  This book was missing pages!!! Important pages...   \n",
       "4  I have used LearnSmart and can officially say ...   \n",
       "\n",
       "                         summary  unixReviewTime vote image  \n",
       "0                 Material Great      1394496000  NaN   NaN  \n",
       "1                         Health      1393113600  NaN   NaN  \n",
       "2             ARE YOU KIDING ME?      1392595200    7   NaN  \n",
       "3                missing pages!!      1392595200    3   NaN  \n",
       "4  Best study product out there!      1381708800  NaN   NaN  "
      ]
     },
     "execution_count": 3,
     "metadata": {},
     "output_type": "execute_result"
    }
   ],
   "source": [
    "# Загрузка данных по рейтингу продаж программного обеспечения\n",
    "# asin - идентификатор продукта, например, 111846130\n",
    "# reviewerID - идентификатор рецензента, например, A3NHUQ33CFH3VM \n",
    "# overall - рейтинг\n",
    "# reviewTime - время отзыва\n",
    "# reviewText - текст отзыва\n",
    "# summary - краткий отзыв\n",
    "#rating_data = pd.read_csv('Appliances.csv', names=['asin', 'reviewer_id', 'rating', 'timestamp'])\n",
    "rating_data = get_dataframe('Software.json.gz')\n",
    "print(len(rating_data))\n",
    "rating_data.head()"
   ]
  },
  {
   "cell_type": "code",
   "execution_count": 4,
   "metadata": {},
   "outputs": [
    {
     "name": "stdout",
     "output_type": "stream",
     "text": [
      "<class 'pandas.core.frame.DataFrame'>\n",
      "Int64Index: 459436 entries, 0 to 459435\n",
      "Data columns (total 12 columns):\n",
      " #   Column          Non-Null Count   Dtype  \n",
      "---  ------          --------------   -----  \n",
      " 0   overall         459436 non-null  float64\n",
      " 1   verified        459436 non-null  bool   \n",
      " 2   reviewTime      459436 non-null  object \n",
      " 3   reviewerID      459436 non-null  object \n",
      " 4   asin            459436 non-null  object \n",
      " 5   style           234401 non-null  object \n",
      " 6   reviewerName    459412 non-null  object \n",
      " 7   reviewText      459370 non-null  object \n",
      " 8   summary         459380 non-null  object \n",
      " 9   unixReviewTime  459436 non-null  int64  \n",
      " 10  vote            127853 non-null  object \n",
      " 11  image           1508 non-null    object \n",
      "dtypes: bool(1), float64(1), int64(1), object(9)\n",
      "memory usage: 42.5+ MB\n"
     ]
    }
   ],
   "source": [
    "rating_data.info()"
   ]
  },
  {
   "cell_type": "code",
   "execution_count": 5,
   "metadata": {},
   "outputs": [
    {
     "name": "stdout",
     "output_type": "stream",
     "text": [
      "26790\n"
     ]
    },
    {
     "data": {
      "text/html": [
       "<div>\n",
       "<style scoped>\n",
       "    .dataframe tbody tr th:only-of-type {\n",
       "        vertical-align: middle;\n",
       "    }\n",
       "\n",
       "    .dataframe tbody tr th {\n",
       "        vertical-align: top;\n",
       "    }\n",
       "\n",
       "    .dataframe thead th {\n",
       "        text-align: right;\n",
       "    }\n",
       "</style>\n",
       "<table border=\"1\" class=\"dataframe\">\n",
       "  <thead>\n",
       "    <tr style=\"text-align: right;\">\n",
       "      <th></th>\n",
       "      <th>category</th>\n",
       "      <th>tech1</th>\n",
       "      <th>description</th>\n",
       "      <th>fit</th>\n",
       "      <th>title</th>\n",
       "      <th>also_buy</th>\n",
       "      <th>tech2</th>\n",
       "      <th>brand</th>\n",
       "      <th>feature</th>\n",
       "      <th>rank</th>\n",
       "      <th>also_view</th>\n",
       "      <th>main_cat</th>\n",
       "      <th>similar_item</th>\n",
       "      <th>date</th>\n",
       "      <th>price</th>\n",
       "      <th>asin</th>\n",
       "      <th>imageURL</th>\n",
       "      <th>imageURLHighRes</th>\n",
       "      <th>details</th>\n",
       "    </tr>\n",
       "  </thead>\n",
       "  <tbody>\n",
       "    <tr>\n",
       "      <th>0</th>\n",
       "      <td>[]</td>\n",
       "      <td></td>\n",
       "      <td>[]</td>\n",
       "      <td></td>\n",
       "      <td>HOLT PHYSICS LESSON PRESENTATION CD-ROM QUICK ...</td>\n",
       "      <td>[]</td>\n",
       "      <td></td>\n",
       "      <td>HOLT. RINEHART AND WINSTON</td>\n",
       "      <td>[]</td>\n",
       "      <td>25,550 in Software (</td>\n",
       "      <td>[]</td>\n",
       "      <td>Software</td>\n",
       "      <td></td>\n",
       "      <td>&lt;/div&gt;</td>\n",
       "      <td>.a-box-inner{background-color:#fff}#alohaBuyBo...</td>\n",
       "      <td>0030672120</td>\n",
       "      <td>[]</td>\n",
       "      <td>[]</td>\n",
       "      <td>NaN</td>\n",
       "    </tr>\n",
       "    <tr>\n",
       "      <th>1</th>\n",
       "      <td>[]</td>\n",
       "      <td></td>\n",
       "      <td>[, &lt;b&gt;Latin rhythms that will get your kids si...</td>\n",
       "      <td></td>\n",
       "      <td>Sing, Watch, &amp;amp; Learn Spanish (DVD + Guide)...</td>\n",
       "      <td>[]</td>\n",
       "      <td></td>\n",
       "      <td>McGraw Hill</td>\n",
       "      <td>[]</td>\n",
       "      <td>15,792 in Software (</td>\n",
       "      <td>[]</td>\n",
       "      <td>Software</td>\n",
       "      <td></td>\n",
       "      <td>&lt;/div&gt;</td>\n",
       "      <td></td>\n",
       "      <td>0071480935</td>\n",
       "      <td>[https://images-na.ssl-images-amazon.com/image...</td>\n",
       "      <td>[https://images-na.ssl-images-amazon.com/image...</td>\n",
       "      <td>NaN</td>\n",
       "    </tr>\n",
       "    <tr>\n",
       "      <th>2</th>\n",
       "      <td>[]</td>\n",
       "      <td></td>\n",
       "      <td>[&lt;b&gt;Connect is the only integrated learning sy...</td>\n",
       "      <td></td>\n",
       "      <td>Connect with LearnSmart Access Card for Microb...</td>\n",
       "      <td>[]</td>\n",
       "      <td></td>\n",
       "      <td>McGraw-Hill Science/Engineering/Math</td>\n",
       "      <td>[]</td>\n",
       "      <td>16,900 in Software (</td>\n",
       "      <td>[]</td>\n",
       "      <td>Software</td>\n",
       "      <td></td>\n",
       "      <td>&lt;/div&gt;</td>\n",
       "      <td></td>\n",
       "      <td>007329506X</td>\n",
       "      <td>[https://images-na.ssl-images-amazon.com/image...</td>\n",
       "      <td>[https://images-na.ssl-images-amazon.com/image...</td>\n",
       "      <td>NaN</td>\n",
       "    </tr>\n",
       "    <tr>\n",
       "      <th>3</th>\n",
       "      <td>[]</td>\n",
       "      <td></td>\n",
       "      <td>[]</td>\n",
       "      <td></td>\n",
       "      <td>LearnSmart Standalone Access Card for Prescott...</td>\n",
       "      <td>[]</td>\n",
       "      <td></td>\n",
       "      <td>McGraw-Hill Education</td>\n",
       "      <td>[]</td>\n",
       "      <td>12,986 in Software (</td>\n",
       "      <td>[]</td>\n",
       "      <td>Software</td>\n",
       "      <td></td>\n",
       "      <td>&lt;/div&gt;</td>\n",
       "      <td></td>\n",
       "      <td>0073513458</td>\n",
       "      <td>[https://images-na.ssl-images-amazon.com/image...</td>\n",
       "      <td>[https://images-na.ssl-images-amazon.com/image...</td>\n",
       "      <td>NaN</td>\n",
       "    </tr>\n",
       "    <tr>\n",
       "      <th>4</th>\n",
       "      <td>[]</td>\n",
       "      <td></td>\n",
       "      <td>[&lt;i&gt;Anatomy &amp;amp; Physiology Revealed Cat&lt;/i&gt; ...</td>\n",
       "      <td></td>\n",
       "      <td>Anatomy &amp;amp; Physiology Revealed Student Acce...</td>\n",
       "      <td>[0323394612, 0323227937, 1118527488]</td>\n",
       "      <td></td>\n",
       "      <td>McGraw-Hill Education</td>\n",
       "      <td>[]</td>\n",
       "      <td>14,861 in Software (</td>\n",
       "      <td>[]</td>\n",
       "      <td>Software</td>\n",
       "      <td></td>\n",
       "      <td>&lt;/div&gt;</td>\n",
       "      <td>$4.83</td>\n",
       "      <td>0073525758</td>\n",
       "      <td>[https://images-na.ssl-images-amazon.com/image...</td>\n",
       "      <td>[https://images-na.ssl-images-amazon.com/image...</td>\n",
       "      <td>NaN</td>\n",
       "    </tr>\n",
       "  </tbody>\n",
       "</table>\n",
       "</div>"
      ],
      "text/plain": [
       "  category tech1                                        description fit  \\\n",
       "0       []                                                       []       \n",
       "1       []        [, <b>Latin rhythms that will get your kids si...       \n",
       "2       []        [<b>Connect is the only integrated learning sy...       \n",
       "3       []                                                       []       \n",
       "4       []        [<i>Anatomy &amp; Physiology Revealed Cat</i> ...       \n",
       "\n",
       "                                               title  \\\n",
       "0  HOLT PHYSICS LESSON PRESENTATION CD-ROM QUICK ...   \n",
       "1  Sing, Watch, &amp; Learn Spanish (DVD + Guide)...   \n",
       "2  Connect with LearnSmart Access Card for Microb...   \n",
       "3  LearnSmart Standalone Access Card for Prescott...   \n",
       "4  Anatomy &amp; Physiology Revealed Student Acce...   \n",
       "\n",
       "                               also_buy tech2  \\\n",
       "0                                    []         \n",
       "1                                    []         \n",
       "2                                    []         \n",
       "3                                    []         \n",
       "4  [0323394612, 0323227937, 1118527488]         \n",
       "\n",
       "                                  brand feature                  rank  \\\n",
       "0            HOLT. RINEHART AND WINSTON      []  25,550 in Software (   \n",
       "1                           McGraw Hill      []  15,792 in Software (   \n",
       "2  McGraw-Hill Science/Engineering/Math      []  16,900 in Software (   \n",
       "3                 McGraw-Hill Education      []  12,986 in Software (   \n",
       "4                 McGraw-Hill Education      []  14,861 in Software (   \n",
       "\n",
       "  also_view  main_cat similar_item    date  \\\n",
       "0        []  Software               </div>   \n",
       "1        []  Software               </div>   \n",
       "2        []  Software               </div>   \n",
       "3        []  Software               </div>   \n",
       "4        []  Software               </div>   \n",
       "\n",
       "                                               price        asin  \\\n",
       "0  .a-box-inner{background-color:#fff}#alohaBuyBo...  0030672120   \n",
       "1                                                     0071480935   \n",
       "2                                                     007329506X   \n",
       "3                                                     0073513458   \n",
       "4                                              $4.83  0073525758   \n",
       "\n",
       "                                            imageURL  \\\n",
       "0                                                 []   \n",
       "1  [https://images-na.ssl-images-amazon.com/image...   \n",
       "2  [https://images-na.ssl-images-amazon.com/image...   \n",
       "3  [https://images-na.ssl-images-amazon.com/image...   \n",
       "4  [https://images-na.ssl-images-amazon.com/image...   \n",
       "\n",
       "                                     imageURLHighRes details  \n",
       "0                                                 []     NaN  \n",
       "1  [https://images-na.ssl-images-amazon.com/image...     NaN  \n",
       "2  [https://images-na.ssl-images-amazon.com/image...     NaN  \n",
       "3  [https://images-na.ssl-images-amazon.com/image...     NaN  \n",
       "4  [https://images-na.ssl-images-amazon.com/image...     NaN  "
      ]
     },
     "execution_count": 5,
     "metadata": {},
     "output_type": "execute_result"
    }
   ],
   "source": [
    "# Загрузка данных о программном обеспечении\n",
    "#asin - идентификатор продукта, например. 0000013714\n",
    "#title - описание товара\n",
    "#brand - брэнд\n",
    "#main_cat - категория\n",
    "#description - описание\n",
    "#rank - ранг\n",
    "meta_data = get_dataframe('meta_Software.json.gz')\n",
    "print(len(meta_data))\n",
    "meta_data.head()"
   ]
  },
  {
   "cell_type": "code",
   "execution_count": 6,
   "metadata": {},
   "outputs": [],
   "source": [
    "# Оставляем только необходимые столбцы\n",
    "rating_data2 = rating_data[['asin','reviewerID','overall','unixReviewTime','reviewText','summary']]\n",
    "rating_data2.columns = ['item_id','user_id','rating','timestamp','text','summary']\n",
    "rating_data2['timestamp'] = pd.to_datetime(rating_data2['timestamp'].astype(int), unit='s')\n",
    "item_data2 = meta_data[['asin', 'title', 'brand', 'main_cat', 'rank']]\n",
    "item_data2.columns = ['item_id', 'title', 'brand', 'main_cat', 'rank']\n",
    "item_data2 = item_data2[item_data2['title'].isnull() == False].reset_index(drop=True)\n",
    "#rating_data2.head()\n",
    "#item_data2.head()"
   ]
  },
  {
   "cell_type": "code",
   "execution_count": 7,
   "metadata": {},
   "outputs": [
    {
     "data": {
      "text/html": [
       "<div>\n",
       "<style scoped>\n",
       "    .dataframe tbody tr th:only-of-type {\n",
       "        vertical-align: middle;\n",
       "    }\n",
       "\n",
       "    .dataframe tbody tr th {\n",
       "        vertical-align: top;\n",
       "    }\n",
       "\n",
       "    .dataframe thead th {\n",
       "        text-align: right;\n",
       "    }\n",
       "</style>\n",
       "<table border=\"1\" class=\"dataframe\">\n",
       "  <thead>\n",
       "    <tr style=\"text-align: right;\">\n",
       "      <th></th>\n",
       "      <th>item_id</th>\n",
       "      <th>user_id</th>\n",
       "      <th>rating</th>\n",
       "      <th>timestamp</th>\n",
       "      <th>text</th>\n",
       "      <th>summary</th>\n",
       "      <th>title</th>\n",
       "      <th>brand</th>\n",
       "      <th>main_cat</th>\n",
       "      <th>rank</th>\n",
       "    </tr>\n",
       "  </thead>\n",
       "  <tbody>\n",
       "    <tr>\n",
       "      <th>0</th>\n",
       "      <td>0077613252</td>\n",
       "      <td>A240ORQ2LF9LUI</td>\n",
       "      <td>4.0</td>\n",
       "      <td>2014-03-11</td>\n",
       "      <td>The materials arrived early and were in excell...</td>\n",
       "      <td>Material Great</td>\n",
       "      <td>Connect Personal Health with LearnSmart 1 Seme...</td>\n",
       "      <td>McGraw-Hill Humanities/Social Sciences/Languages</td>\n",
       "      <td>Software</td>\n",
       "      <td>15,675 in Software (</td>\n",
       "    </tr>\n",
       "    <tr>\n",
       "      <th>1</th>\n",
       "      <td>0077613252</td>\n",
       "      <td>A1YCCU0YRLS0FE</td>\n",
       "      <td>4.0</td>\n",
       "      <td>2014-02-23</td>\n",
       "      <td>I am really enjoying this book with the worksh...</td>\n",
       "      <td>Health</td>\n",
       "      <td>Connect Personal Health with LearnSmart 1 Seme...</td>\n",
       "      <td>McGraw-Hill Humanities/Social Sciences/Languages</td>\n",
       "      <td>Software</td>\n",
       "      <td>15,675 in Software (</td>\n",
       "    </tr>\n",
       "    <tr>\n",
       "      <th>2</th>\n",
       "      <td>0077613252</td>\n",
       "      <td>A1BJHRQDYVAY2J</td>\n",
       "      <td>1.0</td>\n",
       "      <td>2014-02-17</td>\n",
       "      <td>IF YOU ARE TAKING THIS CLASS DON\"T WASTE YOUR ...</td>\n",
       "      <td>ARE YOU KIDING ME?</td>\n",
       "      <td>Connect Personal Health with LearnSmart 1 Seme...</td>\n",
       "      <td>McGraw-Hill Humanities/Social Sciences/Languages</td>\n",
       "      <td>Software</td>\n",
       "      <td>15,675 in Software (</td>\n",
       "    </tr>\n",
       "    <tr>\n",
       "      <th>3</th>\n",
       "      <td>0077613252</td>\n",
       "      <td>APRDVZ6QBIQXT</td>\n",
       "      <td>3.0</td>\n",
       "      <td>2014-02-17</td>\n",
       "      <td>This book was missing pages!!! Important pages...</td>\n",
       "      <td>missing pages!!</td>\n",
       "      <td>Connect Personal Health with LearnSmart 1 Seme...</td>\n",
       "      <td>McGraw-Hill Humanities/Social Sciences/Languages</td>\n",
       "      <td>Software</td>\n",
       "      <td>15,675 in Software (</td>\n",
       "    </tr>\n",
       "    <tr>\n",
       "      <th>4</th>\n",
       "      <td>0077775473</td>\n",
       "      <td>A2JZTTBSLS1QXV</td>\n",
       "      <td>5.0</td>\n",
       "      <td>2013-10-14</td>\n",
       "      <td>I have used LearnSmart and can officially say ...</td>\n",
       "      <td>Best study product out there!</td>\n",
       "      <td>LearnSmart Access Card for Experience Psychology</td>\n",
       "      <td>McGraw-Hill Education</td>\n",
       "      <td>Software</td>\n",
       "      <td>9,130 in Software (</td>\n",
       "    </tr>\n",
       "  </tbody>\n",
       "</table>\n",
       "</div>"
      ],
      "text/plain": [
       "      item_id         user_id  rating  timestamp  \\\n",
       "0  0077613252  A240ORQ2LF9LUI     4.0 2014-03-11   \n",
       "1  0077613252  A1YCCU0YRLS0FE     4.0 2014-02-23   \n",
       "2  0077613252  A1BJHRQDYVAY2J     1.0 2014-02-17   \n",
       "3  0077613252   APRDVZ6QBIQXT     3.0 2014-02-17   \n",
       "4  0077775473  A2JZTTBSLS1QXV     5.0 2013-10-14   \n",
       "\n",
       "                                                text  \\\n",
       "0  The materials arrived early and were in excell...   \n",
       "1  I am really enjoying this book with the worksh...   \n",
       "2  IF YOU ARE TAKING THIS CLASS DON\"T WASTE YOUR ...   \n",
       "3  This book was missing pages!!! Important pages...   \n",
       "4  I have used LearnSmart and can officially say ...   \n",
       "\n",
       "                         summary  \\\n",
       "0                 Material Great   \n",
       "1                         Health   \n",
       "2             ARE YOU KIDING ME?   \n",
       "3                missing pages!!   \n",
       "4  Best study product out there!   \n",
       "\n",
       "                                               title  \\\n",
       "0  Connect Personal Health with LearnSmart 1 Seme...   \n",
       "1  Connect Personal Health with LearnSmart 1 Seme...   \n",
       "2  Connect Personal Health with LearnSmart 1 Seme...   \n",
       "3  Connect Personal Health with LearnSmart 1 Seme...   \n",
       "4   LearnSmart Access Card for Experience Psychology   \n",
       "\n",
       "                                              brand  main_cat  \\\n",
       "0  McGraw-Hill Humanities/Social Sciences/Languages  Software   \n",
       "1  McGraw-Hill Humanities/Social Sciences/Languages  Software   \n",
       "2  McGraw-Hill Humanities/Social Sciences/Languages  Software   \n",
       "3  McGraw-Hill Humanities/Social Sciences/Languages  Software   \n",
       "4                             McGraw-Hill Education  Software   \n",
       "\n",
       "                   rank  \n",
       "0  15,675 in Software (  \n",
       "1  15,675 in Software (  \n",
       "2  15,675 in Software (  \n",
       "3  15,675 in Software (  \n",
       "4   9,130 in Software (  "
      ]
     },
     "execution_count": 7,
     "metadata": {},
     "output_type": "execute_result"
    }
   ],
   "source": [
    "# Объединяем датасеты\n",
    "data = rating_data2.merge(item_data2, on='item_id', how='left')\n",
    "data.head()"
   ]
  },
  {
   "cell_type": "code",
   "execution_count": 8,
   "metadata": {},
   "outputs": [],
   "source": [
    "data.to_csv('data_Software', sep='\\t', encoding='utf-8')"
   ]
  },
  {
   "cell_type": "markdown",
   "metadata": {},
   "source": [
    "# EDA"
   ]
  },
  {
   "cell_type": "code",
   "execution_count": 9,
   "metadata": {},
   "outputs": [
    {
     "name": "stdout",
     "output_type": "stream",
     "text": [
      "<class 'pandas.core.frame.DataFrame'>\n",
      "Int64Index: 500217 entries, 0 to 500216\n",
      "Data columns (total 10 columns):\n",
      " #   Column     Non-Null Count   Dtype         \n",
      "---  ------     --------------   -----         \n",
      " 0   item_id    500217 non-null  object        \n",
      " 1   user_id    500217 non-null  object        \n",
      " 2   rating     500217 non-null  float64       \n",
      " 3   timestamp  500217 non-null  datetime64[ns]\n",
      " 4   text       500148 non-null  object        \n",
      " 5   summary    500152 non-null  object        \n",
      " 6   title      499831 non-null  object        \n",
      " 7   brand      499831 non-null  object        \n",
      " 8   main_cat   499831 non-null  object        \n",
      " 9   rank       499831 non-null  object        \n",
      "dtypes: datetime64[ns](1), float64(1), object(8)\n",
      "memory usage: 42.0+ MB\n"
     ]
    }
   ],
   "source": [
    "# Вывод информации о структуре данных\n",
    "data.info()"
   ]
  },
  {
   "cell_type": "code",
   "execution_count": 10,
   "metadata": {},
   "outputs": [
    {
     "data": {
      "text/plain": [
       "B00UB76290    8994\n",
       "B00CTTEKJW    7939\n",
       "B00NG7JVSQ    6395\n",
       "B00H9A60O4    4730\n",
       "B00E6LJ2SA    4048\n",
       "              ... \n",
       "B00Y0CIJ0W       1\n",
       "B00076YWJ2       1\n",
       "B000HJMG2E       1\n",
       "B00UT1W7PQ       1\n",
       "B014R6K82M       1\n",
       "Name: item_id, Length: 21663, dtype: int64"
      ]
     },
     "execution_count": 10,
     "metadata": {},
     "output_type": "execute_result"
    }
   ],
   "source": [
    "# Список товаров и кол-во их покупок\n",
    "data.item_id.value_counts()"
   ]
  },
  {
   "cell_type": "code",
   "execution_count": 11,
   "metadata": {},
   "outputs": [
    {
     "data": {
      "text/plain": [
       "A15S4XW3CRISZ5    132\n",
       "A5JLAU2ARJ0BO     121\n",
       "A3W4D8XOGLWUN5     73\n",
       "A680RUE1FDO8B      71\n",
       "A3VL4RXCWNSR3H     71\n",
       "                 ... \n",
       "A33PEXCIXESRDO      1\n",
       "ANXEIZVHOWZB1       1\n",
       "A3N8U7VRBEWECZ      1\n",
       "A1U74R5Q2LG6Y1      1\n",
       "AO2Z8S5DLXDWA       1\n",
       "Name: user_id, Length: 375147, dtype: int64"
      ]
     },
     "execution_count": 11,
     "metadata": {},
     "output_type": "execute_result"
    }
   ],
   "source": [
    "# Список покупателей и кол-во их покупок\n",
    "data.user_id.value_counts()"
   ]
  },
  {
   "cell_type": "code",
   "execution_count": 12,
   "metadata": {},
   "outputs": [
    {
     "data": {
      "text/plain": [
       "5.0    228984\n",
       "1.0    113565\n",
       "4.0     79843\n",
       "3.0     43001\n",
       "2.0     34824\n",
       "Name: rating, dtype: int64"
      ]
     },
     "execution_count": 12,
     "metadata": {},
     "output_type": "execute_result"
    }
   ],
   "source": [
    "# Спискок рейтингов\n",
    "data.rating.value_counts()"
   ]
  },
  {
   "cell_type": "markdown",
   "metadata": {},
   "source": [
    "### Предобработка данных"
   ]
  },
  {
   "cell_type": "code",
   "execution_count": 13,
   "metadata": {},
   "outputs": [
    {
     "data": {
      "text/plain": [
       "(35370, 10)"
      ]
     },
     "execution_count": 13,
     "metadata": {},
     "output_type": "execute_result"
    }
   ],
   "source": [
    "# Исключение непопулярных товаров и покупателей, кто купил мало товаров\n",
    "df = data.copy()\n",
    "df = df[df.groupby('item_id').transform('count').iloc[:, 0] > 10]\n",
    "df = df[df.groupby('user_id').transform('count').iloc[:, 0] > 3]\n",
    "\n",
    "# Удаление пустых позиций из датафрейма\n",
    "df = df.drop_duplicates(['item_id', 'user_id']).dropna()\n",
    "df.shape"
   ]
  },
  {
   "cell_type": "code",
   "execution_count": 14,
   "metadata": {},
   "outputs": [],
   "source": [
    "# Функция разбиения данных на тренировочную и тестовую выборки\n",
    "def train_test_split(data, ratio=0.2, user_col='user_id', item_col='item_id',\n",
    "                     rating_col='rating', time_col='timestamp'):\n",
    "    data = data.sort_values(by=[time_col])\n",
    "    \n",
    "    indx = int(len(data) * (1 - ratio))\n",
    "    train_data = data[[user_col, item_col, rating_col]][:indx]\n",
    "    test_data = data[[user_col, item_col, rating_col]][indx:]\n",
    "    \n",
    "    return train_data, test_data"
   ]
  },
  {
   "cell_type": "code",
   "execution_count": 15,
   "metadata": {},
   "outputs": [
    {
     "name": "stdout",
     "output_type": "stream",
     "text": [
      "(28296, 3) (7074, 3)\n"
     ]
    }
   ],
   "source": [
    "train_data, test_data = train_test_split(df, ratio=0.2)\n",
    "print(train_data.shape, test_data.shape)"
   ]
  },
  {
   "cell_type": "code",
   "execution_count": 16,
   "metadata": {},
   "outputs": [
    {
     "data": {
      "text/html": [
       "<div>\n",
       "<style scoped>\n",
       "    .dataframe tbody tr th:only-of-type {\n",
       "        vertical-align: middle;\n",
       "    }\n",
       "\n",
       "    .dataframe tbody tr th {\n",
       "        vertical-align: top;\n",
       "    }\n",
       "\n",
       "    .dataframe thead th {\n",
       "        text-align: right;\n",
       "    }\n",
       "</style>\n",
       "<table border=\"1\" class=\"dataframe\">\n",
       "  <thead>\n",
       "    <tr style=\"text-align: right;\">\n",
       "      <th></th>\n",
       "      <th>user_id</th>\n",
       "      <th>item_id</th>\n",
       "      <th>rating</th>\n",
       "    </tr>\n",
       "  </thead>\n",
       "  <tbody>\n",
       "    <tr>\n",
       "      <th>3854</th>\n",
       "      <td>A3H4TIVTTA5IBB</td>\n",
       "      <td>B0000296ZH</td>\n",
       "      <td>3.0</td>\n",
       "    </tr>\n",
       "    <tr>\n",
       "      <th>3336</th>\n",
       "      <td>A3QQO9GVE0GOFE</td>\n",
       "      <td>B00001YVBG</td>\n",
       "      <td>3.0</td>\n",
       "    </tr>\n",
       "    <tr>\n",
       "      <th>5244</th>\n",
       "      <td>A1U9LTA3EWSNY1</td>\n",
       "      <td>B00003IRBV</td>\n",
       "      <td>5.0</td>\n",
       "    </tr>\n",
       "    <tr>\n",
       "      <th>5054</th>\n",
       "      <td>A1U9LTA3EWSNY1</td>\n",
       "      <td>B00003IRBU</td>\n",
       "      <td>5.0</td>\n",
       "    </tr>\n",
       "    <tr>\n",
       "      <th>3974</th>\n",
       "      <td>A2DJDS2KLFR9YM</td>\n",
       "      <td>B00002K10B</td>\n",
       "      <td>4.0</td>\n",
       "    </tr>\n",
       "  </tbody>\n",
       "</table>\n",
       "</div>"
      ],
      "text/plain": [
       "             user_id     item_id  rating\n",
       "3854  A3H4TIVTTA5IBB  B0000296ZH     3.0\n",
       "3336  A3QQO9GVE0GOFE  B00001YVBG     3.0\n",
       "5244  A1U9LTA3EWSNY1  B00003IRBV     5.0\n",
       "5054  A1U9LTA3EWSNY1  B00003IRBU     5.0\n",
       "3974  A2DJDS2KLFR9YM  B00002K10B     4.0"
      ]
     },
     "execution_count": 16,
     "metadata": {},
     "output_type": "execute_result"
    }
   ],
   "source": [
    "train_data.head()"
   ]
  },
  {
   "cell_type": "markdown",
   "metadata": {},
   "source": [
    "### Колоборативная фильтрация"
   ]
  },
  {
   "cell_type": "markdown",
   "metadata": {},
   "source": [
    "### User-based model"
   ]
  },
  {
   "cell_type": "code",
   "execution_count": 48,
   "metadata": {},
   "outputs": [],
   "source": [
    "class UserBased(BaseEstimator):\n",
    "    def fit(self, train_data, user_col='user_id', item_col='item_id', rating_col='rating'):\n",
    "        data = train_data.copy()\n",
    "        \n",
    "        # Определение списка покупателей и товаров\n",
    "        self.users = data[user_col].unique()\n",
    "        self.items = data[item_col].unique()\n",
    "\n",
    "        # Определение среднего рейтинга товара для каждого покупателя\n",
    "        self.rating_mean = data.groupby(user_col)[rating_col].mean()\n",
    "        \n",
    "        # Расчет среднего рейтинга товара для каждого покупателя в датафрейме\n",
    "        data[rating_col] = data[rating_col] - data.groupby(user_col)[rating_col].transform('mean')\n",
    "\n",
    "        # Построение сводной таблицы рейтингов товаров в разрезе покупателя и товара\n",
    "        self.ratings = pivot_table(data, values=rating_col, index=user_col, columns=item_col)\n",
    "\n",
    "        # Расчет коэффициента схожести покупателей\n",
    "        self.similarities = pd.DataFrame(cosine_similarity(self.ratings), index=self.ratings.index)\n",
    "        \n",
    "        return self\n",
    "\n",
    "    def predict_rating(self, pr_user, pr_item):\n",
    "        # если в обучающей выборке нет такого товара или покупателя то устнавливаем нулевой рейтинг\n",
    "        if not pr_item in self.items or not pr_user in self.users:\n",
    "            return 0\n",
    "\n",
    "        # Расчет прогнозного значения рейтинга товара на основе коэффициента схожести\n",
    "        numerator = np.dot(self.similarities.loc[pr_user], self.ratings.loc[:, pr_item])\n",
    "        denominator = self.similarities.loc[pr_user].sum() - 1\n",
    "        \n",
    "        return self.rating_mean[pr_user] + numerator / denominator\n",
    "    \n",
    "\n",
    "    def predict(self, X, user_col='user_id', item_col='item_id'):\n",
    "        # Расчет прогнозных значений рейтингов товаров\n",
    "        rating_pred = test_data[[user_col, item_col]].apply(lambda row: self.predict_rating(row[0], row[1]), axis=1)\n",
    "        return rating_pred"
   ]
  },
  {
   "cell_type": "code",
   "execution_count": 49,
   "metadata": {},
   "outputs": [],
   "source": [
    "# Функция построения сводных таблиц\n",
    "def pivot_table(data, values='rating', index='user_id', columns='item_id'):\n",
    "    rows, rows_pos = np.unique(data[index], return_inverse=True)\n",
    "    cols, cols_pos = np.unique(data[columns], return_inverse=True)\n",
    "    \n",
    "    table = np.zeros((len(rows), len(cols)), dtype=np.float16)\n",
    "    table[rows_pos, cols_pos] = data[values]\n",
    "    \n",
    "    return pd.DataFrame(table, index=rows, columns=cols)\n",
    "\n",
    "# Функция расчета коэффициента RMSE\n",
    "def RMSE(Y_true, Y_pred):\n",
    "    return np.sqrt(mean_squared_error(Y_true, Y_pred))"
   ]
  },
  {
   "cell_type": "code",
   "execution_count": 50,
   "metadata": {},
   "outputs": [
    {
     "name": "stdout",
     "output_type": "stream",
     "text": [
      "Старт обучения UserBased...\n",
      "Старт прогнозирования...\n",
      "RMSE = 3.6353\n"
     ]
    }
   ],
   "source": [
    "# Построение модели и прогнозирование рейтинга товаров на основе схожести покупателей\n",
    "print('Старт обучения UserBased...')\n",
    "ub_model = UserBased().fit(train_data)\n",
    "print('Старт прогнозирования...')\n",
    "ub_pred = ub_model.predict(test_data)\n",
    "print('RMSE = {:0.4f}'.format(RMSE(test_data['rating'], ub_pred)))"
   ]
  },
  {
   "cell_type": "markdown",
   "metadata": {},
   "source": [
    "### Item-based model"
   ]
  },
  {
   "cell_type": "code",
   "execution_count": 51,
   "metadata": {},
   "outputs": [],
   "source": [
    "class ItemBased(BaseEstimator):\n",
    "    def fit(self, train_data, user_col='user_id', item_col='item_id', rating_col='rating'):\n",
    "        data = train_data.copy()\n",
    "\n",
    "        # Определение списка покупателей и товаров\n",
    "        self.users = data[user_col].unique()\n",
    "        self.items = data[item_col].unique()\n",
    "        \n",
    "        # Определение среднего рейтинга для каждого товара\n",
    "        self.rating_mean = data.groupby(item_col)[rating_col].mean()\n",
    "\n",
    "        # Расчет среднего рейтинга каждого товара в датафрейме\n",
    "        data[rating_col] = data[rating_col] - data.groupby(item_col)[rating_col].transform('mean')\n",
    "\n",
    "        # Построение сводной таблицы рейтингов товаров в разрезе покупателя и товара\n",
    "        self.ratings = pivot_table(data, values=rating_col, index=item_col, columns=user_col)\n",
    "\n",
    "        # Расчет коэффициента схожести товаров\n",
    "        self.similarities = pd.DataFrame(cosine_similarity(self.ratings), index=self.ratings.index)\n",
    "\n",
    "        return self\n",
    "    \n",
    "    def predict_rating(self, pr_user, pr_item):\n",
    "        # Для отсутствующих покупателей и товаров устанавливаем нулевой рейтинг\n",
    "        if not pr_item in self.items or not pr_user in self.users:\n",
    "            return 0\n",
    "        \n",
    "        # Расчет прогнозного значения рейтинга товара на основе коэффициента схожести\n",
    "        numerator = np.dot(self.similarities.loc[pr_item], self.ratings.loc[:, pr_user])\n",
    "        denominator = self.similarities.loc[pr_item].sum() - 1\n",
    "        \n",
    "        return self.rating_mean[pr_item] + numerator / denominator\n",
    "    \n",
    "    def predict(self, test_data, user_col='user_id', item_col='item_id'):\n",
    "        # Расчет прогнозных значений рейтингов товаров\n",
    "        rating_pred = test_data[[user_col, item_col]].apply(lambda row: self.predict_rating(row[0], row[1]), axis=1)\n",
    "        return rating_pred"
   ]
  },
  {
   "cell_type": "code",
   "execution_count": 52,
   "metadata": {},
   "outputs": [
    {
     "name": "stdout",
     "output_type": "stream",
     "text": [
      "Старт обучения ItemBased...\n",
      "Старт прогнозирования...\n",
      "RMSE = 3.6713\n"
     ]
    }
   ],
   "source": [
    "# Построение модели и прогнозирование рейтинга товаров на основе схожести товаров\n",
    "print('Старт обучения ItemBased...')\n",
    "ib_model = ItemBased().fit(train_data)\n",
    "print('Старт прогнозирования...')\n",
    "ib_pred = ib_model.predict(test_data)\n",
    "print('RMSE = {:0.4f}'.format(RMSE(test_data['rating'], ib_pred)))"
   ]
  },
  {
   "cell_type": "markdown",
   "metadata": {},
   "source": [
    "### Проверка рекомендательной системы"
   ]
  },
  {
   "cell_type": "code",
   "execution_count": 53,
   "metadata": {},
   "outputs": [
    {
     "data": {
      "text/html": [
       "<div>\n",
       "<style scoped>\n",
       "    .dataframe tbody tr th:only-of-type {\n",
       "        vertical-align: middle;\n",
       "    }\n",
       "\n",
       "    .dataframe tbody tr th {\n",
       "        vertical-align: top;\n",
       "    }\n",
       "\n",
       "    .dataframe thead th {\n",
       "        text-align: right;\n",
       "    }\n",
       "</style>\n",
       "<table border=\"1\" class=\"dataframe\">\n",
       "  <thead>\n",
       "    <tr style=\"text-align: right;\">\n",
       "      <th></th>\n",
       "      <th>item_id</th>\n",
       "      <th>user_id</th>\n",
       "      <th>rating</th>\n",
       "      <th>timestamp</th>\n",
       "      <th>text</th>\n",
       "      <th>summary</th>\n",
       "      <th>title</th>\n",
       "      <th>brand</th>\n",
       "      <th>main_cat</th>\n",
       "      <th>rank</th>\n",
       "    </tr>\n",
       "  </thead>\n",
       "  <tbody>\n",
       "    <tr>\n",
       "      <th>21</th>\n",
       "      <td>0321719816</td>\n",
       "      <td>A38NELQT98S4H8</td>\n",
       "      <td>4.0</td>\n",
       "      <td>2010-10-20</td>\n",
       "      <td>I've been using Dreamweaver (and it's predeces...</td>\n",
       "      <td>A solid overview of Dreamweaver CS5</td>\n",
       "      <td>Learn Adobe Dreamweaver CS5 by Video: Core Tra...</td>\n",
       "      <td>Peach Pit Press</td>\n",
       "      <td>Software</td>\n",
       "      <td>9,956 in Software (</td>\n",
       "    </tr>\n",
       "    <tr>\n",
       "      <th>22</th>\n",
       "      <td>0321719816</td>\n",
       "      <td>A3QJU4FEN8PQSZ</td>\n",
       "      <td>4.0</td>\n",
       "      <td>2010-10-18</td>\n",
       "      <td>The demo is done with the PC version, with ref...</td>\n",
       "      <td>A good value</td>\n",
       "      <td>Learn Adobe Dreamweaver CS5 by Video: Core Tra...</td>\n",
       "      <td>Peach Pit Press</td>\n",
       "      <td>Software</td>\n",
       "      <td>9,956 in Software (</td>\n",
       "    </tr>\n",
       "    <tr>\n",
       "      <th>23</th>\n",
       "      <td>0321719816</td>\n",
       "      <td>ACJT8MUC0LRF0</td>\n",
       "      <td>5.0</td>\n",
       "      <td>2010-10-16</td>\n",
       "      <td>If you've been wanting to learn how to create ...</td>\n",
       "      <td>This is excellent software for those who want ...</td>\n",
       "      <td>Learn Adobe Dreamweaver CS5 by Video: Core Tra...</td>\n",
       "      <td>Peach Pit Press</td>\n",
       "      <td>Software</td>\n",
       "      <td>9,956 in Software (</td>\n",
       "    </tr>\n",
       "    <tr>\n",
       "      <th>24</th>\n",
       "      <td>0321719816</td>\n",
       "      <td>A2RQ0AT4XZUIXL</td>\n",
       "      <td>5.0</td>\n",
       "      <td>2010-10-14</td>\n",
       "      <td>I've been working with Dreamweaver for a few y...</td>\n",
       "      <td>Wonderful introduction to Dreamweaver</td>\n",
       "      <td>Learn Adobe Dreamweaver CS5 by Video: Core Tra...</td>\n",
       "      <td>Peach Pit Press</td>\n",
       "      <td>Software</td>\n",
       "      <td>9,956 in Software (</td>\n",
       "    </tr>\n",
       "    <tr>\n",
       "      <th>25</th>\n",
       "      <td>0321719816</td>\n",
       "      <td>AYUF7YETYOLNX</td>\n",
       "      <td>5.0</td>\n",
       "      <td>2010-10-12</td>\n",
       "      <td>I've been creating websites with Dreamweaver f...</td>\n",
       "      <td>A Fantastic Overview of Dream Weaver and Web D...</td>\n",
       "      <td>Learn Adobe Dreamweaver CS5 by Video: Core Tra...</td>\n",
       "      <td>Peach Pit Press</td>\n",
       "      <td>Software</td>\n",
       "      <td>9,956 in Software (</td>\n",
       "    </tr>\n",
       "  </tbody>\n",
       "</table>\n",
       "</div>"
      ],
      "text/plain": [
       "       item_id         user_id  rating  timestamp  \\\n",
       "21  0321719816  A38NELQT98S4H8     4.0 2010-10-20   \n",
       "22  0321719816  A3QJU4FEN8PQSZ     4.0 2010-10-18   \n",
       "23  0321719816   ACJT8MUC0LRF0     5.0 2010-10-16   \n",
       "24  0321719816  A2RQ0AT4XZUIXL     5.0 2010-10-14   \n",
       "25  0321719816   AYUF7YETYOLNX     5.0 2010-10-12   \n",
       "\n",
       "                                                 text  \\\n",
       "21  I've been using Dreamweaver (and it's predeces...   \n",
       "22  The demo is done with the PC version, with ref...   \n",
       "23  If you've been wanting to learn how to create ...   \n",
       "24  I've been working with Dreamweaver for a few y...   \n",
       "25  I've been creating websites with Dreamweaver f...   \n",
       "\n",
       "                                              summary  \\\n",
       "21                A solid overview of Dreamweaver CS5   \n",
       "22                                       A good value   \n",
       "23  This is excellent software for those who want ...   \n",
       "24              Wonderful introduction to Dreamweaver   \n",
       "25  A Fantastic Overview of Dream Weaver and Web D...   \n",
       "\n",
       "                                                title            brand  \\\n",
       "21  Learn Adobe Dreamweaver CS5 by Video: Core Tra...  Peach Pit Press   \n",
       "22  Learn Adobe Dreamweaver CS5 by Video: Core Tra...  Peach Pit Press   \n",
       "23  Learn Adobe Dreamweaver CS5 by Video: Core Tra...  Peach Pit Press   \n",
       "24  Learn Adobe Dreamweaver CS5 by Video: Core Tra...  Peach Pit Press   \n",
       "25  Learn Adobe Dreamweaver CS5 by Video: Core Tra...  Peach Pit Press   \n",
       "\n",
       "    main_cat                 rank  \n",
       "21  Software  9,956 in Software (  \n",
       "22  Software  9,956 in Software (  \n",
       "23  Software  9,956 in Software (  \n",
       "24  Software  9,956 in Software (  \n",
       "25  Software  9,956 in Software (  "
      ]
     },
     "execution_count": 53,
     "metadata": {},
     "output_type": "execute_result"
    }
   ],
   "source": [
    "df.head()"
   ]
  },
  {
   "cell_type": "code",
   "execution_count": 54,
   "metadata": {},
   "outputs": [],
   "source": [
    "# Случайно выбранный покупатель для построения системы рекомендаций\n",
    "user_id = 'A3QQO9GVE0GOFE'"
   ]
  },
  {
   "cell_type": "code",
   "execution_count": 55,
   "metadata": {},
   "outputs": [
    {
     "data": {
      "text/html": [
       "<div>\n",
       "<style scoped>\n",
       "    .dataframe tbody tr th:only-of-type {\n",
       "        vertical-align: middle;\n",
       "    }\n",
       "\n",
       "    .dataframe tbody tr th {\n",
       "        vertical-align: top;\n",
       "    }\n",
       "\n",
       "    .dataframe thead th {\n",
       "        text-align: right;\n",
       "    }\n",
       "</style>\n",
       "<table border=\"1\" class=\"dataframe\">\n",
       "  <thead>\n",
       "    <tr style=\"text-align: right;\">\n",
       "      <th></th>\n",
       "      <th>item_id</th>\n",
       "      <th>user_id</th>\n",
       "      <th>rating</th>\n",
       "      <th>timestamp</th>\n",
       "      <th>text</th>\n",
       "      <th>summary</th>\n",
       "      <th>title</th>\n",
       "      <th>brand</th>\n",
       "      <th>main_cat</th>\n",
       "      <th>rank</th>\n",
       "    </tr>\n",
       "  </thead>\n",
       "  <tbody>\n",
       "    <tr>\n",
       "      <th>3336</th>\n",
       "      <td>B00001YVBG</td>\n",
       "      <td>A3QQO9GVE0GOFE</td>\n",
       "      <td>3.0</td>\n",
       "      <td>1999-12-01</td>\n",
       "      <td>On the postive side, it looks just like the TV...</td>\n",
       "      <td>Great looking but thin on gameplay</td>\n",
       "      <td>The Simpsons: Virtual Springfield</td>\n",
       "      <td>by\\n    \\n    Fox Interactive Media</td>\n",
       "      <td>Video Games</td>\n",
       "      <td>[&gt;#63,976 in Video Games (See Top 100 in Video...</td>\n",
       "    </tr>\n",
       "    <tr>\n",
       "      <th>17762</th>\n",
       "      <td>B00006BN8J</td>\n",
       "      <td>A3QQO9GVE0GOFE</td>\n",
       "      <td>2.0</td>\n",
       "      <td>2002-11-27</td>\n",
       "      <td>Our kids have enjoyed all three of the previou...</td>\n",
       "      <td>A disappointment. Try one of the other Thomas ...</td>\n",
       "      <td>Thomas &amp;amp; Friends  Building the New Line - ...</td>\n",
       "      <td>by\\n    \\n    Atari</td>\n",
       "      <td>Video Games</td>\n",
       "      <td>[&gt;#64,480 in Video Games (See Top 100 in Video...</td>\n",
       "    </tr>\n",
       "    <tr>\n",
       "      <th>30938</th>\n",
       "      <td>B0001MXNVA</td>\n",
       "      <td>A3QQO9GVE0GOFE</td>\n",
       "      <td>4.0</td>\n",
       "      <td>2004-09-21</td>\n",
       "      <td>Like a lot of Yu-Gi-Oh fans, my son enjoyed co...</td>\n",
       "      <td>A great way to learn how to play the card game</td>\n",
       "      <td>Yu-Gi-Oh Power of Chaos: Joey the Passion - PC</td>\n",
       "      <td>by\\n    \\n    Konami</td>\n",
       "      <td>Video Games</td>\n",
       "      <td>[&gt;#66,200 in Video Games (See Top 100 in Video...</td>\n",
       "    </tr>\n",
       "    <tr>\n",
       "      <th>386987</th>\n",
       "      <td>B000029714</td>\n",
       "      <td>A3QQO9GVE0GOFE</td>\n",
       "      <td>4.0</td>\n",
       "      <td>2000-05-09</td>\n",
       "      <td>Thomas, his friends, and the island of Sodor l...</td>\n",
       "      <td>Outstanding graphics &amp; sound, a bit light in g...</td>\n",
       "      <td>Thomas the Tank Engine &amp;amp; Friends - PC</td>\n",
       "      <td>by\\n    \\n    Atari</td>\n",
       "      <td>Video Games</td>\n",
       "      <td>[&gt;#85,005 in Video Games (See Top 100 in Video...</td>\n",
       "    </tr>\n",
       "  </tbody>\n",
       "</table>\n",
       "</div>"
      ],
      "text/plain": [
       "           item_id         user_id  rating  timestamp  \\\n",
       "3336    B00001YVBG  A3QQO9GVE0GOFE     3.0 1999-12-01   \n",
       "17762   B00006BN8J  A3QQO9GVE0GOFE     2.0 2002-11-27   \n",
       "30938   B0001MXNVA  A3QQO9GVE0GOFE     4.0 2004-09-21   \n",
       "386987  B000029714  A3QQO9GVE0GOFE     4.0 2000-05-09   \n",
       "\n",
       "                                                     text  \\\n",
       "3336    On the postive side, it looks just like the TV...   \n",
       "17762   Our kids have enjoyed all three of the previou...   \n",
       "30938   Like a lot of Yu-Gi-Oh fans, my son enjoyed co...   \n",
       "386987  Thomas, his friends, and the island of Sodor l...   \n",
       "\n",
       "                                                  summary  \\\n",
       "3336                   Great looking but thin on gameplay   \n",
       "17762   A disappointment. Try one of the other Thomas ...   \n",
       "30938      A great way to learn how to play the card game   \n",
       "386987  Outstanding graphics & sound, a bit light in g...   \n",
       "\n",
       "                                                    title  \\\n",
       "3336                    The Simpsons: Virtual Springfield   \n",
       "17762   Thomas &amp; Friends  Building the New Line - ...   \n",
       "30938      Yu-Gi-Oh Power of Chaos: Joey the Passion - PC   \n",
       "386987          Thomas the Tank Engine &amp; Friends - PC   \n",
       "\n",
       "                                      brand     main_cat  \\\n",
       "3336    by\\n    \\n    Fox Interactive Media  Video Games   \n",
       "17762                   by\\n    \\n    Atari  Video Games   \n",
       "30938                  by\\n    \\n    Konami  Video Games   \n",
       "386987                  by\\n    \\n    Atari  Video Games   \n",
       "\n",
       "                                                     rank  \n",
       "3336    [>#63,976 in Video Games (See Top 100 in Video...  \n",
       "17762   [>#64,480 in Video Games (See Top 100 in Video...  \n",
       "30938   [>#66,200 in Video Games (See Top 100 in Video...  \n",
       "386987  [>#85,005 in Video Games (See Top 100 in Video...  "
      ]
     },
     "execution_count": 55,
     "metadata": {},
     "output_type": "execute_result"
    }
   ],
   "source": [
    "# Товары, которые купил покупатель\n",
    "df[df['user_id'] == 'A3QQO9GVE0GOFE']"
   ]
  },
  {
   "cell_type": "code",
   "execution_count": 56,
   "metadata": {
    "scrolled": true
   },
   "outputs": [
    {
     "data": {
      "text/html": [
       "<div>\n",
       "<style scoped>\n",
       "    .dataframe tbody tr th:only-of-type {\n",
       "        vertical-align: middle;\n",
       "    }\n",
       "\n",
       "    .dataframe tbody tr th {\n",
       "        vertical-align: top;\n",
       "    }\n",
       "\n",
       "    .dataframe thead th {\n",
       "        text-align: right;\n",
       "    }\n",
       "</style>\n",
       "<table border=\"1\" class=\"dataframe\">\n",
       "  <thead>\n",
       "    <tr style=\"text-align: right;\">\n",
       "      <th></th>\n",
       "      <th>user_id</th>\n",
       "      <th>item_id</th>\n",
       "      <th>rating</th>\n",
       "      <th>title</th>\n",
       "      <th>brand</th>\n",
       "      <th>main_cat</th>\n",
       "      <th>rank</th>\n",
       "    </tr>\n",
       "  </thead>\n",
       "  <tbody>\n",
       "    <tr>\n",
       "      <th>0</th>\n",
       "      <td>A3QQO9GVE0GOFE</td>\n",
       "      <td>0077613252</td>\n",
       "      <td>0.0</td>\n",
       "      <td>Connect Personal Health with LearnSmart 1 Seme...</td>\n",
       "      <td>McGraw-Hill Humanities/Social Sciences/Languages</td>\n",
       "      <td>Software</td>\n",
       "      <td>15,675 in Software (</td>\n",
       "    </tr>\n",
       "    <tr>\n",
       "      <th>1</th>\n",
       "      <td>A3QQO9GVE0GOFE</td>\n",
       "      <td>0321700945</td>\n",
       "      <td>0.0</td>\n",
       "      <td>Learn Adobe Photoshop Lightroom 3 by Video</td>\n",
       "      <td>Peach Pit Press</td>\n",
       "      <td>Software</td>\n",
       "      <td>8,501 in Software (</td>\n",
       "    </tr>\n",
       "    <tr>\n",
       "      <th>2</th>\n",
       "      <td>A3QQO9GVE0GOFE</td>\n",
       "      <td>0321719816</td>\n",
       "      <td>0.0</td>\n",
       "      <td>Learn Adobe Dreamweaver CS5 by Video: Core Tra...</td>\n",
       "      <td>Peach Pit Press</td>\n",
       "      <td>Software</td>\n",
       "      <td>9,956 in Software (</td>\n",
       "    </tr>\n",
       "    <tr>\n",
       "      <th>3</th>\n",
       "      <td>A3QQO9GVE0GOFE</td>\n",
       "      <td>0321719824</td>\n",
       "      <td>0.0</td>\n",
       "      <td>Learn Adobe Flash Professional CS5 by Video: C...</td>\n",
       "      <td>Peach Pit Press</td>\n",
       "      <td>Software</td>\n",
       "      <td>11,954 in Software (</td>\n",
       "    </tr>\n",
       "    <tr>\n",
       "      <th>4</th>\n",
       "      <td>A3QQO9GVE0GOFE</td>\n",
       "      <td>0615179088</td>\n",
       "      <td>0.0</td>\n",
       "      <td>Human Japanese</td>\n",
       "      <td>Brak Software</td>\n",
       "      <td>Software</td>\n",
       "      <td>3,689 in Software (</td>\n",
       "    </tr>\n",
       "  </tbody>\n",
       "</table>\n",
       "</div>"
      ],
      "text/plain": [
       "          user_id     item_id  rating  \\\n",
       "0  A3QQO9GVE0GOFE  0077613252     0.0   \n",
       "1  A3QQO9GVE0GOFE  0321700945     0.0   \n",
       "2  A3QQO9GVE0GOFE  0321719816     0.0   \n",
       "3  A3QQO9GVE0GOFE  0321719824     0.0   \n",
       "4  A3QQO9GVE0GOFE  0615179088     0.0   \n",
       "\n",
       "                                               title  \\\n",
       "0  Connect Personal Health with LearnSmart 1 Seme...   \n",
       "1         Learn Adobe Photoshop Lightroom 3 by Video   \n",
       "2  Learn Adobe Dreamweaver CS5 by Video: Core Tra...   \n",
       "3  Learn Adobe Flash Professional CS5 by Video: C...   \n",
       "4                                     Human Japanese   \n",
       "\n",
       "                                              brand  main_cat  \\\n",
       "0  McGraw-Hill Humanities/Social Sciences/Languages  Software   \n",
       "1                                   Peach Pit Press  Software   \n",
       "2                                   Peach Pit Press  Software   \n",
       "3                                   Peach Pit Press  Software   \n",
       "4                                     Brak Software  Software   \n",
       "\n",
       "                   rank  \n",
       "0  15,675 in Software (  \n",
       "1   8,501 in Software (  \n",
       "2   9,956 in Software (  \n",
       "3  11,954 in Software (  \n",
       "4   3,689 in Software (  "
      ]
     },
     "execution_count": 56,
     "metadata": {},
     "output_type": "execute_result"
    }
   ],
   "source": [
    "# Построение вектора покупателя\n",
    "user_vector = pivot_table(df).loc[user_id].reset_index()\n",
    "user_vector['user_id'] = user_id\n",
    "\n",
    "# Переименование столбцов датафрейма и задание нужной последовательности\n",
    "user_vector.columns = ['item_id', 'rating', 'user_id']\n",
    "user_vector = user_vector[['user_id', 'item_id', 'rating']]\n",
    "user_vector = user_vector.merge(item_data2, how='left', on='item_id')\n",
    "\n",
    "# Вывод первых позиций\n",
    "user_vector.head()\n",
    "\n"
   ]
  },
  {
   "cell_type": "code",
   "execution_count": 57,
   "metadata": {},
   "outputs": [
    {
     "name": "stderr",
     "output_type": "stream",
     "text": [
      "C:\\ProgramData\\Anaconda3\\lib\\site-packages\\ipykernel_launcher.py:32: RuntimeWarning: invalid value encountered in double_scalars\n"
     ]
    },
    {
     "data": {
      "text/html": [
       "<div>\n",
       "<style scoped>\n",
       "    .dataframe tbody tr th:only-of-type {\n",
       "        vertical-align: middle;\n",
       "    }\n",
       "\n",
       "    .dataframe tbody tr th {\n",
       "        vertical-align: top;\n",
       "    }\n",
       "\n",
       "    .dataframe thead th {\n",
       "        text-align: right;\n",
       "    }\n",
       "</style>\n",
       "<table border=\"1\" class=\"dataframe\">\n",
       "  <thead>\n",
       "    <tr style=\"text-align: right;\">\n",
       "      <th></th>\n",
       "      <th>user_id</th>\n",
       "      <th>item_id</th>\n",
       "      <th>rating</th>\n",
       "      <th>title</th>\n",
       "      <th>brand</th>\n",
       "      <th>main_cat</th>\n",
       "      <th>rank</th>\n",
       "      <th>pred_rating</th>\n",
       "      <th>total_rating</th>\n",
       "    </tr>\n",
       "  </thead>\n",
       "  <tbody>\n",
       "    <tr>\n",
       "      <th>0</th>\n",
       "      <td>A3QQO9GVE0GOFE</td>\n",
       "      <td>B00001YVBG</td>\n",
       "      <td>3.0</td>\n",
       "      <td>The Simpsons: Virtual Springfield</td>\n",
       "      <td>by\\n    \\n    Fox Interactive Media</td>\n",
       "      <td>Video Games</td>\n",
       "      <td>[&gt;#63,976 in Video Games (See Top 100 in Video...</td>\n",
       "      <td>0.0</td>\n",
       "      <td>3.0</td>\n",
       "    </tr>\n",
       "    <tr>\n",
       "      <th>1</th>\n",
       "      <td>A3QQO9GVE0GOFE</td>\n",
       "      <td>B00001YVBG</td>\n",
       "      <td>3.0</td>\n",
       "      <td>The Simpsons: Virtual Springfield</td>\n",
       "      <td>by\\n    \\n    Fox Interactive Media</td>\n",
       "      <td>Video Games</td>\n",
       "      <td>[&gt;#63,976 in Video Games (See Top 100 in Video...</td>\n",
       "      <td>0.0</td>\n",
       "      <td>3.0</td>\n",
       "    </tr>\n",
       "    <tr>\n",
       "      <th>2</th>\n",
       "      <td>A3QQO9GVE0GOFE</td>\n",
       "      <td>B000029714</td>\n",
       "      <td>4.0</td>\n",
       "      <td>Thomas the Tank Engine &amp;amp; Friends - PC</td>\n",
       "      <td>by\\n    \\n    Atari</td>\n",
       "      <td>Video Games</td>\n",
       "      <td>[&gt;#85,005 in Video Games (See Top 100 in Video...</td>\n",
       "      <td>0.0</td>\n",
       "      <td>4.0</td>\n",
       "    </tr>\n",
       "    <tr>\n",
       "      <th>3</th>\n",
       "      <td>A3QQO9GVE0GOFE</td>\n",
       "      <td>B000029714</td>\n",
       "      <td>4.0</td>\n",
       "      <td>Thomas the Tank Engine &amp;amp; Friends - PC</td>\n",
       "      <td>by\\n    \\n    Atari</td>\n",
       "      <td>Video Games</td>\n",
       "      <td>[&gt;#85,005 in Video Games (See Top 100 in Video...</td>\n",
       "      <td>0.0</td>\n",
       "      <td>4.0</td>\n",
       "    </tr>\n",
       "    <tr>\n",
       "      <th>4</th>\n",
       "      <td>A3QQO9GVE0GOFE</td>\n",
       "      <td>B00002S76T</td>\n",
       "      <td>0.0</td>\n",
       "      <td>eMerchant pro</td>\n",
       "      <td>BIG PICTURE TECHNOLOGIES</td>\n",
       "      <td>Software</td>\n",
       "      <td>61,014 in Software (</td>\n",
       "      <td>4.5</td>\n",
       "      <td>4.5</td>\n",
       "    </tr>\n",
       "  </tbody>\n",
       "</table>\n",
       "</div>"
      ],
      "text/plain": [
       "          user_id     item_id  rating  \\\n",
       "0  A3QQO9GVE0GOFE  B00001YVBG     3.0   \n",
       "1  A3QQO9GVE0GOFE  B00001YVBG     3.0   \n",
       "2  A3QQO9GVE0GOFE  B000029714     4.0   \n",
       "3  A3QQO9GVE0GOFE  B000029714     4.0   \n",
       "4  A3QQO9GVE0GOFE  B00002S76T     0.0   \n",
       "\n",
       "                                       title  \\\n",
       "0          The Simpsons: Virtual Springfield   \n",
       "1          The Simpsons: Virtual Springfield   \n",
       "2  Thomas the Tank Engine &amp; Friends - PC   \n",
       "3  Thomas the Tank Engine &amp; Friends - PC   \n",
       "4                              eMerchant pro   \n",
       "\n",
       "                                 brand     main_cat  \\\n",
       "0  by\\n    \\n    Fox Interactive Media  Video Games   \n",
       "1  by\\n    \\n    Fox Interactive Media  Video Games   \n",
       "2                  by\\n    \\n    Atari  Video Games   \n",
       "3                  by\\n    \\n    Atari  Video Games   \n",
       "4             BIG PICTURE TECHNOLOGIES     Software   \n",
       "\n",
       "                                                rank  pred_rating  \\\n",
       "0  [>#63,976 in Video Games (See Top 100 in Video...          0.0   \n",
       "1  [>#63,976 in Video Games (See Top 100 in Video...          0.0   \n",
       "2  [>#85,005 in Video Games (See Top 100 in Video...          0.0   \n",
       "3  [>#85,005 in Video Games (See Top 100 in Video...          0.0   \n",
       "4                               61,014 in Software (          4.5   \n",
       "\n",
       "   total_rating  \n",
       "0           3.0  \n",
       "1           3.0  \n",
       "2           4.0  \n",
       "3           4.0  \n",
       "4           4.5  "
      ]
     },
     "execution_count": 57,
     "metadata": {},
     "output_type": "execute_result"
    }
   ],
   "source": [
    "# Построение прогноза рейтинга неприобретенных товаров\n",
    "rating_null = user_vector[user_vector['rating']==0]\n",
    "rating_pred = np.round((ub_model.predict(rating_null) + ib_model.predict(rating_null)) / 2, 1)\n",
    "\n",
    "# Объединение реальных и прогнозных рейтингов товаров\n",
    "item_rating = pd.concat([user_vector, rating_pred], axis=1).fillna(0)\n",
    "item_rating.columns = ['user_id', 'item_id', 'rating', 'title', 'brand', 'main_cat', 'rank', 'pred_rating']\n",
    "\n",
    "# Исключение товаров с низким реальным и прогнозным рейтингами\n",
    "item_rating['total_rating'] = item_rating['rating'] + item_rating['pred_rating']\n",
    "item_rating = item_rating[item_rating.total_rating >= 3].reset_index(drop=True)\n",
    "item_rating.head()"
   ]
  },
  {
   "cell_type": "code",
   "execution_count": 58,
   "metadata": {},
   "outputs": [
    {
     "data": {
      "text/plain": [
       "(19, 9)"
      ]
     },
     "execution_count": 58,
     "metadata": {},
     "output_type": "execute_result"
    }
   ],
   "source": [
    "item_rating.shape"
   ]
  },
  {
   "cell_type": "code",
   "execution_count": 59,
   "metadata": {},
   "outputs": [
    {
     "data": {
      "text/html": [
       "<div>\n",
       "<style scoped>\n",
       "    .dataframe tbody tr th:only-of-type {\n",
       "        vertical-align: middle;\n",
       "    }\n",
       "\n",
       "    .dataframe tbody tr th {\n",
       "        vertical-align: top;\n",
       "    }\n",
       "\n",
       "    .dataframe thead th {\n",
       "        text-align: right;\n",
       "    }\n",
       "</style>\n",
       "<table border=\"1\" class=\"dataframe\">\n",
       "  <thead>\n",
       "    <tr style=\"text-align: right;\">\n",
       "      <th></th>\n",
       "      <th>user_id</th>\n",
       "      <th>item_id</th>\n",
       "      <th>rating</th>\n",
       "      <th>title</th>\n",
       "      <th>brand</th>\n",
       "      <th>main_cat</th>\n",
       "      <th>rank</th>\n",
       "      <th>pred_rating</th>\n",
       "      <th>total_rating</th>\n",
       "    </tr>\n",
       "  </thead>\n",
       "  <tbody>\n",
       "    <tr>\n",
       "      <th>15</th>\n",
       "      <td>A3QQO9GVE0GOFE</td>\n",
       "      <td>B000056B5W</td>\n",
       "      <td>0.0</td>\n",
       "      <td>Teach Me Blues Guitar</td>\n",
       "      <td>Voyetra</td>\n",
       "      <td>Software</td>\n",
       "      <td>[]</td>\n",
       "      <td>5.0</td>\n",
       "      <td>5.0</td>\n",
       "    </tr>\n",
       "    <tr>\n",
       "      <th>9</th>\n",
       "      <td>A3QQO9GVE0GOFE</td>\n",
       "      <td>B00004W4AL</td>\n",
       "      <td>0.0</td>\n",
       "      <td>Quicken 2001 Basic</td>\n",
       "      <td>Intuit</td>\n",
       "      <td>Software</td>\n",
       "      <td>7,089 in Software (</td>\n",
       "      <td>4.8</td>\n",
       "      <td>4.8</td>\n",
       "    </tr>\n",
       "    <tr>\n",
       "      <th>4</th>\n",
       "      <td>A3QQO9GVE0GOFE</td>\n",
       "      <td>B00002S76T</td>\n",
       "      <td>0.0</td>\n",
       "      <td>eMerchant pro</td>\n",
       "      <td>BIG PICTURE TECHNOLOGIES</td>\n",
       "      <td>Software</td>\n",
       "      <td>61,014 in Software (</td>\n",
       "      <td>4.5</td>\n",
       "      <td>4.5</td>\n",
       "    </tr>\n",
       "    <tr>\n",
       "      <th>5</th>\n",
       "      <td>A3QQO9GVE0GOFE</td>\n",
       "      <td>B00003IRBV</td>\n",
       "      <td>0.0</td>\n",
       "      <td>Nancy Drew: Stay Tuned for Danger - PC</td>\n",
       "      <td>by\\n    \\n    Her Interactive</td>\n",
       "      <td>Video Games</td>\n",
       "      <td>[&gt;#47,965 in Video Games (See Top 100 in Video...</td>\n",
       "      <td>4.4</td>\n",
       "      <td>4.4</td>\n",
       "    </tr>\n",
       "    <tr>\n",
       "      <th>16</th>\n",
       "      <td>A3QQO9GVE0GOFE</td>\n",
       "      <td>B000056ORJ</td>\n",
       "      <td>0.0</td>\n",
       "      <td>Video Studio 5.0</td>\n",
       "      <td>ULead Systems</td>\n",
       "      <td>Software</td>\n",
       "      <td>61,407 in Software (</td>\n",
       "      <td>4.3</td>\n",
       "      <td>4.3</td>\n",
       "    </tr>\n",
       "    <tr>\n",
       "      <th>8</th>\n",
       "      <td>A3QQO9GVE0GOFE</td>\n",
       "      <td>B00004UFGD</td>\n",
       "      <td>0.0</td>\n",
       "      <td>101 Languages of the World</td>\n",
       "      <td>Transparent Language</td>\n",
       "      <td>Software</td>\n",
       "      <td>5,966 in Software (</td>\n",
       "      <td>4.2</td>\n",
       "      <td>4.2</td>\n",
       "    </tr>\n",
       "  </tbody>\n",
       "</table>\n",
       "</div>"
      ],
      "text/plain": [
       "           user_id     item_id  rating  \\\n",
       "15  A3QQO9GVE0GOFE  B000056B5W     0.0   \n",
       "9   A3QQO9GVE0GOFE  B00004W4AL     0.0   \n",
       "4   A3QQO9GVE0GOFE  B00002S76T     0.0   \n",
       "5   A3QQO9GVE0GOFE  B00003IRBV     0.0   \n",
       "16  A3QQO9GVE0GOFE  B000056ORJ     0.0   \n",
       "8   A3QQO9GVE0GOFE  B00004UFGD     0.0   \n",
       "\n",
       "                                     title                          brand  \\\n",
       "15                   Teach Me Blues Guitar                        Voyetra   \n",
       "9                       Quicken 2001 Basic                         Intuit   \n",
       "4                            eMerchant pro       BIG PICTURE TECHNOLOGIES   \n",
       "5   Nancy Drew: Stay Tuned for Danger - PC  by\\n    \\n    Her Interactive   \n",
       "16                        Video Studio 5.0                  ULead Systems   \n",
       "8               101 Languages of the World           Transparent Language   \n",
       "\n",
       "       main_cat                                               rank  \\\n",
       "15     Software                                                 []   \n",
       "9      Software                                7,089 in Software (   \n",
       "4      Software                               61,014 in Software (   \n",
       "5   Video Games  [>#47,965 in Video Games (See Top 100 in Video...   \n",
       "16     Software                               61,407 in Software (   \n",
       "8      Software                                5,966 in Software (   \n",
       "\n",
       "    pred_rating  total_rating  \n",
       "15          5.0           5.0  \n",
       "9           4.8           4.8  \n",
       "4           4.5           4.5  \n",
       "5           4.4           4.4  \n",
       "16          4.3           4.3  \n",
       "8           4.2           4.2  "
      ]
     },
     "execution_count": 59,
     "metadata": {},
     "output_type": "execute_result"
    }
   ],
   "source": [
    "# Вывод ТОП-лучших из предлагаемых к покупке товаров по предсказанному рейтингу\n",
    "item_rating[item_rating.pred_rating >= 4].sort_values('pred_rating', ascending=False)\n"
   ]
  },
  {
   "cell_type": "markdown",
   "metadata": {},
   "source": [
    "# Библиотека Surprise"
   ]
  },
  {
   "cell_type": "markdown",
   "metadata": {},
   "source": [
    "Используем библиотеку Surprise для Baseline, SVD, kNN и других методов"
   ]
  },
  {
   "cell_type": "code",
   "execution_count": 86,
   "metadata": {},
   "outputs": [
    {
     "name": "stdout",
     "output_type": "stream",
     "text": [
      "Collecting scikit-surprise\n",
      "  Downloading scikit-surprise-1.1.1.tar.gz (11.8 MB)\n",
      "Requirement already satisfied: joblib>=0.11 in c:\\users\\tima-\\appdata\\roaming\\python\\python37\\site-packages (from scikit-surprise) (1.3.2)\n",
      "Requirement already satisfied: numpy>=1.11.2 in c:\\programdata\\anaconda3\\lib\\site-packages (from scikit-surprise) (1.18.1)\n",
      "Requirement already satisfied: scipy>=1.0.0 in c:\\programdata\\anaconda3\\lib\\site-packages (from scikit-surprise) (1.7.3)\n",
      "Requirement already satisfied: six>=1.10.0 in c:\\programdata\\anaconda3\\lib\\site-packages (from scikit-surprise) (1.14.0)\n",
      "Building wheels for collected packages: scikit-surprise\n",
      "  Building wheel for scikit-surprise (setup.py): started\n",
      "  Building wheel for scikit-surprise (setup.py): finished with status 'done'\n",
      "  Created wheel for scikit-surprise: filename=scikit_surprise-1.1.1-cp37-cp37m-win_amd64.whl size=712976 sha256=0392ab57275a4fb7ba45c9ef25563b772161e783887fde34c1db80fb3fffc86f\n",
      "  Stored in directory: c:\\users\\tima-\\appdata\\local\\pip\\cache\\wheels\\76\\44\\74\\b498c42be47b2406bd27994e16c5188e337c657025ab400c1c\n",
      "Successfully built scikit-surprise\n",
      "Installing collected packages: scikit-surprise\n",
      "Successfully installed scikit-surprise-1.1.1\n"
     ]
    }
   ],
   "source": [
    "#!pip install scikit-surprise"
   ]
  },
  {
   "cell_type": "code",
   "execution_count": 66,
   "metadata": {},
   "outputs": [],
   "source": [
    "import surprise\n",
    "import json\n",
    "import pandas as pd\n",
    "import numpy as np\n",
    "from collections import defaultdict"
   ]
  },
  {
   "cell_type": "code",
   "execution_count": 67,
   "metadata": {},
   "outputs": [
    {
     "data": {
      "text/html": [
       "<div>\n",
       "<style scoped>\n",
       "    .dataframe tbody tr th:only-of-type {\n",
       "        vertical-align: middle;\n",
       "    }\n",
       "\n",
       "    .dataframe tbody tr th {\n",
       "        vertical-align: top;\n",
       "    }\n",
       "\n",
       "    .dataframe thead th {\n",
       "        text-align: right;\n",
       "    }\n",
       "</style>\n",
       "<table border=\"1\" class=\"dataframe\">\n",
       "  <thead>\n",
       "    <tr style=\"text-align: right;\">\n",
       "      <th></th>\n",
       "      <th>item_id</th>\n",
       "      <th>user_id</th>\n",
       "      <th>rating</th>\n",
       "      <th>timestamp</th>\n",
       "      <th>text</th>\n",
       "      <th>summary</th>\n",
       "      <th>title</th>\n",
       "      <th>brand</th>\n",
       "      <th>main_cat</th>\n",
       "      <th>rank</th>\n",
       "    </tr>\n",
       "  </thead>\n",
       "  <tbody>\n",
       "    <tr>\n",
       "      <th>21</th>\n",
       "      <td>0321719816</td>\n",
       "      <td>A38NELQT98S4H8</td>\n",
       "      <td>4.0</td>\n",
       "      <td>2010-10-20</td>\n",
       "      <td>I've been using Dreamweaver (and it's predeces...</td>\n",
       "      <td>A solid overview of Dreamweaver CS5</td>\n",
       "      <td>Learn Adobe Dreamweaver CS5 by Video: Core Tra...</td>\n",
       "      <td>Peach Pit Press</td>\n",
       "      <td>Software</td>\n",
       "      <td>9,956 in Software (</td>\n",
       "    </tr>\n",
       "    <tr>\n",
       "      <th>22</th>\n",
       "      <td>0321719816</td>\n",
       "      <td>A3QJU4FEN8PQSZ</td>\n",
       "      <td>4.0</td>\n",
       "      <td>2010-10-18</td>\n",
       "      <td>The demo is done with the PC version, with ref...</td>\n",
       "      <td>A good value</td>\n",
       "      <td>Learn Adobe Dreamweaver CS5 by Video: Core Tra...</td>\n",
       "      <td>Peach Pit Press</td>\n",
       "      <td>Software</td>\n",
       "      <td>9,956 in Software (</td>\n",
       "    </tr>\n",
       "    <tr>\n",
       "      <th>23</th>\n",
       "      <td>0321719816</td>\n",
       "      <td>ACJT8MUC0LRF0</td>\n",
       "      <td>5.0</td>\n",
       "      <td>2010-10-16</td>\n",
       "      <td>If you've been wanting to learn how to create ...</td>\n",
       "      <td>This is excellent software for those who want ...</td>\n",
       "      <td>Learn Adobe Dreamweaver CS5 by Video: Core Tra...</td>\n",
       "      <td>Peach Pit Press</td>\n",
       "      <td>Software</td>\n",
       "      <td>9,956 in Software (</td>\n",
       "    </tr>\n",
       "    <tr>\n",
       "      <th>24</th>\n",
       "      <td>0321719816</td>\n",
       "      <td>A2RQ0AT4XZUIXL</td>\n",
       "      <td>5.0</td>\n",
       "      <td>2010-10-14</td>\n",
       "      <td>I've been working with Dreamweaver for a few y...</td>\n",
       "      <td>Wonderful introduction to Dreamweaver</td>\n",
       "      <td>Learn Adobe Dreamweaver CS5 by Video: Core Tra...</td>\n",
       "      <td>Peach Pit Press</td>\n",
       "      <td>Software</td>\n",
       "      <td>9,956 in Software (</td>\n",
       "    </tr>\n",
       "    <tr>\n",
       "      <th>25</th>\n",
       "      <td>0321719816</td>\n",
       "      <td>AYUF7YETYOLNX</td>\n",
       "      <td>5.0</td>\n",
       "      <td>2010-10-12</td>\n",
       "      <td>I've been creating websites with Dreamweaver f...</td>\n",
       "      <td>A Fantastic Overview of Dream Weaver and Web D...</td>\n",
       "      <td>Learn Adobe Dreamweaver CS5 by Video: Core Tra...</td>\n",
       "      <td>Peach Pit Press</td>\n",
       "      <td>Software</td>\n",
       "      <td>9,956 in Software (</td>\n",
       "    </tr>\n",
       "  </tbody>\n",
       "</table>\n",
       "</div>"
      ],
      "text/plain": [
       "       item_id         user_id  rating  timestamp  \\\n",
       "21  0321719816  A38NELQT98S4H8     4.0 2010-10-20   \n",
       "22  0321719816  A3QJU4FEN8PQSZ     4.0 2010-10-18   \n",
       "23  0321719816   ACJT8MUC0LRF0     5.0 2010-10-16   \n",
       "24  0321719816  A2RQ0AT4XZUIXL     5.0 2010-10-14   \n",
       "25  0321719816   AYUF7YETYOLNX     5.0 2010-10-12   \n",
       "\n",
       "                                                 text  \\\n",
       "21  I've been using Dreamweaver (and it's predeces...   \n",
       "22  The demo is done with the PC version, with ref...   \n",
       "23  If you've been wanting to learn how to create ...   \n",
       "24  I've been working with Dreamweaver for a few y...   \n",
       "25  I've been creating websites with Dreamweaver f...   \n",
       "\n",
       "                                              summary  \\\n",
       "21                A solid overview of Dreamweaver CS5   \n",
       "22                                       A good value   \n",
       "23  This is excellent software for those who want ...   \n",
       "24              Wonderful introduction to Dreamweaver   \n",
       "25  A Fantastic Overview of Dream Weaver and Web D...   \n",
       "\n",
       "                                                title            brand  \\\n",
       "21  Learn Adobe Dreamweaver CS5 by Video: Core Tra...  Peach Pit Press   \n",
       "22  Learn Adobe Dreamweaver CS5 by Video: Core Tra...  Peach Pit Press   \n",
       "23  Learn Adobe Dreamweaver CS5 by Video: Core Tra...  Peach Pit Press   \n",
       "24  Learn Adobe Dreamweaver CS5 by Video: Core Tra...  Peach Pit Press   \n",
       "25  Learn Adobe Dreamweaver CS5 by Video: Core Tra...  Peach Pit Press   \n",
       "\n",
       "    main_cat                 rank  \n",
       "21  Software  9,956 in Software (  \n",
       "22  Software  9,956 in Software (  \n",
       "23  Software  9,956 in Software (  \n",
       "24  Software  9,956 in Software (  \n",
       "25  Software  9,956 in Software (  "
      ]
     },
     "execution_count": 67,
     "metadata": {},
     "output_type": "execute_result"
    }
   ],
   "source": [
    "df.head()"
   ]
  },
  {
   "cell_type": "code",
   "execution_count": 68,
   "metadata": {},
   "outputs": [
    {
     "data": {
      "text/html": [
       "<div>\n",
       "<style scoped>\n",
       "    .dataframe tbody tr th:only-of-type {\n",
       "        vertical-align: middle;\n",
       "    }\n",
       "\n",
       "    .dataframe tbody tr th {\n",
       "        vertical-align: top;\n",
       "    }\n",
       "\n",
       "    .dataframe thead th {\n",
       "        text-align: right;\n",
       "    }\n",
       "</style>\n",
       "<table border=\"1\" class=\"dataframe\">\n",
       "  <thead>\n",
       "    <tr style=\"text-align: right;\">\n",
       "      <th></th>\n",
       "      <th>rating</th>\n",
       "    </tr>\n",
       "  </thead>\n",
       "  <tbody>\n",
       "    <tr>\n",
       "      <th>count</th>\n",
       "      <td>35370.000000</td>\n",
       "    </tr>\n",
       "    <tr>\n",
       "      <th>mean</th>\n",
       "      <td>3.720780</td>\n",
       "    </tr>\n",
       "    <tr>\n",
       "      <th>std</th>\n",
       "      <td>1.498078</td>\n",
       "    </tr>\n",
       "    <tr>\n",
       "      <th>min</th>\n",
       "      <td>1.000000</td>\n",
       "    </tr>\n",
       "    <tr>\n",
       "      <th>25%</th>\n",
       "      <td>3.000000</td>\n",
       "    </tr>\n",
       "    <tr>\n",
       "      <th>50%</th>\n",
       "      <td>4.000000</td>\n",
       "    </tr>\n",
       "    <tr>\n",
       "      <th>75%</th>\n",
       "      <td>5.000000</td>\n",
       "    </tr>\n",
       "    <tr>\n",
       "      <th>max</th>\n",
       "      <td>5.000000</td>\n",
       "    </tr>\n",
       "  </tbody>\n",
       "</table>\n",
       "</div>"
      ],
      "text/plain": [
       "             rating\n",
       "count  35370.000000\n",
       "mean       3.720780\n",
       "std        1.498078\n",
       "min        1.000000\n",
       "25%        3.000000\n",
       "50%        4.000000\n",
       "75%        5.000000\n",
       "max        5.000000"
      ]
     },
     "execution_count": 68,
     "metadata": {},
     "output_type": "execute_result"
    }
   ],
   "source": [
    "df.describe()"
   ]
  },
  {
   "cell_type": "code",
   "execution_count": 69,
   "metadata": {},
   "outputs": [],
   "source": [
    "reader = surprise.Reader(line_format='user item rating', rating_scale=(0, 5))"
   ]
  },
  {
   "cell_type": "code",
   "execution_count": 70,
   "metadata": {},
   "outputs": [],
   "source": [
    "dataset = surprise.Dataset.load_from_df(df[['user_id', 'item_id', 'rating']], reader)"
   ]
  },
  {
   "cell_type": "code",
   "execution_count": 71,
   "metadata": {},
   "outputs": [
    {
     "data": {
      "text/plain": [
       "<surprise.dataset.DatasetAutoFolds at 0x1dd31eda548>"
      ]
     },
     "execution_count": 71,
     "metadata": {},
     "output_type": "execute_result"
    }
   ],
   "source": [
    "dataset"
   ]
  },
  {
   "cell_type": "markdown",
   "metadata": {},
   "source": [
    "## Baseline"
   ]
  },
  {
   "cell_type": "code",
   "execution_count": 72,
   "metadata": {},
   "outputs": [],
   "source": [
    "bl = surprise.BaselineOnly()"
   ]
  },
  {
   "cell_type": "code",
   "execution_count": 73,
   "metadata": {},
   "outputs": [
    {
     "name": "stdout",
     "output_type": "stream",
     "text": [
      "Estimating biases using als...\n",
      "Estimating biases using als...\n",
      "Estimating biases using als...\n",
      "Estimating biases using als...\n",
      "Estimating biases using als...\n",
      "Estimating biases using als...\n",
      "Estimating biases using als...\n",
      "Estimating biases using als...\n",
      "Estimating biases using als...\n",
      "Estimating biases using als...\n",
      "Evaluating RMSE, MAE of algorithm BaselineOnly on 10 split(s).\n",
      "\n",
      "                  Fold 1  Fold 2  Fold 3  Fold 4  Fold 5  Fold 6  Fold 7  Fold 8  Fold 9  Fold 10 Mean    Std     \n",
      "RMSE (testset)    1.3138  1.3178  1.3310  1.3372  1.3083  1.3235  1.3132  1.3168  1.3236  1.2980  1.3183  0.0107  \n",
      "MAE (testset)     1.0796  1.0797  1.0961  1.1099  1.0746  1.0918  1.0838  1.0772  1.0850  1.0755  1.0853  0.0105  \n",
      "Fit time          0.09    0.10    0.10    0.11    0.11    0.10    0.11    0.11    0.09    0.11    0.10    0.01    \n",
      "Test time         0.02    0.01    0.02    0.02    0.02    0.02    0.02    0.01    0.01    0.01    0.02    0.00    \n",
      "Wall time: 3.47 s\n"
     ]
    },
    {
     "data": {
      "text/plain": [
       "{'test_rmse': array([1.31383462, 1.3177953 , 1.33099915, 1.3372475 , 1.30833859,\n",
       "        1.32348005, 1.31315812, 1.31678261, 1.32357254, 1.29797599]),\n",
       " 'test_mae': array([1.07956827, 1.07973314, 1.09607718, 1.10989329, 1.07457866,\n",
       "        1.09183371, 1.08383111, 1.07724751, 1.08504066, 1.07553067]),\n",
       " 'fit_time': (0.09371066093444824,\n",
       "  0.09963369369506836,\n",
       "  0.10019612312316895,\n",
       "  0.10813355445861816,\n",
       "  0.10689520835876465,\n",
       "  0.10034799575805664,\n",
       "  0.10834002494812012,\n",
       "  0.11263442039489746,\n",
       "  0.08799934387207031,\n",
       "  0.10643815994262695),\n",
       " 'test_time': (0.016515016555786133,\n",
       "  0.01461482048034668,\n",
       "  0.019307374954223633,\n",
       "  0.01659536361694336,\n",
       "  0.0194857120513916,\n",
       "  0.021147489547729492,\n",
       "  0.01735973358154297,\n",
       "  0.014113187789916992,\n",
       "  0.014999866485595703,\n",
       "  0.014000415802001953)}"
      ]
     },
     "execution_count": 73,
     "metadata": {},
     "output_type": "execute_result"
    }
   ],
   "source": [
    "%%time\n",
    "\n",
    "surprise.model_selection.cross_validate(bl, dataset, measures=[\"RMSE\", \"MAE\"], cv=10, verbose=True)"
   ]
  },
  {
   "cell_type": "markdown",
   "metadata": {},
   "source": [
    "Для Baseline значение RMSE = 1.3195"
   ]
  },
  {
   "cell_type": "markdown",
   "metadata": {},
   "source": [
    "## SVD"
   ]
  },
  {
   "cell_type": "code",
   "execution_count": 74,
   "metadata": {},
   "outputs": [],
   "source": [
    "svd1 = surprise.SVD(n_factors=6, n_epochs=30, lr_all=0.002, reg_all=0.05, random_state=42)"
   ]
  },
  {
   "cell_type": "code",
   "execution_count": 75,
   "metadata": {},
   "outputs": [
    {
     "name": "stdout",
     "output_type": "stream",
     "text": [
      "Evaluating RMSE, MAE of algorithm SVD on 10 split(s).\n",
      "\n",
      "                  Fold 1  Fold 2  Fold 3  Fold 4  Fold 5  Fold 6  Fold 7  Fold 8  Fold 9  Fold 10 Mean    Std     \n",
      "RMSE (testset)    1.3076  1.2932  1.3428  1.3112  1.3162  1.3078  1.3367  1.3207  1.3226  1.3115  1.3170  0.0138  \n",
      "MAE (testset)     1.0746  1.0645  1.1034  1.0756  1.0900  1.0722  1.0929  1.0864  1.0898  1.0791  1.0829  0.0111  \n",
      "Fit time          0.80    0.75    0.84    0.77    0.83    0.86    0.79    0.77    0.81    0.78    0.80    0.03    \n",
      "Test time         0.02    0.02    0.03    0.03    0.02    0.03    0.02    0.02    0.03    0.02    0.02    0.00    \n",
      "Wall time: 9.25 s\n"
     ]
    },
    {
     "data": {
      "text/plain": [
       "{'test_rmse': array([1.30762569, 1.29317206, 1.3428375 , 1.31124599, 1.31617845,\n",
       "        1.30775125, 1.33671198, 1.3207472 , 1.32262888, 1.31154682]),\n",
       " 'test_mae': array([1.07456177, 1.0644908 , 1.10340455, 1.07556062, 1.09004952,\n",
       "        1.07220209, 1.09294163, 1.08643321, 1.08981707, 1.07907622]),\n",
       " 'fit_time': (0.7992308139801025,\n",
       "  0.7529363632202148,\n",
       "  0.84342360496521,\n",
       "  0.7737212181091309,\n",
       "  0.832634449005127,\n",
       "  0.85835862159729,\n",
       "  0.7941508293151855,\n",
       "  0.7651560306549072,\n",
       "  0.8143706321716309,\n",
       "  0.777116060256958),\n",
       " 'test_time': (0.022060871124267578,\n",
       "  0.02478194236755371,\n",
       "  0.029129505157470703,\n",
       "  0.025961637496948242,\n",
       "  0.02319622039794922,\n",
       "  0.025460004806518555,\n",
       "  0.022000789642333984,\n",
       "  0.02483654022216797,\n",
       "  0.02812361717224121,\n",
       "  0.02326679229736328)}"
      ]
     },
     "execution_count": 75,
     "metadata": {},
     "output_type": "execute_result"
    }
   ],
   "source": [
    "%%time\n",
    "\n",
    "surprise.model_selection.cross_validate(svd1, dataset, measures=[\"RMSE\", \"MAE\"], cv=10, verbose=True)"
   ]
  },
  {
   "cell_type": "code",
   "execution_count": 76,
   "metadata": {},
   "outputs": [],
   "source": [
    "# Ищем наилучшие параметры для SVD\n",
    "param_grid = {'n_factors': [3, 6, 10, 20, 40], 'n_epochs': [30,], \n",
    "              'biased': [True, ], 'lr_all': [0.005, 0.001], 'reg_all': [0.05, 0.02],\n",
    "              'random_state': [42, ]\n",
    "             }"
   ]
  },
  {
   "cell_type": "code",
   "execution_count": 77,
   "metadata": {},
   "outputs": [],
   "source": [
    "gs_svd = surprise.model_selection.GridSearchCV(surprise.SVD, param_grid, measures=[\"rmse\", \"mae\"], cv=3)"
   ]
  },
  {
   "cell_type": "code",
   "execution_count": 78,
   "metadata": {},
   "outputs": [
    {
     "name": "stdout",
     "output_type": "stream",
     "text": [
      "Wall time: 53 s\n"
     ]
    }
   ],
   "source": [
    "%%time\n",
    "\n",
    "gs_svd.fit(dataset)"
   ]
  },
  {
   "cell_type": "code",
   "execution_count": 79,
   "metadata": {},
   "outputs": [
    {
     "data": {
      "text/plain": [
       "{'n_factors': 3,\n",
       " 'n_epochs': 30,\n",
       " 'biased': True,\n",
       " 'init_mean': 0,\n",
       " 'init_std_dev': 0.1,\n",
       " 'lr_bu': 0.005,\n",
       " 'lr_bi': 0.005,\n",
       " 'lr_pu': 0.005,\n",
       " 'lr_qi': 0.005,\n",
       " 'reg_bu': 0.05,\n",
       " 'reg_bi': 0.05,\n",
       " 'reg_pu': 0.05,\n",
       " 'reg_qi': 0.05,\n",
       " 'random_state': 42,\n",
       " 'verbose': False,\n",
       " 'bsl_options': {},\n",
       " 'sim_options': {'user_based': True}}"
      ]
     },
     "execution_count": 79,
     "metadata": {},
     "output_type": "execute_result"
    }
   ],
   "source": [
    "vars(gs_svd.best_estimator[\"rmse\"])"
   ]
  },
  {
   "cell_type": "code",
   "execution_count": 80,
   "metadata": {},
   "outputs": [],
   "source": [
    "# С лучшими параметрами\n",
    "svd = surprise.SVD(n_factors=3, n_epochs=30, biased = True, lr_all=0.005, reg_all=0.02, random_state=42)"
   ]
  },
  {
   "cell_type": "code",
   "execution_count": 81,
   "metadata": {},
   "outputs": [
    {
     "name": "stdout",
     "output_type": "stream",
     "text": [
      "Evaluating RMSE, MAE of algorithm SVD on 10 split(s).\n",
      "\n",
      "                  Fold 1  Fold 2  Fold 3  Fold 4  Fold 5  Fold 6  Fold 7  Fold 8  Fold 9  Fold 10 Mean    Std     \n",
      "RMSE (testset)    1.2371  1.2458  1.2483  1.2467  1.2567  1.2443  1.2836  1.2412  1.2572  1.2442  1.2505  0.0125  \n",
      "MAE (testset)     0.9881  0.9957  0.9990  1.0055  1.0087  0.9970  1.0376  0.9931  1.0073  0.9931  1.0025  0.0133  \n",
      "Fit time          0.82    0.74    0.80    0.87    0.87    0.81    0.95    0.77    0.83    0.84    0.83    0.05    \n",
      "Test time         0.02    0.03    0.03    0.03    0.02    0.03    0.03    0.02    0.03    0.03    0.03    0.00    \n",
      "Wall time: 9.42 s\n"
     ]
    },
    {
     "data": {
      "text/plain": [
       "{'test_rmse': array([1.23714722, 1.24583869, 1.24832874, 1.2467361 , 1.25674117,\n",
       "        1.24429452, 1.28358372, 1.24117596, 1.25717294, 1.24423878]),\n",
       " 'test_mae': array([0.98813649, 0.99567683, 0.99900009, 1.00546997, 1.00866867,\n",
       "        0.99701554, 1.03755581, 0.9931284 , 1.00734705, 0.99307776]),\n",
       " 'fit_time': (0.8217587471008301,\n",
       "  0.7393434047698975,\n",
       "  0.7999999523162842,\n",
       "  0.8672659397125244,\n",
       "  0.8726916313171387,\n",
       "  0.8109302520751953,\n",
       "  0.947413444519043,\n",
       "  0.7715725898742676,\n",
       "  0.8316671848297119,\n",
       "  0.8443658351898193),\n",
       " 'test_time': (0.022542476654052734,\n",
       "  0.025002241134643555,\n",
       "  0.025000572204589844,\n",
       "  0.026012897491455078,\n",
       "  0.023485183715820312,\n",
       "  0.02900528907775879,\n",
       "  0.0308685302734375,\n",
       "  0.02378535270690918,\n",
       "  0.02744770050048828,\n",
       "  0.02899003028869629)}"
      ]
     },
     "execution_count": 81,
     "metadata": {},
     "output_type": "execute_result"
    }
   ],
   "source": [
    "%%time\n",
    "\n",
    "surprise.model_selection.cross_validate(svd, dataset, measures=[\"RMSE\", \"MAE\"], cv=10, verbose=True)"
   ]
  },
  {
   "cell_type": "markdown",
   "metadata": {},
   "source": [
    "Для SVD значение RMSE = 1.2502"
   ]
  },
  {
   "cell_type": "markdown",
   "metadata": {},
   "source": [
    "## kNN"
   ]
  },
  {
   "cell_type": "code",
   "execution_count": 82,
   "metadata": {},
   "outputs": [],
   "source": [
    "# Подбираем параметры\n",
    "param_grid = {'k': [5, 10, 20, 40], 'min_k': [2,], \n",
    "              'sim_options': {\n",
    "                  'name': ['cosine'],\n",
    "                  'user_based': [True, False]\n",
    "                  }\n",
    "             }\n"
   ]
  },
  {
   "cell_type": "code",
   "execution_count": 83,
   "metadata": {},
   "outputs": [],
   "source": [
    "gs = surprise.model_selection.GridSearchCV(surprise.KNNBaseline, param_grid, measures=[\"rmse\", \"mae\"], cv=3)"
   ]
  },
  {
   "cell_type": "code",
   "execution_count": 84,
   "metadata": {},
   "outputs": [
    {
     "name": "stdout",
     "output_type": "stream",
     "text": [
      "Estimating biases using als...\n",
      "Computing the cosine similarity matrix...\n",
      "Done computing similarity matrix.\n",
      "Estimating biases using als...\n",
      "Computing the cosine similarity matrix...\n",
      "Done computing similarity matrix.\n",
      "Estimating biases using als...\n",
      "Computing the cosine similarity matrix...\n",
      "Done computing similarity matrix.\n",
      "Estimating biases using als...\n",
      "Computing the cosine similarity matrix...\n",
      "Done computing similarity matrix.\n",
      "Estimating biases using als...\n",
      "Computing the cosine similarity matrix...\n",
      "Done computing similarity matrix.\n",
      "Estimating biases using als...\n",
      "Computing the cosine similarity matrix...\n",
      "Done computing similarity matrix.\n",
      "Estimating biases using als...\n",
      "Computing the cosine similarity matrix...\n",
      "Done computing similarity matrix.\n",
      "Estimating biases using als...\n",
      "Computing the cosine similarity matrix...\n",
      "Done computing similarity matrix.\n",
      "Estimating biases using als...\n",
      "Computing the cosine similarity matrix...\n",
      "Done computing similarity matrix.\n",
      "Estimating biases using als...\n",
      "Computing the cosine similarity matrix...\n",
      "Done computing similarity matrix.\n",
      "Estimating biases using als...\n",
      "Computing the cosine similarity matrix...\n",
      "Done computing similarity matrix.\n",
      "Estimating biases using als...\n",
      "Computing the cosine similarity matrix...\n",
      "Done computing similarity matrix.\n",
      "Estimating biases using als...\n",
      "Computing the cosine similarity matrix...\n",
      "Done computing similarity matrix.\n",
      "Estimating biases using als...\n",
      "Computing the cosine similarity matrix...\n",
      "Done computing similarity matrix.\n",
      "Estimating biases using als...\n",
      "Computing the cosine similarity matrix...\n",
      "Done computing similarity matrix.\n",
      "Estimating biases using als...\n",
      "Computing the cosine similarity matrix...\n",
      "Done computing similarity matrix.\n",
      "Estimating biases using als...\n",
      "Computing the cosine similarity matrix...\n",
      "Done computing similarity matrix.\n",
      "Estimating biases using als...\n",
      "Computing the cosine similarity matrix...\n",
      "Done computing similarity matrix.\n",
      "Estimating biases using als...\n",
      "Computing the cosine similarity matrix...\n",
      "Done computing similarity matrix.\n",
      "Estimating biases using als...\n",
      "Computing the cosine similarity matrix...\n",
      "Done computing similarity matrix.\n",
      "Estimating biases using als...\n",
      "Computing the cosine similarity matrix...\n",
      "Done computing similarity matrix.\n",
      "Estimating biases using als...\n",
      "Computing the cosine similarity matrix...\n",
      "Done computing similarity matrix.\n",
      "Estimating biases using als...\n",
      "Computing the cosine similarity matrix...\n",
      "Done computing similarity matrix.\n",
      "Estimating biases using als...\n",
      "Computing the cosine similarity matrix...\n",
      "Done computing similarity matrix.\n",
      "Wall time: 39.7 s\n"
     ]
    }
   ],
   "source": [
    "%%time\n",
    "\n",
    "gs.fit(dataset)"
   ]
  },
  {
   "cell_type": "code",
   "execution_count": 85,
   "metadata": {},
   "outputs": [
    {
     "data": {
      "text/plain": [
       "{'bsl_options': {},\n",
       " 'sim_options': {'name': 'cosine', 'user_based': False},\n",
       " 'verbose': True,\n",
       " 'k': 20,\n",
       " 'min_k': 2}"
      ]
     },
     "execution_count": 85,
     "metadata": {},
     "output_type": "execute_result"
    }
   ],
   "source": [
    "vars(gs.best_estimator[\"rmse\"])"
   ]
  },
  {
   "cell_type": "code",
   "execution_count": 86,
   "metadata": {},
   "outputs": [],
   "source": [
    "# С лучшими параметрами\n",
    "knn = surprise.KNNBaseline(k=40, min_k = 1, sim_options={'name':'cosine', 'user_based': True}, random_state=42)"
   ]
  },
  {
   "cell_type": "code",
   "execution_count": 87,
   "metadata": {},
   "outputs": [
    {
     "name": "stdout",
     "output_type": "stream",
     "text": [
      "Estimating biases using als...\n",
      "Computing the cosine similarity matrix...\n",
      "Done computing similarity matrix.\n",
      "Estimating biases using als...\n",
      "Computing the cosine similarity matrix...\n",
      "Done computing similarity matrix.\n",
      "Estimating biases using als...\n",
      "Computing the cosine similarity matrix...\n",
      "Done computing similarity matrix.\n",
      "Estimating biases using als...\n",
      "Computing the cosine similarity matrix...\n",
      "Done computing similarity matrix.\n",
      "Estimating biases using als...\n",
      "Computing the cosine similarity matrix...\n",
      "Done computing similarity matrix.\n",
      "Estimating biases using als...\n",
      "Computing the cosine similarity matrix...\n",
      "Done computing similarity matrix.\n",
      "Estimating biases using als...\n",
      "Computing the cosine similarity matrix...\n",
      "Done computing similarity matrix.\n",
      "Estimating biases using als...\n",
      "Computing the cosine similarity matrix...\n",
      "Done computing similarity matrix.\n",
      "Estimating biases using als...\n",
      "Computing the cosine similarity matrix...\n",
      "Done computing similarity matrix.\n",
      "Estimating biases using als...\n",
      "Computing the cosine similarity matrix...\n",
      "Done computing similarity matrix.\n",
      "Evaluating RMSE, MAE of algorithm KNNBaseline on 10 split(s).\n",
      "\n",
      "                  Fold 1  Fold 2  Fold 3  Fold 4  Fold 5  Fold 6  Fold 7  Fold 8  Fold 9  Fold 10 Mean    Std     \n",
      "RMSE (testset)    1.3932  1.3919  1.4123  1.4111  1.4169  1.4145  1.3997  1.3871  1.3984  1.4194  1.4044  0.0111  \n",
      "MAE (testset)     1.0951  1.0972  1.1062  1.0929  1.1068  1.0958  1.0935  1.0713  1.0883  1.1125  1.0959  0.0109  \n",
      "Fit time          2.51    2.63    2.75    2.66    2.46    2.41    2.40    2.35    2.58    2.60    2.53    0.12    \n",
      "Test time         0.20    0.21    0.25    0.26    0.20    0.23    0.25    0.23    0.22    0.20    0.23    0.02    \n"
     ]
    },
    {
     "data": {
      "text/plain": [
       "{'test_rmse': array([1.39316581, 1.39186798, 1.41234086, 1.41108828, 1.41691844,\n",
       "        1.41445873, 1.39969009, 1.38709323, 1.39837112, 1.41944896]),\n",
       " 'test_mae': array([1.09512523, 1.09715739, 1.10619693, 1.0928734 , 1.10676345,\n",
       "        1.09577189, 1.09348049, 1.07132939, 1.08827655, 1.11246743]),\n",
       " 'fit_time': (2.513823986053467,\n",
       "  2.6343841552734375,\n",
       "  2.750800609588623,\n",
       "  2.656562566757202,\n",
       "  2.4553465843200684,\n",
       "  2.4111013412475586,\n",
       "  2.3967607021331787,\n",
       "  2.347466468811035,\n",
       "  2.5778391361236572,\n",
       "  2.598707437515259),\n",
       " 'test_time': (0.19843721389770508,\n",
       "  0.21052765846252441,\n",
       "  0.25277256965637207,\n",
       "  0.26184701919555664,\n",
       "  0.20025134086608887,\n",
       "  0.22941279411315918,\n",
       "  0.2503011226654053,\n",
       "  0.2295064926147461,\n",
       "  0.2180023193359375,\n",
       "  0.20223188400268555)}"
      ]
     },
     "execution_count": 87,
     "metadata": {},
     "output_type": "execute_result"
    }
   ],
   "source": [
    "surprise.model_selection.cross_validate(knn, dataset, measures=[\"RMSE\", \"MAE\"], cv=10, verbose=True)"
   ]
  },
  {
   "cell_type": "markdown",
   "metadata": {},
   "source": [
    "Для KNN значение RMSE = 1.4056. Даже хуже, чем для Baseline"
   ]
  },
  {
   "cell_type": "markdown",
   "metadata": {},
   "source": [
    "## Slope One"
   ]
  },
  {
   "cell_type": "code",
   "execution_count": 88,
   "metadata": {},
   "outputs": [],
   "source": [
    "so = surprise.SlopeOne()"
   ]
  },
  {
   "cell_type": "code",
   "execution_count": 89,
   "metadata": {},
   "outputs": [
    {
     "name": "stdout",
     "output_type": "stream",
     "text": [
      "Evaluating RMSE, MAE of algorithm SlopeOne on 10 split(s).\n",
      "\n",
      "                  Fold 1  Fold 2  Fold 3  Fold 4  Fold 5  Fold 6  Fold 7  Fold 8  Fold 9  Fold 10 Mean    Std     \n",
      "RMSE (testset)    1.3685  1.3983  1.3809  1.3712  1.3917  1.3875  1.4133  1.3910  1.3763  1.4032  1.3882  0.0136  \n",
      "MAE (testset)     0.9452  0.9696  0.9682  0.9661  0.9616  0.9603  0.9935  0.9741  0.9533  0.9735  0.9665  0.0124  \n",
      "Fit time          0.44    0.43    0.41    0.46    0.44    0.41    0.42    0.42    0.49    0.47    0.44    0.03    \n",
      "Test time         0.04    0.05    0.04    0.07    0.04    0.05    0.04    0.04    0.05    0.04    0.05    0.01    \n",
      "Wall time: 5.73 s\n"
     ]
    },
    {
     "data": {
      "text/plain": [
       "{'test_rmse': array([1.36853196, 1.39828058, 1.38088451, 1.37121388, 1.39173991,\n",
       "        1.38749872, 1.41325817, 1.39101996, 1.37628887, 1.40323407]),\n",
       " 'test_mae': array([0.94517449, 0.96961051, 0.9681869 , 0.96612871, 0.96164749,\n",
       "        0.96030332, 0.99352241, 0.97412876, 0.95328922, 0.97345441]),\n",
       " 'fit_time': (0.44169139862060547,\n",
       "  0.4280238151550293,\n",
       "  0.4051814079284668,\n",
       "  0.4617743492126465,\n",
       "  0.43725132942199707,\n",
       "  0.40837526321411133,\n",
       "  0.41829514503479004,\n",
       "  0.4236750602722168,\n",
       "  0.48627376556396484,\n",
       "  0.4713311195373535),\n",
       " 'test_time': (0.03999662399291992,\n",
       "  0.0454256534576416,\n",
       "  0.04450654983520508,\n",
       "  0.07186675071716309,\n",
       "  0.04200172424316406,\n",
       "  0.04675602912902832,\n",
       "  0.03900027275085449,\n",
       "  0.043886423110961914,\n",
       "  0.051012277603149414,\n",
       "  0.0409998893737793)}"
      ]
     },
     "execution_count": 89,
     "metadata": {},
     "output_type": "execute_result"
    }
   ],
   "source": [
    "%%time\n",
    "\n",
    "surprise.model_selection.cross_validate(so, dataset, measures=[\"RMSE\", \"MAE\"], cv=10, verbose=True)"
   ]
  },
  {
   "cell_type": "markdown",
   "metadata": {},
   "source": [
    "## Co Clastering"
   ]
  },
  {
   "cell_type": "code",
   "execution_count": 90,
   "metadata": {},
   "outputs": [],
   "source": [
    "param_grid = {\n",
    "              'n_cltr_u': [3, 6, 10, 20],\n",
    "              'n_cltr_i': [3, 6, 10, 20],\n",
    "              'n_epochs': [30,],\n",
    "              'random_state': [42,]\n",
    "             }"
   ]
  },
  {
   "cell_type": "code",
   "execution_count": 91,
   "metadata": {},
   "outputs": [],
   "source": [
    "gs_cc = surprise.model_selection.GridSearchCV(surprise.CoClustering, param_grid, measures=[\"rmse\", \"mae\"], cv=3)"
   ]
  },
  {
   "cell_type": "code",
   "execution_count": 92,
   "metadata": {},
   "outputs": [
    {
     "name": "stdout",
     "output_type": "stream",
     "text": [
      "Wall time: 2min 44s\n"
     ]
    }
   ],
   "source": [
    "%%time\n",
    "\n",
    "gs_cc.fit(dataset)"
   ]
  },
  {
   "cell_type": "code",
   "execution_count": 93,
   "metadata": {},
   "outputs": [
    {
     "data": {
      "text/plain": [
       "{'bsl_options': {},\n",
       " 'sim_options': {'user_based': True},\n",
       " 'n_cltr_u': 6,\n",
       " 'n_cltr_i': 3,\n",
       " 'n_epochs': 30,\n",
       " 'verbose': False,\n",
       " 'random_state': 42}"
      ]
     },
     "execution_count": 93,
     "metadata": {},
     "output_type": "execute_result"
    }
   ],
   "source": [
    "vars(gs_cc.best_estimator[\"rmse\"])"
   ]
  },
  {
   "cell_type": "code",
   "execution_count": 94,
   "metadata": {},
   "outputs": [],
   "source": [
    "# С лучшими параметрами\n",
    "co = surprise.CoClustering(n_cltr_u=3, n_cltr_i = 3, n_epochs=30, random_state=42)"
   ]
  },
  {
   "cell_type": "code",
   "execution_count": 95,
   "metadata": {
    "scrolled": true
   },
   "outputs": [
    {
     "name": "stdout",
     "output_type": "stream",
     "text": [
      "Evaluating RMSE, MAE of algorithm CoClustering on 10 split(s).\n",
      "\n",
      "                  Fold 1  Fold 2  Fold 3  Fold 4  Fold 5  Fold 6  Fold 7  Fold 8  Fold 9  Fold 10 Mean    Std     \n",
      "RMSE (testset)    1.3495  1.3666  1.4306  1.3527  1.3612  1.3822  1.3421  1.3532  1.3387  1.3711  1.3648  0.0253  \n",
      "MAE (testset)     0.9346  0.9499  0.9955  0.9461  0.9425  0.9697  0.9347  0.9327  0.9434  0.9609  0.9510  0.0186  \n",
      "Fit time          2.68    2.74    2.73    2.76    2.61    2.79    2.80    2.76    2.72    2.76    2.74    0.05    \n",
      "Test time         0.02    0.02    0.02    0.02    0.02    0.02    0.02    0.02    0.02    0.02    0.02    0.00    \n"
     ]
    },
    {
     "data": {
      "text/plain": [
       "{'test_rmse': array([1.34945685, 1.36659508, 1.4306453 , 1.35270113, 1.3612164 ,\n",
       "        1.3822388 , 1.3421049 , 1.35321991, 1.33872894, 1.37108659]),\n",
       " 'test_mae': array([0.93464951, 0.9498786 , 0.99552863, 0.94607381, 0.94254211,\n",
       "        0.96966071, 0.93472782, 0.93265145, 0.94342193, 0.96089763]),\n",
       " 'fit_time': (2.684061050415039,\n",
       "  2.7429986000061035,\n",
       "  2.7345476150512695,\n",
       "  2.7638564109802246,\n",
       "  2.6120030879974365,\n",
       "  2.7900335788726807,\n",
       "  2.7978954315185547,\n",
       "  2.7583718299865723,\n",
       "  2.715259552001953,\n",
       "  2.7557880878448486),\n",
       " 'test_time': (0.017999649047851562,\n",
       "  0.02008843421936035,\n",
       "  0.022008419036865234,\n",
       "  0.01699995994567871,\n",
       "  0.017999887466430664,\n",
       "  0.01699995994567871,\n",
       "  0.020039081573486328,\n",
       "  0.016969680786132812,\n",
       "  0.01821303367614746,\n",
       "  0.017999887466430664)}"
      ]
     },
     "execution_count": 95,
     "metadata": {},
     "output_type": "execute_result"
    }
   ],
   "source": [
    "surprise.model_selection.cross_validate(co, dataset, measures=[\"RMSE\", \"MAE\"], cv=10, verbose=True)"
   ]
  },
  {
   "cell_type": "markdown",
   "metadata": {},
   "source": [
    "Для Co Clasting значение RMSE = 1.3571, практический такой же, как и для Baseline"
   ]
  },
  {
   "cell_type": "markdown",
   "metadata": {},
   "source": [
    "## Расчитаем рекомендации для лучшей модели"
   ]
  },
  {
   "cell_type": "code",
   "execution_count": 96,
   "metadata": {},
   "outputs": [],
   "source": [
    "# Берем лучшую модель, с лучшими параметрами\n",
    "svd = surprise.SVD(n_factors=3, n_epochs=30, biased = True, lr_all=0.005, reg_all=0.02, random_state=42)"
   ]
  },
  {
   "cell_type": "code",
   "execution_count": 97,
   "metadata": {},
   "outputs": [],
   "source": [
    "# В библиотеки surpise реализована правильная разбивка на тренировачную и тестовую часть, которая учитывает, \n",
    "# чтобы примеры были обязательно в обеих выборках\n",
    "trainset = dataset.build_full_trainset()"
   ]
  },
  {
   "cell_type": "code",
   "execution_count": 98,
   "metadata": {},
   "outputs": [
    {
     "name": "stdout",
     "output_type": "stream",
     "text": [
      "Wall time: 902 ms\n"
     ]
    },
    {
     "data": {
      "text/plain": [
       "<surprise.prediction_algorithms.matrix_factorization.SVD at 0x1dd4d14d388>"
      ]
     },
     "execution_count": 98,
     "metadata": {},
     "output_type": "execute_result"
    }
   ],
   "source": [
    "%%time\n",
    "\n",
    "svd.fit(trainset)"
   ]
  },
  {
   "cell_type": "code",
   "execution_count": 99,
   "metadata": {},
   "outputs": [],
   "source": [
    "# Итератор для всех пар (u, i), которых НЕТ в обучающем наборе\n",
    "testset = trainset.build_anti_testset()"
   ]
  },
  {
   "cell_type": "code",
   "execution_count": 106,
   "metadata": {},
   "outputs": [],
   "source": [
    "products = {k:v for (k,v) in zip(df['item_id'], df['title'])}\n",
    "#products"
   ]
  },
  {
   "cell_type": "code",
   "execution_count": 101,
   "metadata": {},
   "outputs": [],
   "source": [
    "def get_top_n(predictions, n=10):\n",
    "    \"\"\"Возвращает топ-N рекомендаций для каждого пользователя из набора прогнозов.\n",
    "\n",
    "     Аргументы:\n",
    "         предсказания (список объектов предсказаний): список предсказаний, каторый\n",
    "             получен тестовым методом алгоритма.\n",
    "         n(int): количество рекомендаций для вывода для каждого пользователя. По умолчанию\n",
    "             это 10.\n",
    "\n",
    "     Возвращает:\n",
    "         словарь, в котором ключи представляют собой идентификаторы пользователей (необработанные), \n",
    "             а значения представляют собой списки кортежей:\n",
    "         [(необработанный идентификатор элемента, оценка рейтинга), ...] размера n.    \n",
    "    \"\"\"\n",
    "\n",
    "    # Сначала сопоставляем прогнозы с каждым пользователем.\n",
    "    top_n = defaultdict(list)\n",
    "    for uid, iid, true_r, est, _ in predictions:\n",
    "        top_n[uid].append((iid, est))\n",
    "\n",
    "    # Затем сортируем прогнозы для каждого пользователя и извлекаем n самых высоких.\n",
    "    for uid, user_ratings in top_n.items():\n",
    "        user_ratings.sort(key=lambda x: x[1], reverse=True)\n",
    "        top_n[uid] = user_ratings[:n]\n",
    "\n",
    "    return top_n"
   ]
  },
  {
   "cell_type": "code",
   "execution_count": 102,
   "metadata": {},
   "outputs": [],
   "source": [
    "def get_recommendations(algo, user_id, n=20):\n",
    "    global products, testset\n",
    "    \n",
    "    products_bought = set(df[df['user_id'] == user_id]['item_id'])\n",
    "    products_bought_1 = [products[i] for i in products_bought]\n",
    "    \n",
    "    print(user_id)\n",
    "    print('Куплено', products_bought_1)\n",
    "    \n",
    "    testset_1 = (el for el in testset if el[0] == user_id)\n",
    "    \n",
    "    predictions = algo.test(testset_1)\n",
    "    \n",
    "    products_rec = get_top_n(predictions, n=n)[user_id]\n",
    "    \n",
    "    \n",
    "    products_rec = [p for p in products_rec if p[0] not in products_bought]\n",
    "    \n",
    "    products_rec_1 = [(products[p[0]], p[1]) for p in products_rec]\n",
    "    \n",
    "    print('\\n\\n\\nРекомендации:', products_rec_1)\n",
    "    \n",
    "    return products_rec"
   ]
  },
  {
   "cell_type": "code",
   "execution_count": 103,
   "metadata": {},
   "outputs": [
    {
     "name": "stdout",
     "output_type": "stream",
     "text": [
      "A3QQO9GVE0GOFE\n",
      "Куплено ['Yu-Gi-Oh Power of Chaos: Joey the Passion - PC', 'The Simpsons: Virtual Springfield', 'Thomas the Tank Engine &amp; Friends - PC', 'Thomas &amp; Friends  Building the New Line - PC/Mac']\n",
      "\n",
      "\n",
      "\n",
      "Рекомендации: [('Key Span 4-Port USB Hub - White (UH-4WH)', 4.6484719180270275), ('Irocks Red USB 2.0 Illuminated 4PORT Hub', 4.639997572544239), ('Iogear POWERLINE/HOMEPLUG WALL MOUNT (GHPU21)', 4.632621441564319), ('Sony VAIO 802.11a/b/g Ethernet Converter (PCWADE80)', 4.629184346401905), ('World of Goo', 4.578937924108348), ('Corel Painter 2015 (Old Version)', 4.521944363150756), ('PhotoImpact 6.0', 4.460517645113921), ('Autodesk SketchBook Pro 7', 4.45761623387858), (\"Apple iWork '08 - Old Version\", 4.4541534839801935), ('Apple Mac OS X 10.4 Tiger [OLD VERSION]', 4.4447336969638735), ('TurboTax Deluxe Fed + Efile 2013 OLD VERSION', 4.439505985284535), ('Pajama Sam 3: You Are What You Eat From Your Head to Your Feet - PC/Mac', 4.415359346046722), ('H&amp;R Block Tax Software Basic 2014 Win [Download]', 4.396637991591027), ('Sony Vegas Movie Studio HD Platinum 11 Production Suite [Old Version]', 4.387237035753085), ('Quicken WillMaker Plus 2016', 4.375116693346821), ('Scrabble: Crossword Game - PC', 4.370620524753536), ('SketchBook Pro 2010 - Old Version', 4.353753884788829), ('Nancy Drew: Last Train to Blue Moon Canyon - PC', 4.340637563886171), ('Checks - Personal Pack', 4.336357071720825), ('Cyberlink PowerDirector 11 Ultimate Suite', 4.3261452610440685)]\n"
     ]
    }
   ],
   "source": [
    "rec = get_recommendations(algo=svd, user_id='A3QQO9GVE0GOFE')"
   ]
  },
  {
   "cell_type": "code",
   "execution_count": 104,
   "metadata": {},
   "outputs": [
    {
     "name": "stdout",
     "output_type": "stream",
     "text": [
      "A3QQO9GVE0GOFE\n",
      "Куплено ['Yu-Gi-Oh Power of Chaos: Joey the Passion - PC', 'The Simpsons: Virtual Springfield', 'Thomas the Tank Engine &amp; Friends - PC', 'Thomas &amp; Friends  Building the New Line - PC/Mac']\n",
      "\n",
      "\n",
      "\n",
      "Рекомендации: [('Key Span 4-Port USB Hub - White (UH-4WH)', 4.783990814310533), ('Irocks Red USB 2.0 Illuminated 4PORT Hub', 4.775938023673797), ('Iogear POWERLINE/HOMEPLUG WALL MOUNT (GHPU21)', 4.756752201006135), ('Sony VAIO 802.11a/b/g Ethernet Converter (PCWADE80)', 4.756024220131915), ('Corel Painter 2015 (Old Version)', 4.379413594839381), ('Kindle for PC [Download]', 4.353078642111101), (\"Apple iWork '08 - Old Version\", 4.313876090907532), ('Norton Security Premium &ndash; 10 Devices &ndash; 1 Year Subscription - Instant Download - 2019 Ready', 4.297179651367568), ('TurboTax Deluxe Fed + Efile 2013 OLD VERSION', 4.286348012565313), ('Apple Mac OS X 10.4 Tiger [OLD VERSION]', 4.2827774242824335), ('Pajama Sam 3: You Are What You Eat From Your Head to Your Feet - PC/Mac', 4.258047309994972), ('Quicken WillMaker Plus 2016', 4.247995401516226), ('Corel WordPerfect Office X7 Standard [Old Version]', 4.241088487861768), ('Nancy Drew: The Secret of Shadow Ranch - PC', 4.2337695358026295), ('Norton Security Premium &ndash; 10 Devices &ndash; 1 Year Subscription - Product Key Card - 2019 Ready', 4.231850092599895), ('I Spy Fantasy  [Old Version] - PC/Mac', 4.230911186336762), ('Nancy Drew: Last Train to Blue Moon Canyon - PC', 4.2279346217305935), ('Norton Security Deluxe &ndash; 5 Devices &ndash; 1 Year Subscription &ndash; Product Key Card - 2019 Ready', 4.223945670397555), ('Windows 7 Professional SP1 64bit (OEM) System Builder DVD 1 Pack [Old Version]', 4.2229698264672555), ('Block Financial H&amp;R Block Tax Software 15 Premium + State - PC/Mac&nbsp;Disc Twister Parent', 4.22203486856241)]\n"
     ]
    }
   ],
   "source": [
    "rec = get_recommendations(algo=bl, user_id='A3QQO9GVE0GOFE')"
   ]
  },
  {
   "cell_type": "markdown",
   "metadata": {},
   "source": [
    "Алгоритмы baseline и svd рекомендуют практически одинаковые товары "
   ]
  },
  {
   "cell_type": "markdown",
   "metadata": {},
   "source": [
    "## Content-based recommender systems"
   ]
  },
  {
   "cell_type": "code",
   "execution_count": 36,
   "metadata": {},
   "outputs": [
    {
     "data": {
      "text/html": [
       "<div>\n",
       "<style scoped>\n",
       "    .dataframe tbody tr th:only-of-type {\n",
       "        vertical-align: middle;\n",
       "    }\n",
       "\n",
       "    .dataframe tbody tr th {\n",
       "        vertical-align: top;\n",
       "    }\n",
       "\n",
       "    .dataframe thead th {\n",
       "        text-align: right;\n",
       "    }\n",
       "</style>\n",
       "<table border=\"1\" class=\"dataframe\">\n",
       "  <thead>\n",
       "    <tr style=\"text-align: right;\">\n",
       "      <th></th>\n",
       "      <th>item_id</th>\n",
       "      <th>title</th>\n",
       "      <th>brand</th>\n",
       "      <th>main_cat</th>\n",
       "      <th>rank</th>\n",
       "    </tr>\n",
       "  </thead>\n",
       "  <tbody>\n",
       "    <tr>\n",
       "      <th>0</th>\n",
       "      <td>0030672120</td>\n",
       "      <td>HOLT PHYSICS LESSON PRESENTATION CD-ROM QUICK ...</td>\n",
       "      <td>HOLT. RINEHART AND WINSTON</td>\n",
       "      <td>Software</td>\n",
       "      <td>25,550 in Software (</td>\n",
       "    </tr>\n",
       "    <tr>\n",
       "      <th>1</th>\n",
       "      <td>0071480935</td>\n",
       "      <td>Sing, Watch, &amp;amp; Learn Spanish (DVD + Guide)...</td>\n",
       "      <td>McGraw Hill</td>\n",
       "      <td>Software</td>\n",
       "      <td>15,792 in Software (</td>\n",
       "    </tr>\n",
       "    <tr>\n",
       "      <th>2</th>\n",
       "      <td>007329506X</td>\n",
       "      <td>Connect with LearnSmart Access Card for Microb...</td>\n",
       "      <td>McGraw-Hill Science/Engineering/Math</td>\n",
       "      <td>Software</td>\n",
       "      <td>16,900 in Software (</td>\n",
       "    </tr>\n",
       "    <tr>\n",
       "      <th>3</th>\n",
       "      <td>0073513458</td>\n",
       "      <td>LearnSmart Standalone Access Card for Prescott...</td>\n",
       "      <td>McGraw-Hill Education</td>\n",
       "      <td>Software</td>\n",
       "      <td>12,986 in Software (</td>\n",
       "    </tr>\n",
       "    <tr>\n",
       "      <th>4</th>\n",
       "      <td>0073525758</td>\n",
       "      <td>Anatomy &amp;amp; Physiology Revealed Student Acce...</td>\n",
       "      <td>McGraw-Hill Education</td>\n",
       "      <td>Software</td>\n",
       "      <td>14,861 in Software (</td>\n",
       "    </tr>\n",
       "  </tbody>\n",
       "</table>\n",
       "</div>"
      ],
      "text/plain": [
       "      item_id                                              title  \\\n",
       "0  0030672120  HOLT PHYSICS LESSON PRESENTATION CD-ROM QUICK ...   \n",
       "1  0071480935  Sing, Watch, &amp; Learn Spanish (DVD + Guide)...   \n",
       "2  007329506X  Connect with LearnSmart Access Card for Microb...   \n",
       "3  0073513458  LearnSmart Standalone Access Card for Prescott...   \n",
       "4  0073525758  Anatomy &amp; Physiology Revealed Student Acce...   \n",
       "\n",
       "                                  brand  main_cat                  rank  \n",
       "0            HOLT. RINEHART AND WINSTON  Software  25,550 in Software (  \n",
       "1                           McGraw Hill  Software  15,792 in Software (  \n",
       "2  McGraw-Hill Science/Engineering/Math  Software  16,900 in Software (  \n",
       "3                 McGraw-Hill Education  Software  12,986 in Software (  \n",
       "4                 McGraw-Hill Education  Software  14,861 in Software (  "
      ]
     },
     "execution_count": 36,
     "metadata": {},
     "output_type": "execute_result"
    }
   ],
   "source": [
    "item_data2.head()"
   ]
  },
  {
   "cell_type": "code",
   "execution_count": 42,
   "metadata": {},
   "outputs": [
    {
     "data": {
      "text/plain": [
       "(26790, 5)"
      ]
     },
     "execution_count": 42,
     "metadata": {},
     "output_type": "execute_result"
    }
   ],
   "source": [
    "item_data2.shape"
   ]
  },
  {
   "cell_type": "code",
   "execution_count": 37,
   "metadata": {},
   "outputs": [],
   "source": [
    "# Выполняем TF-IDF и считаем скор для каждого названия товара.\n",
    "from sklearn.feature_extraction.text import TfidfVectorizer, TfidfTransformer\n",
    "tfidf = TfidfVectorizer(analyzer='word', stop_words='english')\n",
    "tfidf_matrix = tfidf.fit_transform(item_data2['title'])"
   ]
  },
  {
   "cell_type": "code",
   "execution_count": 38,
   "metadata": {},
   "outputs": [],
   "source": [
    "# Считаем похожесть одного описания на другое, используя косинусовую меру.\n",
    "cosine_similarities = cosine_similarity(tfidf_matrix)"
   ]
  },
  {
   "cell_type": "code",
   "execution_count": 39,
   "metadata": {},
   "outputs": [
    {
     "data": {
      "text/plain": [
       "(26790, 13203)"
      ]
     },
     "execution_count": 39,
     "metadata": {},
     "output_type": "execute_result"
    }
   ],
   "source": [
    "tfidf_matrix.shape"
   ]
  },
  {
   "cell_type": "code",
   "execution_count": 40,
   "metadata": {},
   "outputs": [],
   "source": [
    "# Оставляем 50 наиболее похожих по описанию товаров для каждого товара \n",
    "# (убираем первый элемент - описание товара похоже больше всего само на себя)\n",
    "similarities = {}\n",
    "for i in range(len(cosine_similarities)):\n",
    "    # сортировка по схожести и запись индексов\n",
    "    similar_indx = cosine_similarities[i].argsort()[:-50:-1]\n",
    "    similarities[item_data2['item_id'].iloc[i]] = [(cosine_similarities[i][x], \n",
    "                                                     item_data2.iloc[x]['title'], \n",
    "                                                     item_data2.iloc[x]['item_id']) for x in similar_indx][1:]\n"
   ]
  },
  {
   "cell_type": "code",
   "execution_count": 105,
   "metadata": {},
   "outputs": [],
   "source": [
    "#similarities"
   ]
  },
  {
   "cell_type": "code",
   "execution_count": 41,
   "metadata": {},
   "outputs": [
    {
     "data": {
      "text/plain": [
       "21639"
      ]
     },
     "execution_count": 41,
     "metadata": {},
     "output_type": "execute_result"
    }
   ],
   "source": [
    "# всего товаров\n",
    "len(similarities)"
   ]
  },
  {
   "cell_type": "code",
   "execution_count": 43,
   "metadata": {},
   "outputs": [],
   "source": [
    "class ContentBasedRecommender:\n",
    "    def __init__(self, matrix):\n",
    "        self.matrix_similar = matrix\n",
    "\n",
    "    def _print_message(self, item, recom_item):\n",
    "        rec_items = len(recom_item)\n",
    "\n",
    "        print(f'The {rec_items} recommended items are:')\n",
    "        for i in range(rec_items):\n",
    "            print(f\"Number {i+1}:\")\n",
    "            print(f\"{recom_item[i][1]} with {round(recom_item[i][0], 3)} similarity score\")\n",
    "            print(\"--------------------\")\n",
    "\n",
    "    def recommend(self, recommendation, verbose = True):\n",
    "        # Выбрать товар для поиска рекомендаций\n",
    "        item = recommendation['item']\n",
    "        # Выбрать число товаров для рекомендаций\n",
    "        number_items = recommendation['item_number']\n",
    "        # Выбрать товары, наиболее похожее из матрицы\n",
    "        recom_item = self.matrix_similar[item][:number_items]\n",
    "        # распечатать\n",
    "        if verbose:\n",
    "            self._print_message(item=item, recom_item=recom_item)\n",
    "        return recom_item"
   ]
  },
  {
   "cell_type": "code",
   "execution_count": 46,
   "metadata": {},
   "outputs": [],
   "source": [
    "recommedations = ContentBasedRecommender(similarities)"
   ]
  },
  {
   "cell_type": "code",
   "execution_count": 47,
   "metadata": {},
   "outputs": [
    {
     "name": "stdout",
     "output_type": "stream",
     "text": [
      "Recommendations for  0077773284 LearnSmart Access Card for Introduction to Managerial Accounting :\n",
      "\n",
      "\n",
      "The 5 recommended items are:\n",
      "Number 1:\n",
      " LearnSmart for Financial and Managerial Accounting with 0.647 similarity score\n",
      "--------------------\n",
      "Number 2:\n",
      " LearnSmart for Garrison Managerial Accounting with 0.579 similarity score\n",
      "--------------------\n",
      "Number 3:\n",
      "LearnSmart Access Card for Fundamentals of Financial Accounting with 0.523 similarity score\n",
      "--------------------\n",
      "Number 4:\n",
      "LearnSmart Access Card for Chemistry with 0.486 similarity score\n",
      "--------------------\n",
      "Number 5:\n",
      "LearnSmart Access Card for Biology with 0.479 similarity score\n",
      "--------------------\n"
     ]
    }
   ],
   "source": [
    "idx = 42\n",
    "\n",
    "recommendation = {\n",
    "    \"item\": item_data2['item_id'].iloc[idx],\n",
    "    \"item_number\": 5\n",
    "}\n",
    "print('Recommendations for ',item_data2['item_id'].iloc[idx], item_data2['title'].iloc[idx],':\\n\\n')\n",
    "recom_item = recommedations.recommend(recommendation)"
   ]
  },
  {
   "cell_type": "markdown",
   "metadata": {},
   "source": [
    "Далее можно построить комбинированную систему, например можно добавить к топ-рекомендациям полученных, например, с помощью модели SVD, рекомендации, которые контекстно похожи на \"любимый\" товар, который пользователь купил больше всего"
   ]
  },
  {
   "cell_type": "markdown",
   "metadata": {},
   "source": [
    "## Feature augmentation recommender systems"
   ]
  },
  {
   "cell_type": "markdown",
   "metadata": {},
   "source": [
    "Рассмотрим еще один комбинированный подход, где оценки полученные на основе алгоритма коллабаративной фильтрации, мы используем в системе на основе Content-base"
   ]
  },
  {
   "cell_type": "code",
   "execution_count": 63,
   "metadata": {},
   "outputs": [],
   "source": [
    "# Оценки полученные на основе алгоритма коллабаративной фильтрации, мы используем в системе на основе Content-base\n",
    "tfidf = TfidfVectorizer(analyzer='word', stop_words='english')\n",
    "tfidf_matrix = tfidf.fit_transform(item_rating['title'])\n",
    "\n",
    "# Определение коэффициентов схожести товаров по наименованию\n",
    "cosine_similarities = cosine_similarity(tfidf_matrix)\n",
    "\n",
    "# Выборка товаров с лучшим прогнозным рейтингом и коэффициентом схожести\n",
    "indx = item_rating[item_rating.rating >= 4].index.to_list()\n",
    "similar_items = [similar_indx[:-50:-1] for similar_indx in cosine_similarities[indx].argsort(axis=1)]\n",
    "similar_items = np.array(similar_items).flatten()\n"
   ]
  },
  {
   "cell_type": "markdown",
   "metadata": {},
   "source": [
    "### Вывод ТОП-лучших для покупки товаров по схожести товаров"
   ]
  },
  {
   "cell_type": "code",
   "execution_count": 62,
   "metadata": {},
   "outputs": [
    {
     "data": {
      "text/html": [
       "<div>\n",
       "<style scoped>\n",
       "    .dataframe tbody tr th:only-of-type {\n",
       "        vertical-align: middle;\n",
       "    }\n",
       "\n",
       "    .dataframe tbody tr th {\n",
       "        vertical-align: top;\n",
       "    }\n",
       "\n",
       "    .dataframe thead th {\n",
       "        text-align: right;\n",
       "    }\n",
       "</style>\n",
       "<table border=\"1\" class=\"dataframe\">\n",
       "  <thead>\n",
       "    <tr style=\"text-align: right;\">\n",
       "      <th></th>\n",
       "      <th>user_id</th>\n",
       "      <th>item_id</th>\n",
       "      <th>rating</th>\n",
       "      <th>title</th>\n",
       "      <th>brand</th>\n",
       "      <th>main_cat</th>\n",
       "      <th>rank</th>\n",
       "      <th>pred_rating</th>\n",
       "      <th>total_rating</th>\n",
       "    </tr>\n",
       "  </thead>\n",
       "  <tbody>\n",
       "    <tr>\n",
       "      <th>5</th>\n",
       "      <td>A3QQO9GVE0GOFE</td>\n",
       "      <td>B00003IRBV</td>\n",
       "      <td>0.0</td>\n",
       "      <td>Nancy Drew: Stay Tuned for Danger - PC</td>\n",
       "      <td>by\\n    \\n    Her Interactive</td>\n",
       "      <td>Video Games</td>\n",
       "      <td>['&gt;#47,965 in Video Games (See Top 100 in Vide...</td>\n",
       "      <td>4.4</td>\n",
       "      <td>4.4</td>\n",
       "    </tr>\n",
       "    <tr>\n",
       "      <th>11</th>\n",
       "      <td>A3QQO9GVE0GOFE</td>\n",
       "      <td>B00004WJOU</td>\n",
       "      <td>0.0</td>\n",
       "      <td>Curious George Preschool Learning Games - PC/Mac</td>\n",
       "      <td>Simon &amp;amp; Schuster</td>\n",
       "      <td>Software</td>\n",
       "      <td>10,994 in Software (</td>\n",
       "      <td>3.6</td>\n",
       "      <td>3.6</td>\n",
       "    </tr>\n",
       "    <tr>\n",
       "      <th>7</th>\n",
       "      <td>A3QQO9GVE0GOFE</td>\n",
       "      <td>B00004R8JP</td>\n",
       "      <td>0.0</td>\n",
       "      <td>The American Sign Language Dictionary</td>\n",
       "      <td>Multimedia 2000, Inc.</td>\n",
       "      <td>Software</td>\n",
       "      <td>15,795 in Software (</td>\n",
       "      <td>3.8</td>\n",
       "      <td>3.8</td>\n",
       "    </tr>\n",
       "    <tr>\n",
       "      <th>4</th>\n",
       "      <td>A3QQO9GVE0GOFE</td>\n",
       "      <td>B00002S76T</td>\n",
       "      <td>0.0</td>\n",
       "      <td>eMerchant pro</td>\n",
       "      <td>BIG PICTURE TECHNOLOGIES</td>\n",
       "      <td>Software</td>\n",
       "      <td>61,014 in Software (</td>\n",
       "      <td>4.5</td>\n",
       "      <td>4.5</td>\n",
       "    </tr>\n",
       "    <tr>\n",
       "      <th>6</th>\n",
       "      <td>A3QQO9GVE0GOFE</td>\n",
       "      <td>B00004NHL6</td>\n",
       "      <td>0.0</td>\n",
       "      <td>Portuguese Now! 8.0</td>\n",
       "      <td>Transparent Language</td>\n",
       "      <td>Software</td>\n",
       "      <td>51,451 in Software (</td>\n",
       "      <td>3.0</td>\n",
       "      <td>3.0</td>\n",
       "    </tr>\n",
       "  </tbody>\n",
       "</table>\n",
       "</div>"
      ],
      "text/plain": [
       "           user_id     item_id rating  \\\n",
       "5   A3QQO9GVE0GOFE  B00003IRBV    0.0   \n",
       "11  A3QQO9GVE0GOFE  B00004WJOU    0.0   \n",
       "7   A3QQO9GVE0GOFE  B00004R8JP    0.0   \n",
       "4   A3QQO9GVE0GOFE  B00002S76T    0.0   \n",
       "6   A3QQO9GVE0GOFE  B00004NHL6    0.0   \n",
       "\n",
       "                                               title  \\\n",
       "5             Nancy Drew: Stay Tuned for Danger - PC   \n",
       "11  Curious George Preschool Learning Games - PC/Mac   \n",
       "7              The American Sign Language Dictionary   \n",
       "4                                      eMerchant pro   \n",
       "6                                Portuguese Now! 8.0   \n",
       "\n",
       "                            brand     main_cat  \\\n",
       "5   by\\n    \\n    Her Interactive  Video Games   \n",
       "11           Simon &amp; Schuster     Software   \n",
       "7           Multimedia 2000, Inc.     Software   \n",
       "4        BIG PICTURE TECHNOLOGIES     Software   \n",
       "6            Transparent Language     Software   \n",
       "\n",
       "                                                 rank pred_rating total_rating  \n",
       "5   ['>#47,965 in Video Games (See Top 100 in Vide...         4.4          4.4  \n",
       "11                               10,994 in Software (         3.6          3.6  \n",
       "7                                15,795 in Software (         3.8          3.8  \n",
       "4                                61,014 in Software (         4.5          4.5  \n",
       "6                                51,451 in Software (         3.0          3.0  "
      ]
     },
     "execution_count": 62,
     "metadata": {},
     "output_type": "execute_result"
    }
   ],
   "source": [
    "top = item_rating.iloc[similar_items]\n",
    "top = top[top.rating == 0]\n",
    "top = top.astype(str).drop_duplicates()\n",
    "# #.sort_values('pred_rating', ascending=False)\n",
    "\n",
    "top.head()"
   ]
  },
  {
   "cell_type": "markdown",
   "metadata": {},
   "source": [
    "### Выводы"
   ]
  },
  {
   "cell_type": "markdown",
   "metadata": {},
   "source": [
    "Были рассмотрены основные подходы для рекомендательных систем. \n",
    "\n",
    "Очень понравилась библиотеке Surprise, своей скоростью и разнообразием алгоритмов для построения рекомендательных систем. \n",
    "\n",
    "Эффективность алгоритмов оценивалась с помощью метрики RMSE.\n",
    "Но, на практике нам нужно получить на самом деле топ-5 или топ-10 товаров, которые мы должны рекомендовать. Если для остальных тысячах товаров мы не угадаем с оценками, то это не страшно. Поэтому сравнивая системы с помощью RMSE или MSE не очень корректно. \n",
    "\n",
    "Оценивать систему нужно на бизнесе, проверяя через какое-то время, сколько из рекомендованных товаров в итоге купит пользователей.\n",
    "\n",
    "Лучше использовать комбинированные подходы. Использовать множество простых алгоритмов, чем искать один супер-сложный, которые закроет всю область.\n",
    "\n",
    "Обязательно нужна фильтрация по группам товаров, и для каждой из них желательно разработать свою рекомендательную модель. \n",
    "Для Content-base системы нужно смотреть не на последний товар (не на самый любимый), а на несколько последних (несколько любимых).\n",
    "\n",
    "Можно еще добавлять в рекомендации самые ходовые и новинки из этой же категории, а потом случайно перемешивать.\n"
   ]
  }
 ],
 "metadata": {
  "kernelspec": {
   "display_name": "Python 3",
   "language": "python",
   "name": "python3"
  },
  "language_info": {
   "codemirror_mode": {
    "name": "ipython",
    "version": 3
   },
   "file_extension": ".py",
   "mimetype": "text/x-python",
   "name": "python",
   "nbconvert_exporter": "python",
   "pygments_lexer": "ipython3",
   "version": "3.7.6"
  }
 },
 "nbformat": 4,
 "nbformat_minor": 4
}
