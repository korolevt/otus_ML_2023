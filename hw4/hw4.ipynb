{
 "cells": [
  {
   "cell_type": "markdown",
   "metadata": {},
   "source": [
    "# HW 4 Работа с текстом"
   ]
  },
  {
   "cell_type": "markdown",
   "metadata": {},
   "source": [
    "## Получение датасета "
   ]
  },
  {
   "cell_type": "code",
   "execution_count": 101,
   "metadata": {},
   "outputs": [],
   "source": [
    "import requests      # Библиотека для отправки запросов\n",
    "import numpy as np   # Библиотека для матриц, векторов и линала\n",
    "import pandas as pd  # Библиотека для табличек\n",
    "import time          # Библиотека для времени\n",
    "\n",
    "import warnings\n",
    "warnings.filterwarnings(\"ignore\")\n"
   ]
  },
  {
   "cell_type": "code",
   "execution_count": 102,
   "metadata": {},
   "outputs": [],
   "source": [
    "#!pip install pytest-cov\n",
    "#!pip install pytest-filter-subpackage\n",
    "#!pip install fake_useragent"
   ]
  },
  {
   "cell_type": "code",
   "execution_count": 103,
   "metadata": {},
   "outputs": [],
   "source": [
    "# подгрузим один из методов этой библиотеки\n",
    "from fake_useragent import UserAgent"
   ]
  },
  {
   "cell_type": "code",
   "execution_count": 104,
   "metadata": {},
   "outputs": [
    {
     "data": {
      "text/plain": [
       "'Mozilla/5.0 (Macintosh; Intel Mac OS X 10_15_7) AppleWebKit/537.36 (KHTML, like Gecko) Chrome/115.0.0.0 Safari/537.36'"
      ]
     },
     "execution_count": 104,
     "metadata": {},
     "output_type": "execute_result"
    }
   ],
   "source": [
    "UserAgent().chrome"
   ]
  },
  {
   "cell_type": "code",
   "execution_count": 105,
   "metadata": {},
   "outputs": [],
   "source": [
    "from bs4 import BeautifulSoup"
   ]
  },
  {
   "cell_type": "markdown",
   "metadata": {},
   "source": [
    "Собирем данные об отзывах о фильмах на сайте  https://irecommend.ru/"
   ]
  },
  {
   "cell_type": "code",
   "execution_count": 107,
   "metadata": {},
   "outputs": [],
   "source": [
    "page_link = 'https://irecommend.ru/content/passazhiry-passengers-0'"
   ]
  },
  {
   "cell_type": "code",
   "execution_count": 109,
   "metadata": {},
   "outputs": [
    {
     "data": {
      "text/plain": [
       "<Response [200]>"
      ]
     },
     "execution_count": 109,
     "metadata": {},
     "output_type": "execute_result"
    }
   ],
   "source": [
    "response = requests.get(page_link, headers={'User-Agent': UserAgent().chrome})\n",
    "response"
   ]
  },
  {
   "cell_type": "code",
   "execution_count": 110,
   "metadata": {},
   "outputs": [],
   "source": [
    "html = response.content"
   ]
  },
  {
   "cell_type": "code",
   "execution_count": 111,
   "metadata": {},
   "outputs": [],
   "source": [
    "soup = BeautifulSoup(html, 'html.parser')"
   ]
  },
  {
   "cell_type": "markdown",
   "metadata": {},
   "source": [
    "Ищем информацию с комментарием к фильму и оценкой в виде звезд (от 1 до 5)"
   ]
  },
  {
   "cell_type": "code",
   "execution_count": 112,
   "metadata": {},
   "outputs": [
    {
     "data": {
      "text/plain": [
       "<div class=\"smTeaser woProduct plate reviews-list-item teaser-item\" data-nid=\"9369899\" data-photos-count=\"29\" data-product-id=\"3601788\" data-type=\"1\" data-vid=\"16376367\">\n",
       "<div class=\"authorAndPhoto\">\n",
       "<div class=\"authorSpace\">\n",
       "<div class=\"half1\">\n",
       "<div class=\"authorPhoto\"><div class=\"picture\">\n",
       "<a href=\"/users/nadezhda4557785\" title=\"Информация о пользователе.\"><img alt=\"Надежда4557785 аватар\" class=\"lazy lazy-loader\" data-original=\"https://cdn-irec.r-99.com/sites/default/files/imagecache/60i/pictures/15/picture-1579038-uXxH9EHj.jpg\" src=\"/themes/irecommend_new/images/ajax-loader.gif\" title=\"Информация о пользователе.\"/></a></div>\n",
       "</div>\n",
       "<div>\n",
       "<div class=\"starsRating\"><div class=\"fivestarWidgetStatic fivestarWidgetStatic-vote fivestarWidgetStatic-5\"><div class=\"star\"><div class=\"on\"></div></div><div class=\"star\"><div class=\"on\"></div></div><div class=\"star\"><div class=\"on\"></div></div><div class=\"star\"><div class=\"on\"></div></div><div class=\"star\"><div class=\"off\"></div></div></div></div>\n",
       "<div class=\"authorName\"><a href=\"/users/nadezhda4557785\">Надежда4557785</a></div>\n",
       "</div>\n",
       "</div>\n",
       "<div class=\"half2\">\n",
       "<div class=\"created\" title=\"Дата публикации\">17.08.2023</div>\n",
       "<div class=\"comments tooltiped icons-comment-number\" title=\"Комментарии\">14</div> </div>\n",
       "</div>\n",
       "<div class=\"reviewImages\"><div class=\"review-previews-imgs\"><div class=\"review-previews-imgs-items\"><a href=\"/content/dvoe-passazhirov-kosmicheskogo-korablya-prosypayutsya-ranshe-polozhennogo-na-90-let-romantic\"><img alt=\"\" class=\"lazy imagecache\" data-mobile=\"https://cdn-irec.r-99.com/sites/default/files/imagecache/200i/user-images/1579038/dUdU6lx4Z5S4AlcHJAUOFw.jpg\" data-original=\"https://cdn-irec.r-99.com/sites/default/files/imagecache/200i/user-images/1579038/dUdU6lx4Z5S4AlcHJAUOFw.jpg\" height=\"200\" src=\"/themes/irecommend_new/images/ajax-loader.gif\" title=\"\" width=\"200\"/></a><a href=\"/content/dvoe-passazhirov-kosmicheskogo-korablya-prosypayutsya-ranshe-polozhennogo-na-90-let-romantic\"><img alt=\"\" class=\"lazy imagecache\" data-mobile=\"https://cdn-irec.r-99.com/sites/default/files/imagecache/200i/user-images/1579038/wm7Zn7TeacvT3YIOW33Ww.jpg\" data-original=\"https://cdn-irec.r-99.com/sites/default/files/imagecache/200i/user-images/1579038/wm7Zn7TeacvT3YIOW33Ww.jpg\" height=\"200\" src=\"/themes/irecommend_new/images/ajax-loader.gif\" title=\"\" width=\"200\"/></a><a href=\"/content/dvoe-passazhirov-kosmicheskogo-korablya-prosypayutsya-ranshe-polozhennogo-na-90-let-romantic\"><img alt=\"\" class=\"lazy imagecache\" data-mobile=\"https://cdn-irec.r-99.com/sites/default/files/imagecache/200i/user-images/1579038/VKFRDOOhzCgV9v6UjLXCw.jpg\" data-original=\"https://cdn-irec.r-99.com/sites/default/files/imagecache/200i/user-images/1579038/VKFRDOOhzCgV9v6UjLXCw.jpg\" height=\"200\" src=\"/themes/irecommend_new/images/ajax-loader.gif\" title=\"\" width=\"200\"/></a></div><div class=\"review-previews-imgs-more\"><a href=\"/content/dvoe-passazhirov-kosmicheskogo-korablya-prosypayutsya-ranshe-polozhennogo-na-90-let-romantic\">+26 фото </a></div></div></div>\n",
       "</div>\n",
       "<div class=\"reviewTextSnippet\" data-text=\"Читать весь отзыв\">\n",
       "<div class=\"reviewTitle\"><a href=\"/content/dvoe-passazhirov-kosmicheskogo-korablya-prosypayutsya-ranshe-polozhennogo-na-90-let-romantic\">Двое пассажиров космического корабля, просыпаются раньше положенного на 90 лет. Романтическая история на космическом корабле </a></div>\n",
       "<span class=\"reviewTeaserText\">Всем привет . Я не любительница мелодрам. Но про этот фильм я была наслышана. Также хотелось посмотреть на актёрскую игру знакомых мне актеров Криса Пратта и Дженнифер Лоуренс . Поэтому решила посмотреть этот фильм. Сегодня я хочу поделиться с вами своими впечатлениями. Информация о фильме : P.S .</span>\n",
       "<a class=\"more\" href=\"/content/dvoe-passazhirov-kosmicheskogo-korablya-prosypayutsya-ranshe-polozhennogo-na-90-let-romantic\"></a> </div>\n",
       "</div>"
      ]
     },
     "execution_count": 112,
     "metadata": {},
     "output_type": "execute_result"
    }
   ],
   "source": [
    "views = soup.findAll(attrs={'class':'smTeaser'})[1]\n",
    "views"
   ]
  },
  {
   "cell_type": "markdown",
   "metadata": {},
   "source": [
    "Ищем класс с комметарием"
   ]
  },
  {
   "cell_type": "code",
   "execution_count": 113,
   "metadata": {},
   "outputs": [
    {
     "data": {
      "text/plain": [
       "<div class=\"reviewTitle\"><a href=\"/content/dvoe-passazhirov-kosmicheskogo-korablya-prosypayutsya-ranshe-polozhennogo-na-90-let-romantic\">Двое пассажиров космического корабля, просыпаются раньше положенного на 90 лет. Романтическая история на космическом корабле </a></div>"
      ]
     },
     "execution_count": 113,
     "metadata": {},
     "output_type": "execute_result"
    }
   ],
   "source": [
    "reviewTitle = views.find(attrs={'class':'reviewTitle'})\n",
    "reviewTitle"
   ]
  },
  {
   "cell_type": "markdown",
   "metadata": {},
   "source": [
    "Извлекаем комментарий"
   ]
  },
  {
   "cell_type": "code",
   "execution_count": 114,
   "metadata": {},
   "outputs": [
    {
     "name": "stdout",
     "output_type": "stream",
     "text": [
      "Двое пассажиров космического корабля, просыпаются раньше положенного на 90 лет. Романтическая история на космическом корабле \n"
     ]
    }
   ],
   "source": [
    "comment = reviewTitle.a.string\n",
    "print(comment)"
   ]
  },
  {
   "cell_type": "markdown",
   "metadata": {},
   "source": [
    "Ищем класс с рейтингом"
   ]
  },
  {
   "cell_type": "code",
   "execution_count": 115,
   "metadata": {},
   "outputs": [
    {
     "data": {
      "text/plain": [
       "<div class=\"starsRating\"><div class=\"fivestarWidgetStatic fivestarWidgetStatic-vote fivestarWidgetStatic-5\"><div class=\"star\"><div class=\"on\"></div></div><div class=\"star\"><div class=\"on\"></div></div><div class=\"star\"><div class=\"on\"></div></div><div class=\"star\"><div class=\"on\"></div></div><div class=\"star\"><div class=\"off\"></div></div></div></div>"
      ]
     },
     "execution_count": 115,
     "metadata": {},
     "output_type": "execute_result"
    }
   ],
   "source": [
    "starsRating = views.find(attrs={'class':'starsRating'})\n",
    "starsRating"
   ]
  },
  {
   "cell_type": "markdown",
   "metadata": {},
   "source": [
    "Подсчитываем количество звезд (поставлена - class='on', нет - class='off')"
   ]
  },
  {
   "cell_type": "code",
   "execution_count": 116,
   "metadata": {},
   "outputs": [
    {
     "data": {
      "text/plain": [
       "4"
      ]
     },
     "execution_count": 116,
     "metadata": {},
     "output_type": "execute_result"
    }
   ],
   "source": [
    "rating = len(starsRating.findAll(attrs={'class':'on'}))\n",
    "rating"
   ]
  },
  {
   "cell_type": "markdown",
   "metadata": {},
   "source": [
    "Пишем функцию"
   ]
  },
  {
   "cell_type": "code",
   "execution_count": 117,
   "metadata": {},
   "outputs": [],
   "source": [
    "def getText(body):\n",
    "    \"\"\"\n",
    "        Возвращает комментарий и оценку\n",
    "    \"\"\"\n",
    "    reviewTitle = body.find(attrs={'class':'reviewTitle'})\n",
    "    comment = reviewTitle.a.string\n",
    "    \n",
    "    #if comment:\n",
    "    #    comment = comment.split('\\n')\n",
    "    #    comment = \" \".join(comment).strip()\n",
    "    #else:\n",
    "    #    comment = \"\"\n",
    "    \n",
    "    starsRating = body.find(attrs={'class':'starsRating'})\n",
    "    \n",
    "    rating = len(starsRating.findAll(attrs={'class':'on'}))\n",
    "\n",
    "    return {'Comment': comment, 'Rating':rating}    "
   ]
  },
  {
   "cell_type": "code",
   "execution_count": 118,
   "metadata": {},
   "outputs": [
    {
     "data": {
      "text/plain": [
       "{'Comment': 'Двое пассажиров космического корабля, просыпаются раньше положенного на 90 лет. Романтическая история на космическом корабле ',\n",
       " 'Rating': 4}"
      ]
     },
     "execution_count": 118,
     "metadata": {},
     "output_type": "execute_result"
    }
   ],
   "source": [
    "getText(views)"
   ]
  },
  {
   "cell_type": "code",
   "execution_count": 119,
   "metadata": {},
   "outputs": [],
   "source": [
    "def getPageData(url, page_number):\n",
    "    # составляем ссылку на страницу поиска\n",
    "    if page_number == 0:\n",
    "        page_link = url\n",
    "    else:\n",
    "        page_link = '{}?page={}'.format(url,page_number)\n",
    "    \n",
    "    print(page_link)\n",
    "\n",
    "    # запрашиваем данные по ней\n",
    "    response = requests.get(page_link, headers={'User-Agent': UserAgent().chrome})\n",
    "\n",
    "    if not response.ok:\n",
    "        # если сервер нам отказал, вернем пустой лист для текущей страницы\n",
    "        return []\n",
    "\n",
    "    # получаем содержимое страницы и переводим в суп\n",
    "    html = response.content\n",
    "    soup = BeautifulSoup(html,'html.parser')\n",
    "    \n",
    "    return soup.findAll(attrs={'class':'smTeaser'})"
   ]
  },
  {
   "cell_type": "code",
   "execution_count": 120,
   "metadata": {},
   "outputs": [
    {
     "name": "stdout",
     "output_type": "stream",
     "text": [
      "https://irecommend.ru/content/passazhiry-passengers-0?page=4\n"
     ]
    },
    {
     "data": {
      "text/plain": [
       "36"
      ]
     },
     "execution_count": 120,
     "metadata": {},
     "output_type": "execute_result"
    }
   ],
   "source": [
    "len(getPageData('https://irecommend.ru/content/passazhiry-passengers-0', 4))"
   ]
  },
  {
   "cell_type": "code",
   "execution_count": 121,
   "metadata": {},
   "outputs": [],
   "source": [
    "# Функция, которая собирает данные и сохраняет в DataFrame\n",
    "sleep = 15 \n",
    "def appendData(url, df):\n",
    "    for page_number in range(1000):\n",
    "        list = getPageData(url, page_number)\n",
    "\n",
    "        for body in list:\n",
    "            data_row = getText(body)\n",
    "            df = df.append(data_row, ignore_index=True).dropna(axis = 1)\n",
    "\n",
    "        print(len(df))    \n",
    "        # По 50 комментариев на страницу, если меньше, то завершаем, после обработки\n",
    "        if len(list) < 50:\n",
    "            break\n",
    "        time.sleep(sleep)    \n",
    "    return df        "
   ]
  },
  {
   "cell_type": "code",
   "execution_count": 37,
   "metadata": {},
   "outputs": [
    {
     "name": "stdout",
     "output_type": "stream",
     "text": [
      "https://irecommend.ru/content/passazhiry-passengers-0\n",
      "https://irecommend.ru/content/passazhiry-passengers-0?page=1\n",
      "https://irecommend.ru/content/passazhiry-passengers-0?page=2\n",
      "https://irecommend.ru/content/passazhiry-passengers-0?page=3\n"
     ]
    }
   ],
   "source": [
    "url = 'https://irecommend.ru/content/passazhiry-passengers-0'\n",
    "df = pd.DataFrame(columns=['Comment',  'Rating'])\n",
    "df = appendData(url, df)"
   ]
  },
  {
   "cell_type": "code",
   "execution_count": 38,
   "metadata": {},
   "outputs": [
    {
     "data": {
      "text/html": [
       "<div>\n",
       "<style scoped>\n",
       "    .dataframe tbody tr th:only-of-type {\n",
       "        vertical-align: middle;\n",
       "    }\n",
       "\n",
       "    .dataframe tbody tr th {\n",
       "        vertical-align: top;\n",
       "    }\n",
       "\n",
       "    .dataframe thead th {\n",
       "        text-align: right;\n",
       "    }\n",
       "</style>\n",
       "<table border=\"1\" class=\"dataframe\">\n",
       "  <thead>\n",
       "    <tr style=\"text-align: right;\">\n",
       "      <th></th>\n",
       "      <th>Comment</th>\n",
       "      <th>Rating</th>\n",
       "    </tr>\n",
       "  </thead>\n",
       "  <tbody>\n",
       "    <tr>\n",
       "      <th>0</th>\n",
       "      <td>\"Перестань волноваться о том, что не можешь ко...</td>\n",
       "      <td>5</td>\n",
       "    </tr>\n",
       "    <tr>\n",
       "      <th>1</th>\n",
       "      <td>Двое пассажиров космического корабля, просыпаю...</td>\n",
       "      <td>4</td>\n",
       "    </tr>\n",
       "    <tr>\n",
       "      <th>2</th>\n",
       "      <td>Давно не видела таких бредовых фильмов. \"Пасса...</td>\n",
       "      <td>1</td>\n",
       "    </tr>\n",
       "    <tr>\n",
       "      <th>3</th>\n",
       "      <td>Человеку нужен человек. Если нельзя, но очень ...</td>\n",
       "      <td>5</td>\n",
       "    </tr>\n",
       "    <tr>\n",
       "      <th>4</th>\n",
       "      <td>Неплохая вариация на тему космоса и одиночества</td>\n",
       "      <td>4</td>\n",
       "    </tr>\n",
       "    <tr>\n",
       "      <th>...</th>\n",
       "      <td>...</td>\n",
       "      <td>...</td>\n",
       "    </tr>\n",
       "    <tr>\n",
       "      <th>181</th>\n",
       "      <td>Однозначно понравилось!! Давно так не было!</td>\n",
       "      <td>5</td>\n",
       "    </tr>\n",
       "    <tr>\n",
       "      <th>182</th>\n",
       "      <td>Можно чуть меньше романтики было, а в целом ко...</td>\n",
       "      <td>4</td>\n",
       "    </tr>\n",
       "    <tr>\n",
       "      <th>183</th>\n",
       "      <td>Яркий, но одноразовый</td>\n",
       "      <td>4</td>\n",
       "    </tr>\n",
       "    <tr>\n",
       "      <th>184</th>\n",
       "      <td>Нудятина</td>\n",
       "      <td>2</td>\n",
       "    </tr>\n",
       "    <tr>\n",
       "      <th>185</th>\n",
       "      <td>Красивые виды космоса, достойная игра актеров,...</td>\n",
       "      <td>5</td>\n",
       "    </tr>\n",
       "  </tbody>\n",
       "</table>\n",
       "<p>186 rows × 2 columns</p>\n",
       "</div>"
      ],
      "text/plain": [
       "                                               Comment Rating\n",
       "0    \"Перестань волноваться о том, что не можешь ко...      5\n",
       "1    Двое пассажиров космического корабля, просыпаю...      4\n",
       "2    Давно не видела таких бредовых фильмов. \"Пасса...      1\n",
       "3    Человеку нужен человек. Если нельзя, но очень ...      5\n",
       "4      Неплохая вариация на тему космоса и одиночества      4\n",
       "..                                                 ...    ...\n",
       "181        Однозначно понравилось!! Давно так не было!      5\n",
       "182  Можно чуть меньше романтики было, а в целом ко...      4\n",
       "183                              Яркий, но одноразовый      4\n",
       "184                                           Нудятина      2\n",
       "185  Красивые виды космоса, достойная игра актеров,...      5\n",
       "\n",
       "[186 rows x 2 columns]"
      ]
     },
     "execution_count": 38,
     "metadata": {},
     "output_type": "execute_result"
    }
   ],
   "source": [
    "df"
   ]
  },
  {
   "cell_type": "markdown",
   "metadata": {},
   "source": [
    "### Собираем больше данных (по нескольким фильмам)"
   ]
  },
  {
   "cell_type": "code",
   "execution_count": 225,
   "metadata": {},
   "outputs": [],
   "source": [
    "pages = [\n",
    "    'https://irecommend.ru/content/passazhiry-passengers-0',\n",
    "    'https://irecommend.ru/content/zelenaya-milya',\n",
    "    'https://irecommend.ru/content/2012',\n",
    "    'https://irecommend.ru/content/neprikasaemye-intouchables',\n",
    "    'https://irecommend.ru/content/ivan-vasilevich-menyaet-professiyu',\n",
    "    'https://irecommend.ru/content/dzhoker-0',\n",
    "    'https://irecommend.ru/content/kruella-cruella-2021-film',\n",
    "    'https://irecommend.ru/content/gordost-i-predubezhdenie',\n",
    "    'https://irecommend.ru/content/my-millery',\n",
    "    'https://irecommend.ru/content/vremya-time',\n",
    "    'https://irecommend.ru/content/bogemskaya-rapsodiya',\n",
    "    'https://irecommend.ru/content/dyavol-nosit-prada-0',\n",
    "    'https://irecommend.ru/content/t-34',\n",
    "    'https://irecommend.ru/content/interstellar',\n",
    "    'https://irecommend.ru/content/dostat-nozhi-2019-film',\n",
    "    'https://irecommend.ru/content/tri-metra-nad-nebom',\n",
    "    'https://irecommend.ru/content/volk-s-uoll-strit-2013'\n",
    "]"
   ]
  },
  {
   "cell_type": "code",
   "execution_count": 171,
   "metadata": {},
   "outputs": [],
   "source": [
    "# Добавлял данные, чтобы увеличить объем данных\n",
    "pages = [\n",
    "    #'https://irecommend.ru/content/sinister',\n",
    "    #'https://irecommend.ru/content/vremya-old-2021-film',\n",
    "    #'https://irecommend.ru/content/dukhless',\n",
    "    #'https://irecommend.ru/content/anna-karenina-2012g',\n",
    "    #'https://irecommend.ru/content/sumerki',\n",
    "    #'https://irecommend.ru/content/devushka-v-poezde-girl-train',\n",
    "    #'https://irecommend.ru/content/moskva-slezam-ne-verit',\n",
    "    #'https://irecommend.ru/content/vek-adelin',\n",
    "    #'https://irecommend.ru/content/begushchii-v-labirinte-maze-runner',\n",
    "    #'https://irecommend.ru/content/zarnitsa-2021-film',\n",
    "    #'https://irecommend.ru/content/fantasticheskie-tvari-tainy-dambldora-fantastic-beasts-secrets-dumbledore-2022-film',\n",
    "    #'https://irecommend.ru/content/odnoi-bezumnoi-nochyu-2023-film',\n",
    "    #'https://irecommend.ru/content/epitsentr-buri-2023-film',\n",
    "    #'https://irecommend.ru/content/eskortnitsa-2023-film',\n",
    "    #'https://irecommend.ru/content/uglovaya-komnata-1962-film',\n",
    "    #'https://irecommend.ru/content/v-efire-line-2022-film',\n",
    "    #'https://irecommend.ru/content/smotret-v-obe-storony-look-both-ways-2022-film',\n",
    "    #'https://irecommend.ru/content/yura-dvornik-2023-film',\n",
    "    #'https://irecommend.ru/content/anon-anon-0',\n",
    "    #'https://irecommend.ru/content/za-palycha-2023-film',\n",
    "    #'https://irecommend.ru/content/raiskoe-shosse-2022-film',\n",
    "    #'https://irecommend.ru/content/illyuziya-pobega-2023-film',\n",
    "    #'https://irecommend.ru/content/skandal-2019-film-0',\n",
    "    #'https://irecommend.ru/content/proniknovenie-2022-film',\n",
    "    #'https://irecommend.ru/content/cheburashka-2022-film-0',\n",
    "    #'https://irecommend.ru/content/groza-2020-film',\n",
    "    #'https://irecommend.ru/content/13-minut-2021-film',\n",
    "    #'https://irecommend.ru/content/temnyi-mir',\n",
    "    #'https://irecommend.ru/content/malefisenta-vladychitsa-tmy-maleficent-mistress-evil'\n",
    "]"
   ]
  },
  {
   "cell_type": "code",
   "execution_count": 172,
   "metadata": {},
   "outputs": [
    {
     "name": "stdout",
     "output_type": "stream",
     "text": [
      "https://irecommend.ru/content/illyuziya-pobega-2023-film\n",
      "9\n",
      "https://irecommend.ru/content/skandal-2019-film-0\n",
      "26\n",
      "https://irecommend.ru/content/proniknovenie-2022-film\n",
      "31\n",
      "https://irecommend.ru/content/cheburashka-2022-film-0\n",
      "81\n",
      "https://irecommend.ru/content/cheburashka-2022-film-0?page=1\n",
      "131\n",
      "https://irecommend.ru/content/cheburashka-2022-film-0?page=2\n",
      "181\n",
      "https://irecommend.ru/content/cheburashka-2022-film-0?page=3\n",
      "231\n",
      "https://irecommend.ru/content/cheburashka-2022-film-0?page=4\n",
      "281\n",
      "https://irecommend.ru/content/cheburashka-2022-film-0?page=5\n",
      "331\n",
      "https://irecommend.ru/content/cheburashka-2022-film-0?page=6\n",
      "381\n",
      "https://irecommend.ru/content/cheburashka-2022-film-0?page=7\n",
      "386\n",
      "https://irecommend.ru/content/groza-2020-film\n",
      "396\n",
      "https://irecommend.ru/content/13-minut-2021-film\n",
      "405\n",
      "https://irecommend.ru/content/temnyi-mir\n",
      "434\n",
      "https://irecommend.ru/content/malefisenta-vladychitsa-tmy-maleficent-mistress-evil\n",
      "484\n",
      "https://irecommend.ru/content/malefisenta-vladychitsa-tmy-maleficent-mistress-evil?page=1\n",
      "534\n",
      "https://irecommend.ru/content/malefisenta-vladychitsa-tmy-maleficent-mistress-evil?page=2\n",
      "559\n"
     ]
    }
   ],
   "source": [
    "full_df = pd.DataFrame(columns=['Comment',  'Rating'])\n",
    "for url in pages:\n",
    "    full_df = appendData(url, full_df)\n",
    "    time.sleep(sleep)  "
   ]
  },
  {
   "cell_type": "code",
   "execution_count": 217,
   "metadata": {},
   "outputs": [
    {
     "data": {
      "text/html": [
       "<div>\n",
       "<style scoped>\n",
       "    .dataframe tbody tr th:only-of-type {\n",
       "        vertical-align: middle;\n",
       "    }\n",
       "\n",
       "    .dataframe tbody tr th {\n",
       "        vertical-align: top;\n",
       "    }\n",
       "\n",
       "    .dataframe thead th {\n",
       "        text-align: right;\n",
       "    }\n",
       "</style>\n",
       "<table border=\"1\" class=\"dataframe\">\n",
       "  <thead>\n",
       "    <tr style=\"text-align: right;\">\n",
       "      <th></th>\n",
       "      <th>Comment</th>\n",
       "      <th>Rating</th>\n",
       "    </tr>\n",
       "  </thead>\n",
       "  <tbody>\n",
       "    <tr>\n",
       "      <th>0</th>\n",
       "      <td>\"Перестань волноваться о том, что не можешь ко...</td>\n",
       "      <td>5</td>\n",
       "    </tr>\n",
       "    <tr>\n",
       "      <th>1</th>\n",
       "      <td>Двое пассажиров космического корабля, просыпаю...</td>\n",
       "      <td>4</td>\n",
       "    </tr>\n",
       "    <tr>\n",
       "      <th>2</th>\n",
       "      <td>Давно не видела таких бредовых фильмов. \"Пасса...</td>\n",
       "      <td>1</td>\n",
       "    </tr>\n",
       "    <tr>\n",
       "      <th>3</th>\n",
       "      <td>Человеку нужен человек. Если нельзя, но очень ...</td>\n",
       "      <td>5</td>\n",
       "    </tr>\n",
       "    <tr>\n",
       "      <th>4</th>\n",
       "      <td>Неплохая вариация на тему космоса и одиночества</td>\n",
       "      <td>4</td>\n",
       "    </tr>\n",
       "    <tr>\n",
       "      <th>...</th>\n",
       "      <td>...</td>\n",
       "      <td>...</td>\n",
       "    </tr>\n",
       "    <tr>\n",
       "      <th>6742</th>\n",
       "      <td>Фильм, который стоит посмотреть!</td>\n",
       "      <td>5</td>\n",
       "    </tr>\n",
       "    <tr>\n",
       "      <th>6743</th>\n",
       "      <td>Завораживающий - breathtaking!</td>\n",
       "      <td>5</td>\n",
       "    </tr>\n",
       "    <tr>\n",
       "      <th>6744</th>\n",
       "      <td>Малефисента-2 - сиквел удался, или мои впечатл...</td>\n",
       "      <td>4</td>\n",
       "    </tr>\n",
       "    <tr>\n",
       "      <th>6745</th>\n",
       "      <td>Вау!</td>\n",
       "      <td>5</td>\n",
       "    </tr>\n",
       "    <tr>\n",
       "      <th>6746</th>\n",
       "      <td>Красивая сказка с предсказуемым сюжетом. Поним...</td>\n",
       "      <td>4</td>\n",
       "    </tr>\n",
       "  </tbody>\n",
       "</table>\n",
       "<p>6747 rows × 2 columns</p>\n",
       "</div>"
      ],
      "text/plain": [
       "                                                Comment  Rating\n",
       "0     \"Перестань волноваться о том, что не можешь ко...       5\n",
       "1     Двое пассажиров космического корабля, просыпаю...       4\n",
       "2     Давно не видела таких бредовых фильмов. \"Пасса...       1\n",
       "3     Человеку нужен человек. Если нельзя, но очень ...       5\n",
       "4       Неплохая вариация на тему космоса и одиночества       4\n",
       "...                                                 ...     ...\n",
       "6742                  Фильм, который стоит посмотреть!        5\n",
       "6743                     Завораживающий - breathtaking!       5\n",
       "6744  Малефисента-2 - сиквел удался, или мои впечатл...       4\n",
       "6745                                               Вау!       5\n",
       "6746  Красивая сказка с предсказуемым сюжетом. Поним...       4\n",
       "\n",
       "[6747 rows x 2 columns]"
      ]
     },
     "execution_count": 217,
     "metadata": {},
     "output_type": "execute_result"
    }
   ],
   "source": [
    "full_df"
   ]
  },
  {
   "cell_type": "code",
   "execution_count": 176,
   "metadata": {},
   "outputs": [],
   "source": [
    "full_df['Comment'] = full_df['Comment'].astype( str )\n",
    "full_df['Rating'] = full_df['Rating'].astype(int)"
   ]
  },
  {
   "cell_type": "markdown",
   "metadata": {},
   "source": [
    "Сохраняем данные в файл, чтобы не потерять"
   ]
  },
  {
   "cell_type": "code",
   "execution_count": 179,
   "metadata": {},
   "outputs": [],
   "source": [
    "pd.to_pickle(full_df, \"data.pkl\")"
   ]
  },
  {
   "cell_type": "code",
   "execution_count": 177,
   "metadata": {},
   "outputs": [
    {
     "data": {
      "text/html": [
       "<div>\n",
       "<style scoped>\n",
       "    .dataframe tbody tr th:only-of-type {\n",
       "        vertical-align: middle;\n",
       "    }\n",
       "\n",
       "    .dataframe tbody tr th {\n",
       "        vertical-align: top;\n",
       "    }\n",
       "\n",
       "    .dataframe thead th {\n",
       "        text-align: right;\n",
       "    }\n",
       "</style>\n",
       "<table border=\"1\" class=\"dataframe\">\n",
       "  <thead>\n",
       "    <tr style=\"text-align: right;\">\n",
       "      <th></th>\n",
       "      <th>Comment</th>\n",
       "      <th>Rating</th>\n",
       "    </tr>\n",
       "  </thead>\n",
       "  <tbody>\n",
       "    <tr>\n",
       "      <th>0</th>\n",
       "      <td>\"Перестань волноваться о том, что не можешь ко...</td>\n",
       "      <td>5</td>\n",
       "    </tr>\n",
       "    <tr>\n",
       "      <th>1</th>\n",
       "      <td>Двое пассажиров космического корабля, просыпаю...</td>\n",
       "      <td>4</td>\n",
       "    </tr>\n",
       "    <tr>\n",
       "      <th>2</th>\n",
       "      <td>Давно не видела таких бредовых фильмов. \"Пасса...</td>\n",
       "      <td>1</td>\n",
       "    </tr>\n",
       "    <tr>\n",
       "      <th>3</th>\n",
       "      <td>Человеку нужен человек. Если нельзя, но очень ...</td>\n",
       "      <td>5</td>\n",
       "    </tr>\n",
       "    <tr>\n",
       "      <th>4</th>\n",
       "      <td>Неплохая вариация на тему космоса и одиночества</td>\n",
       "      <td>4</td>\n",
       "    </tr>\n",
       "    <tr>\n",
       "      <th>...</th>\n",
       "      <td>...</td>\n",
       "      <td>...</td>\n",
       "    </tr>\n",
       "    <tr>\n",
       "      <th>6183</th>\n",
       "      <td>Когда две реальности сливаются в одну, появляе...</td>\n",
       "      <td>3</td>\n",
       "    </tr>\n",
       "    <tr>\n",
       "      <th>6184</th>\n",
       "      <td>Трое вышли из леса, зайдя в него вшестером.</td>\n",
       "      <td>4</td>\n",
       "    </tr>\n",
       "    <tr>\n",
       "      <th>6185</th>\n",
       "      <td>«Иллюзия побега» - триллер о кризисе в отношен...</td>\n",
       "      <td>4</td>\n",
       "    </tr>\n",
       "    <tr>\n",
       "      <th>6186</th>\n",
       "      <td>\"Я хочу найти тебя и себя\"... Куда бы ты не бе...</td>\n",
       "      <td>4</td>\n",
       "    </tr>\n",
       "    <tr>\n",
       "      <th>6187</th>\n",
       "      <td>Максимально странный фильм, который мы до конц...</td>\n",
       "      <td>3</td>\n",
       "    </tr>\n",
       "  </tbody>\n",
       "</table>\n",
       "<p>6188 rows × 2 columns</p>\n",
       "</div>"
      ],
      "text/plain": [
       "                                                Comment  Rating\n",
       "0     \"Перестань волноваться о том, что не можешь ко...       5\n",
       "1     Двое пассажиров космического корабля, просыпаю...       4\n",
       "2     Давно не видела таких бредовых фильмов. \"Пасса...       1\n",
       "3     Человеку нужен человек. Если нельзя, но очень ...       5\n",
       "4       Неплохая вариация на тему космоса и одиночества       4\n",
       "...                                                 ...     ...\n",
       "6183  Когда две реальности сливаются в одну, появляе...       3\n",
       "6184        Трое вышли из леса, зайдя в него вшестером.       4\n",
       "6185  «Иллюзия побега» - триллер о кризисе в отношен...       4\n",
       "6186  \"Я хочу найти тебя и себя\"... Куда бы ты не бе...       4\n",
       "6187  Максимально странный фильм, который мы до конц...       3\n",
       "\n",
       "[6188 rows x 2 columns]"
      ]
     },
     "execution_count": 177,
     "metadata": {},
     "output_type": "execute_result"
    }
   ],
   "source": [
    "df = pd.read_pickle(\"data.pkl\")\n",
    "df"
   ]
  },
  {
   "cell_type": "code",
   "execution_count": 515,
   "metadata": {},
   "outputs": [],
   "source": [
    "#full_df = df.append(full_df, ignore_index=True)\n",
    "#full_df"
   ]
  },
  {
   "cell_type": "markdown",
   "metadata": {},
   "source": [
    "# Работа с текстом"
   ]
  },
  {
   "cell_type": "code",
   "execution_count": 180,
   "metadata": {},
   "outputs": [],
   "source": [
    "%matplotlib inline\n",
    "#! pip install pymorphy2\n",
    "import matplotlib.pyplot as plt\n",
    "import numpy as np\n",
    "import pandas as pd\n",
    "import json\n",
    "from tqdm import tqdm\n",
    "from sklearn.metrics import *\n",
    "import warnings\n",
    "warnings.filterwarnings(\"ignore\")"
   ]
  },
  {
   "cell_type": "markdown",
   "metadata": {},
   "source": [
    "Преобразуем dataframe в json"
   ]
  },
  {
   "cell_type": "code",
   "execution_count": 181,
   "metadata": {},
   "outputs": [],
   "source": [
    "data = full_df.to_json(orient='records')\n",
    "data = json.loads(data)"
   ]
  },
  {
   "cell_type": "code",
   "execution_count": 182,
   "metadata": {},
   "outputs": [
    {
     "data": {
      "text/plain": [
       "{'Comment': '\"Перестань волноваться о том, что не можешь контролировать, просто живи\" - пожалуй, это самый лучший жизненный совет|Робинзонада в космосе✨🌙|Один из моих любимых фильмов. Когда мне грустно, я включаю \"Пассажиры\".',\n",
       " 'Rating': 5}"
      ]
     },
     "execution_count": 182,
     "metadata": {},
     "output_type": "execute_result"
    }
   ],
   "source": [
    "data[0]"
   ]
  },
  {
   "cell_type": "code",
   "execution_count": 183,
   "metadata": {},
   "outputs": [
    {
     "name": "stdout",
     "output_type": "stream",
     "text": [
      "6747\n"
     ]
    },
    {
     "data": {
      "text/plain": [
       "[(5, 4469), (4, 1066), (3, 609), (2, 329), (1, 274)]"
      ]
     },
     "execution_count": 183,
     "metadata": {},
     "output_type": "execute_result"
    }
   ],
   "source": [
    "from collections import Counter\n",
    "print(len(data))\n",
    "Counter([x['Rating'] for x in data]).most_common()"
   ]
  },
  {
   "cell_type": "markdown",
   "metadata": {},
   "source": [
    "### Предобработка данных"
   ]
  },
  {
   "cell_type": "markdown",
   "metadata": {},
   "source": [
    "Удаляем стоп-слова, пунктуацию, смайлики и т.д."
   ]
  },
  {
   "cell_type": "code",
   "execution_count": 184,
   "metadata": {},
   "outputs": [
    {
     "name": "stderr",
     "output_type": "stream",
     "text": [
      "[nltk_data] Downloading package stopwords to\n",
      "[nltk_data]     C:\\Users\\tima-\\AppData\\Roaming\\nltk_data...\n",
      "[nltk_data]   Package stopwords is already up-to-date!\n"
     ]
    }
   ],
   "source": [
    "import nltk   # Natural Language Toolkit\n",
    "nltk.download('stopwords')\n",
    "stop_words = nltk.corpus.stopwords.words('russian')\n",
    "\n",
    "word_tokenizer = nltk.WordPunctTokenizer()"
   ]
  },
  {
   "cell_type": "code",
   "execution_count": 185,
   "metadata": {},
   "outputs": [],
   "source": [
    "import re\n",
    "regex = re.compile(r'[А-Яа-яA-zёЁ]+')\n",
    "\n",
    "\n",
    "def words_only(text, regex=regex):\n",
    "    try:\n",
    "        return \" \".join(regex.findall(text)).lower()\n",
    "    except:\n",
    "        return \"\"\n",
    "\n",
    "def process_data(data):\n",
    "    texts = []\n",
    "    targets = []\n",
    "\n",
    "    # поочередно проходим по всем новостям в списке\n",
    "    for item in tqdm(data):\n",
    "\n",
    "        text_lower = words_only(item['Comment']) # оставим только слова\n",
    "        tokens     = word_tokenizer.tokenize(text_lower) #разбиваем текст на слова\n",
    "\n",
    "        # удаляем пунктуацию и стоп-слова\n",
    "        tokens = [word for word in tokens if (word not in stop_words and not word.isnumeric())]\n",
    "\n",
    "        texts.append(tokens) # добавляем в предобработанный список\n",
    "\n",
    "    return texts"
   ]
  },
  {
   "cell_type": "code",
   "execution_count": 399,
   "metadata": {},
   "outputs": [
    {
     "name": "stderr",
     "output_type": "stream",
     "text": [
      "\n",
      "  0%|                                                                                         | 0/6747 [00:00<?, ?it/s]\u001b[A\n",
      "100%|███████████████████████████████████████████████████████████████████████████| 6747/6747 [00:00<00:00, 53224.06it/s]\u001b[A\n"
     ]
    }
   ],
   "source": [
    "y = [item['Rating'] for item in data]\n",
    "texts = process_data(data)"
   ]
  },
  {
   "cell_type": "code",
   "execution_count": 400,
   "metadata": {},
   "outputs": [
    {
     "name": "stdout",
     "output_type": "stream",
     "text": [
      "Rating:  4\n",
      "Comment:  ['двое', 'пассажиров', 'космического', 'корабля', 'просыпаются', 'раньше', 'положенного', 'лет', 'романтическая', 'история', 'космическом', 'корабле']\n"
     ]
    }
   ],
   "source": [
    "# example\n",
    "i = 1\n",
    "print(\"Rating: \", y[i])\n",
    "print(\"Comment: \", texts[i])"
   ]
  },
  {
   "cell_type": "markdown",
   "metadata": {},
   "source": [
    "### Нормализация слов"
   ]
  },
  {
   "cell_type": "code",
   "execution_count": 401,
   "metadata": {},
   "outputs": [],
   "source": [
    "# загружаем библиотеку для лемматизации\n",
    "import pymorphy2 # Морфологический анализатор\n",
    "\n",
    "# инициализируем лемматизатор :)\n",
    "morph = pymorphy2.MorphAnalyzer()"
   ]
  },
  {
   "cell_type": "code",
   "execution_count": 402,
   "metadata": {},
   "outputs": [
    {
     "name": "stdout",
     "output_type": "stream",
     "text": [
      "Исходное слово: двое\tЛемматизированное: двое\n",
      "Исходное слово: пассажиров\tЛемматизированное: пассажир\n",
      "Исходное слово: космического\tЛемматизированное: космический\n",
      "Исходное слово: корабля\tЛемматизированное: корабль\n",
      "Исходное слово: просыпаются\tЛемматизированное: просыпаться\n",
      "Исходное слово: раньше\tЛемматизированное: ранний\n",
      "Исходное слово: положенного\tЛемматизированное: положить\n",
      "Исходное слово: лет\tЛемматизированное: год\n",
      "Исходное слово: романтическая\tЛемматизированное: романтический\n",
      "Исходное слово: история\tЛемматизированное: история\n",
      "Исходное слово: космическом\tЛемматизированное: космический\n",
      "Исходное слово: корабле\tЛемматизированное: корабль\n"
     ]
    }
   ],
   "source": [
    "i = 1\n",
    "for aword in texts[i]:\n",
    "    aword_norm = morph.parse(aword)[0].normal_form\n",
    "    print(\"Исходное слово: %s\\tЛемматизированное: %s\" % (aword, aword_norm))"
   ]
  },
  {
   "cell_type": "code",
   "execution_count": 403,
   "metadata": {},
   "outputs": [],
   "source": [
    "# применяем лемматизацию ко всем текстам\n",
    "texts_normal = texts.copy()\n",
    "for i in range(len(texts)):           # tqdm_notebook создает шкалу прогресса :)\n",
    "    text_lemmatized = [morph.parse(x)[0].normal_form for x in texts[i]] # применяем лемматизацию для каждого слова в тексте\n",
    "    texts_normal[i] = ' '.join(text_lemmatized)                # объединяем все слова в одну строку через пробел"
   ]
  },
  {
   "cell_type": "code",
   "execution_count": 404,
   "metadata": {},
   "outputs": [
    {
     "name": "stdout",
     "output_type": "stream",
     "text": [
      "Rating:  4\n",
      "Comment:  двое пассажир космический корабль просыпаться ранний положить год романтический история космический корабль\n"
     ]
    }
   ],
   "source": [
    "# example\n",
    "i = 1\n",
    "print(\"Rating: \", y[i])\n",
    "print(\"Comment: \", texts_normal[i])"
   ]
  },
  {
   "cell_type": "markdown",
   "metadata": {},
   "source": [
    "<b>Преобразуем целевую переменную</b>\n",
    "\n",
    "```\n",
    "Где оценка 1-3 - это негативные отзывы\n",
    "Где оценка 4-5 - это положительные отзывы\n",
    "```"
   ]
  },
  {
   "cell_type": "code",
   "execution_count": 422,
   "metadata": {},
   "outputs": [],
   "source": [
    "# Функция для кодирования лейблов\n",
    "def num2boolean(y):\n",
    "    if y == 1 or y == 2 or y == 3:\n",
    "        return 0\n",
    "    if y == 4 or y == 5:\n",
    "        return 1\n",
    "\n",
    "y = [num2boolean(yy) for yy in y]"
   ]
  },
  {
   "cell_type": "code",
   "execution_count": 423,
   "metadata": {},
   "outputs": [
    {
     "data": {
      "text/plain": [
       "Counter({1: 5535, 0: 1212})"
      ]
     },
     "execution_count": 423,
     "metadata": {},
     "output_type": "execute_result"
    }
   ],
   "source": [
    "Counter(y)"
   ]
  },
  {
   "cell_type": "markdown",
   "metadata": {},
   "source": [
    "Разбиваем данные"
   ]
  },
  {
   "cell_type": "code",
   "execution_count": 424,
   "metadata": {},
   "outputs": [],
   "source": [
    "#train test_split\n",
    "from sklearn.model_selection import train_test_split\n",
    "train_texts, test_texts, train_y, test_y = train_test_split(texts_normal, y, test_size=0.20, random_state=42, stratify = y)"
   ]
  },
  {
   "cell_type": "markdown",
   "metadata": {},
   "source": [
    "### TF-IDF"
   ]
  },
  {
   "cell_type": "code",
   "execution_count": 425,
   "metadata": {},
   "outputs": [
    {
     "data": {
      "text/plain": [
       "['актёр',\n",
       " 'американский',\n",
       " 'бежать',\n",
       " 'быть',\n",
       " 'ваш',\n",
       " 'век',\n",
       " 'великий',\n",
       " 'великолепный',\n",
       " 'весь',\n",
       " 'вечный']"
      ]
     },
     "execution_count": 425,
     "metadata": {},
     "output_type": "execute_result"
    }
   ],
   "source": [
    "#вычисляем tf-idf\n",
    "from sklearn.feature_extraction.text import TfidfVectorizer\n",
    "# Fit TF-IDF on train texts\n",
    "vectorizer = TfidfVectorizer(max_features = 200, norm = None) # возмем топ 200 слов\n",
    "vectorizer.fit(train_texts)\n",
    "\n",
    "# Топ-10 слов\n",
    "vectorizer.get_feature_names()[:10]"
   ]
  },
  {
   "cell_type": "code",
   "execution_count": 426,
   "metadata": {},
   "outputs": [],
   "source": [
    "# Обучаем TF-IDF на train, а затем применяем к train и test\n",
    "train_X = vectorizer.fit_transform(train_texts)\n",
    "test_X  = vectorizer.transform(test_texts)"
   ]
  },
  {
   "cell_type": "markdown",
   "metadata": {},
   "source": [
    "### Обучаем классификатор:  Случайный лес (RandomForest)"
   ]
  },
  {
   "cell_type": "code",
   "execution_count": 427,
   "metadata": {},
   "outputs": [],
   "source": [
    "#import алгоритма из библиотеки\n",
    "from sklearn.ensemble import RandomForestClassifier\n",
    "\n",
    "# инициализируем модель\n",
    "clf = RandomForestClassifier(n_estimators = 1500, max_depth = 50)\n",
    "\n",
    "# обучаем ее на тренировочных данных\n",
    "clf = clf.fit(train_X, train_y)\n",
    "\n",
    "# делаем предсказание для тестовых данных\n",
    "pred = clf.predict(test_X)\n",
    "pred_proba = clf.predict_proba(test_X)"
   ]
  },
  {
   "cell_type": "code",
   "execution_count": 428,
   "metadata": {},
   "outputs": [
    {
     "name": "stdout",
     "output_type": "stream",
     "text": [
      "Accuracy:  0.8244444444444444\n",
      "F1:  0.513945118866586\n"
     ]
    }
   ],
   "source": [
    "print('Accuracy: ', accuracy_score(test_y, pred))\n",
    "print('F1: ', f1_score(test_y, pred, average = 'macro'))"
   ]
  },
  {
   "cell_type": "code",
   "execution_count": 430,
   "metadata": {},
   "outputs": [
    {
     "name": "stdout",
     "output_type": "stream",
     "text": [
      "              precision    recall  f1-score   support\n",
      "\n",
      "           0       0.61      0.07      0.13       243\n",
      "           1       0.83      0.99      0.90      1107\n",
      "\n",
      "    accuracy                           0.82      1350\n",
      "   macro avg       0.72      0.53      0.51      1350\n",
      "weighted avg       0.79      0.82      0.76      1350\n",
      "\n"
     ]
    }
   ],
   "source": [
    "print(classification_report(test_y, pred))"
   ]
  },
  {
   "cell_type": "code",
   "execution_count": 442,
   "metadata": {},
   "outputs": [
    {
     "data": {
      "text/plain": [
       "0.7490604124148239"
      ]
     },
     "execution_count": 442,
     "metadata": {},
     "output_type": "execute_result"
    }
   ],
   "source": [
    "roc_auc_score(test_y, pred_proba[:,1], average='macro')"
   ]
  },
  {
   "cell_type": "markdown",
   "metadata": {},
   "source": [
    "### Стохастический градиентый спуск"
   ]
  },
  {
   "cell_type": "code",
   "execution_count": 443,
   "metadata": {},
   "outputs": [],
   "source": [
    "from sklearn.linear_model import SGDClassifier\n",
    "clf = SGDClassifier(alpha=.00001, max_iter=300, penalty=\"l1\", loss=\"log\", shuffle=True, random_state=42)\n",
    "\n",
    "# обучаем ее на тренировочных данных\n",
    "clf = clf.fit(train_X, train_y)\n",
    "\n",
    "# делаем предсказание для тестовых данных\n",
    "pred = clf.predict(test_X)\n",
    "pred_proba = clf.predict_proba(test_X)"
   ]
  },
  {
   "cell_type": "code",
   "execution_count": 444,
   "metadata": {},
   "outputs": [
    {
     "name": "stdout",
     "output_type": "stream",
     "text": [
      "Accuracy:  0.7896296296296297\n",
      "F1:  0.5511820978549455\n"
     ]
    }
   ],
   "source": [
    "print('Accuracy: ', accuracy_score(test_y, pred))\n",
    "print('F1: ', f1_score(test_y, pred, average = 'macro'))"
   ]
  },
  {
   "cell_type": "code",
   "execution_count": 445,
   "metadata": {},
   "outputs": [
    {
     "name": "stdout",
     "output_type": "stream",
     "text": [
      "              precision    recall  f1-score   support\n",
      "\n",
      "           0       0.33      0.17      0.22       243\n",
      "           1       0.84      0.93      0.88      1107\n",
      "\n",
      "    accuracy                           0.79      1350\n",
      "   macro avg       0.58      0.55      0.55      1350\n",
      "weighted avg       0.75      0.79      0.76      1350\n",
      "\n"
     ]
    }
   ],
   "source": [
    "print(classification_report(test_y, pred))"
   ]
  },
  {
   "cell_type": "code",
   "execution_count": 446,
   "metadata": {},
   "outputs": [
    {
     "data": {
      "text/plain": [
       "0.6654343292404118"
      ]
     },
     "execution_count": 446,
     "metadata": {},
     "output_type": "execute_result"
    }
   ],
   "source": [
    "roc_auc_score(test_y, pred_proba[:,1], average='macro')"
   ]
  },
  {
   "cell_type": "markdown",
   "metadata": {},
   "source": [
    "### Метод Опорных Векторов (SVM)"
   ]
  },
  {
   "cell_type": "code",
   "execution_count": 447,
   "metadata": {},
   "outputs": [],
   "source": [
    "from sklearn.svm import SVC\n",
    "clf = SVC(probability=True)\n",
    "# обучаем ее на тренировочных данных\n",
    "clf = clf.fit(train_X, train_y)\n",
    "\n",
    "# делаем предсказание для тестовых данных\n",
    "pred = clf.predict(test_X)\n",
    "pred_proba = clf.predict_proba(test_X)"
   ]
  },
  {
   "cell_type": "code",
   "execution_count": 448,
   "metadata": {},
   "outputs": [
    {
     "name": "stdout",
     "output_type": "stream",
     "text": [
      "Accuracy:  0.8244444444444444\n",
      "F1:  0.48682785997834715\n"
     ]
    }
   ],
   "source": [
    "print('Accuracy: ', accuracy_score(test_y, pred))\n",
    "print('F1: ', f1_score(test_y, pred, average = 'macro'))"
   ]
  },
  {
   "cell_type": "code",
   "execution_count": 481,
   "metadata": {},
   "outputs": [
    {
     "name": "stdout",
     "output_type": "stream",
     "text": [
      "              precision    recall  f1-score   support\n",
      "\n",
      "           0       0.30      0.77      0.43       243\n",
      "           1       0.92      0.60      0.73      1107\n",
      "\n",
      "    accuracy                           0.63      1350\n",
      "   macro avg       0.61      0.69      0.58      1350\n",
      "weighted avg       0.81      0.63      0.68      1350\n",
      "\n"
     ]
    }
   ],
   "source": [
    "print(classification_report(test_y, pred))"
   ]
  },
  {
   "cell_type": "code",
   "execution_count": 449,
   "metadata": {},
   "outputs": [
    {
     "data": {
      "text/plain": [
       "0.5770610518176512"
      ]
     },
     "execution_count": 449,
     "metadata": {},
     "output_type": "execute_result"
    }
   ],
   "source": [
    "roc_auc_score(test_y, pred_proba[:,1], average='macro')"
   ]
  },
  {
   "cell_type": "markdown",
   "metadata": {},
   "source": [
    "### Выводы"
   ]
  },
  {
   "cell_type": "markdown",
   "metadata": {},
   "source": [
    "Были рассмотрены три классификатора\n",
    "\n",
    "Точность:\n",
    "\n",
    "    RandomForest - 0.8244444444444444\n",
    "    SVN - 0.8244444444444444\n",
    "    SGD - 0.7896296296296297\n",
    "\n",
    "Но у RandomForest - лучше ROC (0.7490604124148239), чем у SVN (0.5770610518176512)"
   ]
  }
 ],
 "metadata": {
  "kernelspec": {
   "display_name": "Python 3",
   "language": "python",
   "name": "python3"
  },
  "language_info": {
   "codemirror_mode": {
    "name": "ipython",
    "version": 3
   },
   "file_extension": ".py",
   "mimetype": "text/x-python",
   "name": "python",
   "nbconvert_exporter": "python",
   "pygments_lexer": "ipython3",
   "version": "3.7.6"
  }
 },
 "nbformat": 4,
 "nbformat_minor": 4
}
